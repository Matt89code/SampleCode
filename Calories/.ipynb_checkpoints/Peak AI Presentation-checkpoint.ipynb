{
 "cells": [
  {
   "cell_type": "code",
   "execution_count": 70,
   "id": "e81372ab",
   "metadata": {
    "slideshow": {
     "slide_type": "notes"
    }
   },
   "outputs": [
    {
     "data": {
      "text/plain": [
       "{'scroll': True}"
      ]
     },
     "execution_count": 70,
     "metadata": {},
     "output_type": "execute_result"
    }
   ],
   "source": [
    "from traitlets.config.manager import BaseJSONConfigManager\n",
    "from pathlib import Path\n",
    "\n",
    "path = Path.home() / \".jupyter\" / \"nbconfig\"\n",
    "cm = BaseJSONConfigManager(config_dir=str(path))\n",
    "cm.update(\"rise\", {\"scroll\": True})"
   ]
  },
  {
   "cell_type": "markdown",
   "id": "8a99102c",
   "metadata": {
    "slideshow": {
     "slide_type": "slide"
    }
   },
   "source": [
    "# Tri & Health Data \n",
    "\n",
    "# Calorie ML Model"
   ]
  },
  {
   "cell_type": "markdown",
   "id": "7a3eb432",
   "metadata": {
    "slideshow": {
     "slide_type": "slide"
    }
   },
   "source": [
    "# Story and Background"
   ]
  },
  {
   "cell_type": "markdown",
   "id": "1ed753fe",
   "metadata": {
    "heading_collapsed": true,
    "slideshow": {
     "slide_type": "subslide"
    }
   },
   "source": [
    "## Raw Dataset\n",
    "\n",
    "\n",
    "<table>\n",
    "    <tr>\n",
    "        <td><img src='bike.jpg' alt='Your Image' width='300' height='80'></td>\n",
    "        <td>\n",
    "            <ul>\n",
    "                <li><em>  Uncleaned</em></li>\n",
    "                <li><em>  Not Processed</em></li>\n",
    "                <li><em>  Not Trained</em></li>\n",
    "                <li><em>  No Target y</em></li>\n",
    "                <li><em>  .Fit Underfitted</em></li>\n",
    "            </ul>\n",
    "        </td>\n",
    "    </tr>\n",
    "</table>\n",
    "\n",
    "\n",
    "\n"
   ]
  },
  {
   "cell_type": "markdown",
   "id": "e8086342",
   "metadata": {
    "slideshow": {
     "slide_type": "subslide"
    }
   },
   "source": [
    "## Processed Dataset\n",
    "\n",
    "<table>\n",
    "    <tr>\n",
    "        <td><img src='TT.jpg' alt='Your Image' width='400' height='240'></td>\n",
    "        <td>\n",
    "            <ul>\n",
    "                <li><em>  Cleaned</em></li>\n",
    "                <li><em>  Processed</em></li>\n",
    "                <li><em>  .transform .fit</em></li>\n",
    "                <li><em>  .model</em></li>\n",
    "                <li><em>  .score .metric</em></li>\n",
    "                <li><em>  .fit Fine Tuning</em></li>\n",
    "            </ul>\n",
    "        </td>\n",
    "    </tr>\n",
    "</table>\n"
   ]
  },
  {
   "cell_type": "markdown",
   "id": "ef4f786c",
   "metadata": {
    "slideshow": {
     "slide_type": "subslide"
    }
   },
   "source": [
    "## 4th Discipline of a Triathlon\n",
    "\n",
    "Nutrition \n",
    "\n",
    "- What to eat?\n",
    "- Race Weight?\n",
    "- How much to eat?\n",
    "\n",
    "\n",
    "Problem Statement! \n",
    "\n",
    "How much should one eat that fits around training? \n",
    "\n",
    "Wouldnt it be great if there was...\n",
    "**A Personalised Calorie Requirements for a given Training Day**"
   ]
  },
  {
   "cell_type": "markdown",
   "id": "8c60de39",
   "metadata": {
    "slideshow": {
     "slide_type": "subslide"
    }
   },
   "source": [
    "<h1>Data Sourcing</h1>\n",
    "\n",
    "### Collect via manually typing data into a CSV file\n",
    "<h3>Daily updating and collecting data</h3>\n",
    "\n"
   ]
  },
  {
   "cell_type": "code",
   "execution_count": 136,
   "id": "44c68548",
   "metadata": {
    "slideshow": {
     "slide_type": "fragment"
    }
   },
   "outputs": [
    {
     "data": {
      "text/html": [
       "<div>\n",
       "<style scoped>\n",
       "    .dataframe tbody tr th:only-of-type {\n",
       "        vertical-align: middle;\n",
       "    }\n",
       "\n",
       "    .dataframe tbody tr th {\n",
       "        vertical-align: top;\n",
       "    }\n",
       "\n",
       "    .dataframe thead th {\n",
       "        text-align: right;\n",
       "    }\n",
       "</style>\n",
       "<table border=\"1\" class=\"dataframe\">\n",
       "  <thead>\n",
       "    <tr style=\"text-align: right;\">\n",
       "      <th></th>\n",
       "      <th>Date</th>\n",
       "      <th>Sleep</th>\n",
       "      <th>Activity Type</th>\n",
       "      <th>Activity Duration</th>\n",
       "      <th>TSS</th>\n",
       "      <th>Weight</th>\n",
       "      <th>HRV</th>\n",
       "      <th>Steps</th>\n",
       "      <th>Cals_burnt</th>\n",
       "      <th>Cals</th>\n",
       "      <th>Carbs</th>\n",
       "      <th>Fats</th>\n",
       "      <th>Protein</th>\n",
       "      <th>Sensation</th>\n",
       "    </tr>\n",
       "  </thead>\n",
       "  <tbody>\n",
       "    <tr>\n",
       "      <th>0</th>\n",
       "      <td>22/05/2017</td>\n",
       "      <td>7.1</td>\n",
       "      <td>Swim, Run</td>\n",
       "      <td>125.0</td>\n",
       "      <td>154</td>\n",
       "      <td>87.7</td>\n",
       "      <td>NaN</td>\n",
       "      <td>13894.0</td>\n",
       "      <td>4600.0</td>\n",
       "      <td>3600.0</td>\n",
       "      <td>NaN</td>\n",
       "      <td>NaN</td>\n",
       "      <td>135.0</td>\n",
       "      <td>7.0</td>\n",
       "    </tr>\n",
       "    <tr>\n",
       "      <th>1</th>\n",
       "      <td>23/05/2017</td>\n",
       "      <td>6.3</td>\n",
       "      <td>Swim</td>\n",
       "      <td>45.0</td>\n",
       "      <td>78</td>\n",
       "      <td>NaN</td>\n",
       "      <td>NaN</td>\n",
       "      <td>12739.0</td>\n",
       "      <td>3459.0</td>\n",
       "      <td>3700.0</td>\n",
       "      <td>NaN</td>\n",
       "      <td>NaN</td>\n",
       "      <td>75.0</td>\n",
       "      <td>4.0</td>\n",
       "    </tr>\n",
       "    <tr>\n",
       "      <th>2</th>\n",
       "      <td>24/05/2017</td>\n",
       "      <td>6.7</td>\n",
       "      <td>NaN</td>\n",
       "      <td>NaN</td>\n",
       "      <td>0</td>\n",
       "      <td>NaN</td>\n",
       "      <td>NaN</td>\n",
       "      <td>3324.0</td>\n",
       "      <td>2629.0</td>\n",
       "      <td>2210.0</td>\n",
       "      <td>NaN</td>\n",
       "      <td>NaN</td>\n",
       "      <td>75.0</td>\n",
       "      <td>8.0</td>\n",
       "    </tr>\n",
       "    <tr>\n",
       "      <th>3</th>\n",
       "      <td>25/05/2017</td>\n",
       "      <td>7.6</td>\n",
       "      <td>Swim, Gym</td>\n",
       "      <td>142.0</td>\n",
       "      <td>155</td>\n",
       "      <td>NaN</td>\n",
       "      <td>NaN</td>\n",
       "      <td>11532.0</td>\n",
       "      <td>4327.0</td>\n",
       "      <td>4580.0</td>\n",
       "      <td>NaN</td>\n",
       "      <td>NaN</td>\n",
       "      <td>120.0</td>\n",
       "      <td>7.0</td>\n",
       "    </tr>\n",
       "    <tr>\n",
       "      <th>4</th>\n",
       "      <td>26/05/2017</td>\n",
       "      <td>8.7</td>\n",
       "      <td>Run</td>\n",
       "      <td>68.0</td>\n",
       "      <td>60</td>\n",
       "      <td>NaN</td>\n",
       "      <td>NaN</td>\n",
       "      <td>10479.0</td>\n",
       "      <td>3363.0</td>\n",
       "      <td>3590.0</td>\n",
       "      <td>NaN</td>\n",
       "      <td>NaN</td>\n",
       "      <td>80.0</td>\n",
       "      <td>9.0</td>\n",
       "    </tr>\n",
       "  </tbody>\n",
       "</table>\n",
       "</div>"
      ],
      "text/plain": [
       "         Date  Sleep Activity Type  Activity Duration  TSS  Weight  HRV  \\\n",
       "0  22/05/2017    7.1     Swim, Run              125.0  154    87.7  NaN   \n",
       "1  23/05/2017    6.3          Swim               45.0   78     NaN  NaN   \n",
       "2  24/05/2017    6.7           NaN                NaN    0     NaN  NaN   \n",
       "3  25/05/2017    7.6     Swim, Gym              142.0  155     NaN  NaN   \n",
       "4  26/05/2017    8.7           Run               68.0   60     NaN  NaN   \n",
       "\n",
       "     Steps  Cals_burnt    Cals  Carbs  Fats  Protein  Sensation  \n",
       "0  13894.0      4600.0  3600.0    NaN   NaN    135.0        7.0  \n",
       "1  12739.0      3459.0  3700.0    NaN   NaN     75.0        4.0  \n",
       "2   3324.0      2629.0  2210.0    NaN   NaN     75.0        8.0  \n",
       "3  11532.0      4327.0  4580.0    NaN   NaN    120.0        7.0  \n",
       "4  10479.0      3363.0  3590.0    NaN   NaN     80.0        9.0  "
      ]
     },
     "execution_count": 136,
     "metadata": {},
     "output_type": "execute_result"
    }
   ],
   "source": [
    "import pandas as pd\n",
    "\n",
    "df = pd.read_csv('tri_health_data.csv')\n",
    "df.head(5)"
   ]
  },
  {
   "cell_type": "markdown",
   "id": "0cc32198",
   "metadata": {
    "slideshow": {
     "slide_type": "subslide"
    }
   },
   "source": [
    "## Data Overview"
   ]
  },
  {
   "cell_type": "code",
   "execution_count": 137,
   "id": "6ec929e7",
   "metadata": {},
   "outputs": [
    {
     "data": {
      "text/plain": [
       "((1034, 14), 14476)"
      ]
     },
     "execution_count": 137,
     "metadata": {},
     "output_type": "execute_result"
    }
   ],
   "source": [
    "df.shape, df.size"
   ]
  },
  {
   "cell_type": "code",
   "execution_count": 138,
   "id": "4ecb7676",
   "metadata": {},
   "outputs": [
    {
     "data": {
      "text/plain": [
       "['Date',\n",
       " 'Sleep',\n",
       " 'Activity Type',\n",
       " 'Activity Duration',\n",
       " 'TSS',\n",
       " 'Weight',\n",
       " 'HRV',\n",
       " 'Steps',\n",
       " 'Cals_burnt',\n",
       " 'Cals',\n",
       " 'Carbs',\n",
       " 'Fats',\n",
       " 'Protein',\n",
       " 'Sensation']"
      ]
     },
     "execution_count": 138,
     "metadata": {},
     "output_type": "execute_result"
    }
   ],
   "source": [
    "column_titles = list(df.columns)\n",
    "column_titles"
   ]
  },
  {
   "cell_type": "markdown",
   "id": "7cf51019",
   "metadata": {
    "slideshow": {
     "slide_type": "subslide"
    }
   },
   "source": [
    "## Data Overview"
   ]
  },
  {
   "cell_type": "code",
   "execution_count": 141,
   "id": "76039422",
   "metadata": {
    "scrolled": false,
    "slideshow": {
     "slide_type": "-"
    }
   },
   "outputs": [
    {
     "data": {
      "image/png": "[encoded data removed]",
      "text/plain": [
       "<Figure size 432x288 with 1 Axes>"
      ]
     },
     "metadata": {
      "needs_background": "light"
     },
     "output_type": "display_data"
    },
    {
     "data": {
      "text/html": [
       "<div>\n",
       "<style scoped>\n",
       "    .dataframe tbody tr th:only-of-type {\n",
       "        vertical-align: middle;\n",
       "    }\n",
       "\n",
       "    .dataframe tbody tr th {\n",
       "        vertical-align: top;\n",
       "    }\n",
       "\n",
       "    .dataframe thead th {\n",
       "        text-align: right;\n",
       "    }\n",
       "</style>\n",
       "<table border=\"1\" class=\"dataframe\">\n",
       "  <thead>\n",
       "    <tr style=\"text-align: right;\">\n",
       "      <th></th>\n",
       "      <th>Column Name</th>\n",
       "      <th>Number of NaN Values</th>\n",
       "      <th>Percentage of NaN Values</th>\n",
       "    </tr>\n",
       "  </thead>\n",
       "  <tbody>\n",
       "    <tr>\n",
       "      <th>10</th>\n",
       "      <td>Carbs</td>\n",
       "      <td>980</td>\n",
       "      <td>94.78</td>\n",
       "    </tr>\n",
       "    <tr>\n",
       "      <th>11</th>\n",
       "      <td>Fats</td>\n",
       "      <td>980</td>\n",
       "      <td>94.78</td>\n",
       "    </tr>\n",
       "    <tr>\n",
       "      <th>6</th>\n",
       "      <td>HRV</td>\n",
       "      <td>900</td>\n",
       "      <td>87.04</td>\n",
       "    </tr>\n",
       "    <tr>\n",
       "      <th>5</th>\n",
       "      <td>Weight</td>\n",
       "      <td>768</td>\n",
       "      <td>74.27</td>\n",
       "    </tr>\n",
       "    <tr>\n",
       "      <th>12</th>\n",
       "      <td>Protein</td>\n",
       "      <td>212</td>\n",
       "      <td>20.50</td>\n",
       "    </tr>\n",
       "    <tr>\n",
       "      <th>3</th>\n",
       "      <td>Activity Duration</td>\n",
       "      <td>156</td>\n",
       "      <td>15.09</td>\n",
       "    </tr>\n",
       "    <tr>\n",
       "      <th>2</th>\n",
       "      <td>Activity Type</td>\n",
       "      <td>154</td>\n",
       "      <td>14.89</td>\n",
       "    </tr>\n",
       "    <tr>\n",
       "      <th>9</th>\n",
       "      <td>Cals</td>\n",
       "      <td>93</td>\n",
       "      <td>8.99</td>\n",
       "    </tr>\n",
       "    <tr>\n",
       "      <th>13</th>\n",
       "      <td>Sensation</td>\n",
       "      <td>93</td>\n",
       "      <td>8.99</td>\n",
       "    </tr>\n",
       "    <tr>\n",
       "      <th>1</th>\n",
       "      <td>Sleep</td>\n",
       "      <td>18</td>\n",
       "      <td>1.74</td>\n",
       "    </tr>\n",
       "    <tr>\n",
       "      <th>7</th>\n",
       "      <td>Steps</td>\n",
       "      <td>18</td>\n",
       "      <td>1.74</td>\n",
       "    </tr>\n",
       "    <tr>\n",
       "      <th>8</th>\n",
       "      <td>Cals_burnt</td>\n",
       "      <td>18</td>\n",
       "      <td>1.74</td>\n",
       "    </tr>\n",
       "    <tr>\n",
       "      <th>0</th>\n",
       "      <td>Date</td>\n",
       "      <td>0</td>\n",
       "      <td>0.00</td>\n",
       "    </tr>\n",
       "    <tr>\n",
       "      <th>4</th>\n",
       "      <td>TSS</td>\n",
       "      <td>0</td>\n",
       "      <td>0.00</td>\n",
       "    </tr>\n",
       "  </tbody>\n",
       "</table>\n",
       "</div>"
      ],
      "text/plain": [
       "          Column Name  Number of NaN Values  Percentage of NaN Values\n",
       "10              Carbs                   980                     94.78\n",
       "11               Fats                   980                     94.78\n",
       "6                 HRV                   900                     87.04\n",
       "5              Weight                   768                     74.27\n",
       "12            Protein                   212                     20.50\n",
       "3   Activity Duration                   156                     15.09\n",
       "2       Activity Type                   154                     14.89\n",
       "9                Cals                    93                      8.99\n",
       "13          Sensation                    93                      8.99\n",
       "1               Sleep                    18                      1.74\n",
       "7               Steps                    18                      1.74\n",
       "8          Cals_burnt                    18                      1.74\n",
       "0                Date                     0                      0.00\n",
       "4                 TSS                     0                      0.00"
      ]
     },
     "execution_count": 141,
     "metadata": {},
     "output_type": "execute_result"
    }
   ],
   "source": [
    "import numpy as np\n",
    "import matplotlib.pyplot as plt\n",
    "\n",
    "nan_counts = df.isna().sum()\n",
    "count_date = df['Date'].count()\n",
    "\n",
    "\n",
    "nan_counts.plot(kind='bar', color='skyblue')\n",
    "plt.title(f'Number of NaN values in each column / {count_date}')\n",
    "plt.ylabel('Count')\n",
    "plt.xlabel('Column Name')\n",
    "plt.show()\n",
    "\n",
    "nan_percentage = (nan_counts / len(df)) * 100\n",
    "\n",
    "# Create a new DataFrame to store the results\n",
    "nan_df = pd.DataFrame({\n",
    "    'Column Name': nan_counts.index,\n",
    "    'Number of NaN Values': nan_counts.values,\n",
    "    'Percentage of NaN Values': nan_percentage.round(2).values\n",
    "})\n",
    "\n",
    "nan_df = nan_df.sort_values(by='Percentage of NaN Values', ascending=False)\n",
    "\n",
    "nan_df"
   ]
  },
  {
   "cell_type": "markdown",
   "id": "f6ddeacf",
   "metadata": {
    "slideshow": {
     "slide_type": "subslide"
    }
   },
   "source": [
    "## Data Cleaning"
   ]
  },
  {
   "cell_type": "markdown",
   "id": "eb0d19b8",
   "metadata": {},
   "source": [
    "### Check for duplicated values in the DataFrame"
   ]
  },
  {
   "cell_type": "code",
   "execution_count": 32,
   "id": "7d0f7bf6",
   "metadata": {},
   "outputs": [
    {
     "data": {
      "text/plain": [
       "0"
      ]
     },
     "execution_count": 32,
     "metadata": {},
     "output_type": "execute_result"
    }
   ],
   "source": [
    "duplicates = df.duplicated().sum()\n",
    "duplicates"
   ]
  },
  {
   "cell_type": "markdown",
   "id": "9185729c",
   "metadata": {
    "slideshow": {
     "slide_type": "subslide"
    }
   },
   "source": [
    "### Columns Carbs Fats and HRV"
   ]
  },
  {
   "cell_type": "code",
   "execution_count": 33,
   "id": "f13bd74b",
   "metadata": {},
   "outputs": [
    {
     "data": {
      "text/html": [
       "<div>\n",
       "<style scoped>\n",
       "    .dataframe tbody tr th:only-of-type {\n",
       "        vertical-align: middle;\n",
       "    }\n",
       "\n",
       "    .dataframe tbody tr th {\n",
       "        vertical-align: top;\n",
       "    }\n",
       "\n",
       "    .dataframe thead th {\n",
       "        text-align: right;\n",
       "    }\n",
       "</style>\n",
       "<table border=\"1\" class=\"dataframe\">\n",
       "  <thead>\n",
       "    <tr style=\"text-align: right;\">\n",
       "      <th></th>\n",
       "      <th>Date</th>\n",
       "      <th>Sleep</th>\n",
       "      <th>Activity Type</th>\n",
       "      <th>Activity Duration</th>\n",
       "      <th>TSS</th>\n",
       "      <th>Weight</th>\n",
       "      <th>Steps</th>\n",
       "      <th>Cals_burnt</th>\n",
       "      <th>Cals</th>\n",
       "      <th>Protein</th>\n",
       "      <th>Sensation</th>\n",
       "    </tr>\n",
       "  </thead>\n",
       "  <tbody>\n",
       "    <tr>\n",
       "      <th>0</th>\n",
       "      <td>22/05/2017</td>\n",
       "      <td>7.1</td>\n",
       "      <td>Swim, Run</td>\n",
       "      <td>125.0</td>\n",
       "      <td>154</td>\n",
       "      <td>87.7</td>\n",
       "      <td>13894.0</td>\n",
       "      <td>4600.0</td>\n",
       "      <td>3600.0</td>\n",
       "      <td>135.0</td>\n",
       "      <td>7.0</td>\n",
       "    </tr>\n",
       "    <tr>\n",
       "      <th>1</th>\n",
       "      <td>23/05/2017</td>\n",
       "      <td>6.3</td>\n",
       "      <td>Swim</td>\n",
       "      <td>45.0</td>\n",
       "      <td>78</td>\n",
       "      <td>NaN</td>\n",
       "      <td>12739.0</td>\n",
       "      <td>3459.0</td>\n",
       "      <td>3700.0</td>\n",
       "      <td>75.0</td>\n",
       "      <td>4.0</td>\n",
       "    </tr>\n",
       "    <tr>\n",
       "      <th>2</th>\n",
       "      <td>24/05/2017</td>\n",
       "      <td>6.7</td>\n",
       "      <td>NaN</td>\n",
       "      <td>NaN</td>\n",
       "      <td>0</td>\n",
       "      <td>NaN</td>\n",
       "      <td>3324.0</td>\n",
       "      <td>2629.0</td>\n",
       "      <td>2210.0</td>\n",
       "      <td>75.0</td>\n",
       "      <td>8.0</td>\n",
       "    </tr>\n",
       "    <tr>\n",
       "      <th>3</th>\n",
       "      <td>25/05/2017</td>\n",
       "      <td>7.6</td>\n",
       "      <td>Swim, Gym</td>\n",
       "      <td>142.0</td>\n",
       "      <td>155</td>\n",
       "      <td>NaN</td>\n",
       "      <td>11532.0</td>\n",
       "      <td>4327.0</td>\n",
       "      <td>4580.0</td>\n",
       "      <td>120.0</td>\n",
       "      <td>7.0</td>\n",
       "    </tr>\n",
       "    <tr>\n",
       "      <th>4</th>\n",
       "      <td>26/05/2017</td>\n",
       "      <td>8.7</td>\n",
       "      <td>Run</td>\n",
       "      <td>68.0</td>\n",
       "      <td>60</td>\n",
       "      <td>NaN</td>\n",
       "      <td>10479.0</td>\n",
       "      <td>3363.0</td>\n",
       "      <td>3590.0</td>\n",
       "      <td>80.0</td>\n",
       "      <td>9.0</td>\n",
       "    </tr>\n",
       "  </tbody>\n",
       "</table>\n",
       "</div>"
      ],
      "text/plain": [
       "         Date  Sleep Activity Type  Activity Duration  TSS  Weight    Steps  \\\n",
       "0  22/05/2017    7.1     Swim, Run              125.0  154    87.7  13894.0   \n",
       "1  23/05/2017    6.3          Swim               45.0   78     NaN  12739.0   \n",
       "2  24/05/2017    6.7           NaN                NaN    0     NaN   3324.0   \n",
       "3  25/05/2017    7.6     Swim, Gym              142.0  155     NaN  11532.0   \n",
       "4  26/05/2017    8.7           Run               68.0   60     NaN  10479.0   \n",
       "\n",
       "   Cals_burnt    Cals  Protein  Sensation  \n",
       "0      4600.0  3600.0    135.0        7.0  \n",
       "1      3459.0  3700.0     75.0        4.0  \n",
       "2      2629.0  2210.0     75.0        8.0  \n",
       "3      4327.0  4580.0    120.0        7.0  \n",
       "4      3363.0  3590.0     80.0        9.0  "
      ]
     },
     "execution_count": 33,
     "metadata": {},
     "output_type": "execute_result"
    }
   ],
   "source": [
    "df.drop(columns=['Fats','Carbs','HRV'], inplace=True)\n",
    "df.head(5)"
   ]
  },
  {
   "cell_type": "markdown",
   "id": "1d21ea2a",
   "metadata": {
    "slideshow": {
     "slide_type": "subslide"
    }
   },
   "source": [
    "### Weight"
   ]
  },
  {
   "cell_type": "code",
   "execution_count": 34,
   "id": "b8954ae3",
   "metadata": {},
   "outputs": [
    {
     "data": {
      "text/plain": [
       "0       87.7\n",
       "1       87.7\n",
       "2       87.7\n",
       "3       87.7\n",
       "4       87.7\n",
       "        ... \n",
       "1029    90.6\n",
       "1030    90.6\n",
       "1031    90.6\n",
       "1032    90.6\n",
       "1033    90.6\n",
       "Name: Weight, Length: 1034, dtype: float64"
      ]
     },
     "execution_count": 34,
     "metadata": {},
     "output_type": "execute_result"
    }
   ],
   "source": [
    "#auto filling in the gaps between me weighing myself \n",
    "\n",
    "df['Weight'].fillna(method='ffill', inplace=True)\n",
    "df['Weight']"
   ]
  },
  {
   "cell_type": "markdown",
   "id": "87593719",
   "metadata": {
    "slideshow": {
     "slide_type": "subslide"
    }
   },
   "source": [
    "### Protein "
   ]
  },
  {
   "cell_type": "code",
   "execution_count": 35,
   "id": "45f8b3de",
   "metadata": {},
   "outputs": [
    {
     "data": {
      "text/plain": [
       "count    822.000000\n",
       "mean      82.907543\n",
       "std       20.224109\n",
       "min       70.000000\n",
       "25%       75.000000\n",
       "50%       80.000000\n",
       "75%       80.000000\n",
       "max      180.000000\n",
       "Name: Protein, dtype: float64"
      ]
     },
     "execution_count": 35,
     "metadata": {},
     "output_type": "execute_result"
    }
   ],
   "source": [
    "protein_stat = df['Protein'].describe()\n",
    "protein_stat"
   ]
  },
  {
   "cell_type": "code",
   "execution_count": 36,
   "id": "17fc7a32",
   "metadata": {},
   "outputs": [
    {
     "data": {
      "text/plain": [
       "80.0"
      ]
     },
     "execution_count": 36,
     "metadata": {},
     "output_type": "execute_result"
    }
   ],
   "source": [
    "medium_protein = df['Protein'].median()\n",
    "medium_protein"
   ]
  },
  {
   "cell_type": "code",
   "execution_count": 37,
   "id": "b9c74dbf",
   "metadata": {},
   "outputs": [],
   "source": [
    "df['Protein'].fillna(value=80, inplace=True)"
   ]
  },
  {
   "cell_type": "markdown",
   "id": "782d8eab",
   "metadata": {
    "slideshow": {
     "slide_type": "subslide"
    }
   },
   "source": [
    "### Sleep"
   ]
  },
  {
   "cell_type": "code",
   "execution_count": 38,
   "id": "bd26882c",
   "metadata": {},
   "outputs": [
    {
     "data": {
      "text/plain": [
       "Date                 1016\n",
       "Sleep                1016\n",
       "Activity Type         867\n",
       "Activity Duration     865\n",
       "TSS                  1016\n",
       "Weight               1016\n",
       "Steps                1016\n",
       "Cals_burnt           1016\n",
       "Cals                  941\n",
       "Protein              1016\n",
       "Sensation             941\n",
       "dtype: int64"
      ]
     },
     "execution_count": 38,
     "metadata": {},
     "output_type": "execute_result"
    }
   ],
   "source": [
    "df=df.dropna(subset=['Sleep'])\n",
    "df.count()"
   ]
  },
  {
   "cell_type": "markdown",
   "id": "3e0e33a8",
   "metadata": {
    "slideshow": {
     "slide_type": "subslide"
    }
   },
   "source": [
    "### Calories"
   ]
  },
  {
   "cell_type": "code",
   "execution_count": 39,
   "id": "3d6f1849",
   "metadata": {},
   "outputs": [
    {
     "data": {
      "text/plain": [
       "count     941.000000\n",
       "mean     3079.723698\n",
       "std       841.444255\n",
       "min      1060.000000\n",
       "25%      2640.000000\n",
       "50%      3130.000000\n",
       "75%      3510.000000\n",
       "max      6790.000000\n",
       "Name: Cals, dtype: float64"
      ]
     },
     "execution_count": 39,
     "metadata": {},
     "output_type": "execute_result"
    }
   ],
   "source": [
    "cals_stat = df['Cals'].describe()\n",
    "cals_stat"
   ]
  },
  {
   "cell_type": "code",
   "execution_count": 40,
   "id": "9e0ea205",
   "metadata": {},
   "outputs": [],
   "source": [
    "df['Cals'].fillna(value=df['Cals'].quantile(0.75), inplace=True)"
   ]
  },
  {
   "cell_type": "markdown",
   "id": "0650ff53",
   "metadata": {
    "slideshow": {
     "slide_type": "subslide"
    }
   },
   "source": [
    "### Sensation"
   ]
  },
  {
   "cell_type": "code",
   "execution_count": 41,
   "id": "4f185250",
   "metadata": {},
   "outputs": [
    {
     "data": {
      "text/plain": [
       "count    941.000000\n",
       "mean       6.850159\n",
       "std        2.214525\n",
       "min        1.000000\n",
       "25%        5.000000\n",
       "50%        7.000000\n",
       "75%        8.000000\n",
       "max       10.000000\n",
       "Name: Sensation, dtype: float64"
      ]
     },
     "execution_count": 41,
     "metadata": {},
     "output_type": "execute_result"
    }
   ],
   "source": [
    "sensation_stat = df['Sensation'].describe()\n",
    "sensation_stat"
   ]
  },
  {
   "cell_type": "code",
   "execution_count": 42,
   "id": "1e09e3bf",
   "metadata": {},
   "outputs": [],
   "source": [
    "df['Sensation'].fillna(value=df['Sensation'].mean(), inplace=True)\n"
   ]
  },
  {
   "cell_type": "markdown",
   "id": "f0d6d8a8",
   "metadata": {
    "slideshow": {
     "slide_type": "subslide"
    }
   },
   "source": [
    "### Check up"
   ]
  },
  {
   "cell_type": "code",
   "execution_count": 43,
   "id": "5f8b912a",
   "metadata": {},
   "outputs": [
    {
     "data": {
      "text/plain": [
       "Date                 1016\n",
       "Sleep                1016\n",
       "Activity Type         867\n",
       "Activity Duration     865\n",
       "TSS                  1016\n",
       "Weight               1016\n",
       "Steps                1016\n",
       "Cals_burnt           1016\n",
       "Cals                 1016\n",
       "Protein              1016\n",
       "Sensation            1016\n",
       "dtype: int64"
      ]
     },
     "execution_count": 43,
     "metadata": {},
     "output_type": "execute_result"
    }
   ],
   "source": [
    "df.count()"
   ]
  },
  {
   "cell_type": "code",
   "execution_count": 44,
   "id": "b592667e",
   "metadata": {},
   "outputs": [
    {
     "data": {
      "text/html": [
       "<div>\n",
       "<style scoped>\n",
       "    .dataframe tbody tr th:only-of-type {\n",
       "        vertical-align: middle;\n",
       "    }\n",
       "\n",
       "    .dataframe tbody tr th {\n",
       "        vertical-align: top;\n",
       "    }\n",
       "\n",
       "    .dataframe thead th {\n",
       "        text-align: right;\n",
       "    }\n",
       "</style>\n",
       "<table border=\"1\" class=\"dataframe\">\n",
       "  <thead>\n",
       "    <tr style=\"text-align: right;\">\n",
       "      <th></th>\n",
       "      <th>Date</th>\n",
       "      <th>Sleep</th>\n",
       "      <th>Activity Type</th>\n",
       "      <th>Activity Duration</th>\n",
       "      <th>TSS</th>\n",
       "      <th>Weight</th>\n",
       "      <th>Steps</th>\n",
       "      <th>Cals_burnt</th>\n",
       "      <th>Cals</th>\n",
       "      <th>Protein</th>\n",
       "      <th>Sensation</th>\n",
       "    </tr>\n",
       "  </thead>\n",
       "  <tbody>\n",
       "    <tr>\n",
       "      <th>237</th>\n",
       "      <td>14/01/2018</td>\n",
       "      <td>8.9</td>\n",
       "      <td>Swim, Run</td>\n",
       "      <td>NaN</td>\n",
       "      <td>0</td>\n",
       "      <td>89.8</td>\n",
       "      <td>3693.0</td>\n",
       "      <td>2025.0</td>\n",
       "      <td>2130.0</td>\n",
       "      <td>80.0</td>\n",
       "      <td>9.0</td>\n",
       "    </tr>\n",
       "    <tr>\n",
       "      <th>251</th>\n",
       "      <td>28/01/2018</td>\n",
       "      <td>6.4</td>\n",
       "      <td>Swim, Gym</td>\n",
       "      <td>NaN</td>\n",
       "      <td>0</td>\n",
       "      <td>89.9</td>\n",
       "      <td>4405.0</td>\n",
       "      <td>2752.0</td>\n",
       "      <td>1480.0</td>\n",
       "      <td>75.0</td>\n",
       "      <td>4.0</td>\n",
       "    </tr>\n",
       "  </tbody>\n",
       "</table>\n",
       "</div>"
      ],
      "text/plain": [
       "           Date  Sleep Activity Type  Activity Duration  TSS  Weight   Steps  \\\n",
       "237  14/01/2018    8.9     Swim, Run                NaN    0    89.8  3693.0   \n",
       "251  28/01/2018    6.4     Swim, Gym                NaN    0    89.9  4405.0   \n",
       "\n",
       "     Cals_burnt    Cals  Protein  Sensation  \n",
       "237      2025.0  2130.0     80.0        9.0  \n",
       "251      2752.0  1480.0     75.0        4.0  "
      ]
     },
     "execution_count": 44,
     "metadata": {},
     "output_type": "execute_result"
    }
   ],
   "source": [
    "missing2rows = df[df['Activity Duration'].isna() & ~df['Activity Type'].isna()]\n",
    "missing2rows\n",
    "\n",
    "# i am happy with the missing data for activity types as simply means i did not train that day. \n",
    "# whereas i would like to remove the two days i did but not count the duration which i feel could be siginificant for modelling"
   ]
  },
  {
   "cell_type": "code",
   "execution_count": 45,
   "id": "a16b5bcc",
   "metadata": {},
   "outputs": [],
   "source": [
    "df = df.drop([237, 251])"
   ]
  },
  {
   "cell_type": "code",
   "execution_count": 46,
   "id": "320ba89a",
   "metadata": {
    "slideshow": {
     "slide_type": "subslide"
    }
   },
   "outputs": [
    {
     "data": {
      "image/png": "[encoded data removed]",
      "text/plain": [
       "<Figure size 432x288 with 1 Axes>"
      ]
     },
     "metadata": {
      "needs_background": "light"
     },
     "output_type": "display_data"
    }
   ],
   "source": [
    "nan_counts = df.isna().sum()\n",
    "nan_counts.plot(kind='bar', color='skyblue')\n",
    "plt.title('Number of NaN values in each column')\n",
    "plt.ylabel('Count')\n",
    "plt.xlabel('Column Name')\n",
    "plt.show()"
   ]
  },
  {
   "cell_type": "code",
   "execution_count": 47,
   "id": "abdeb8fd",
   "metadata": {},
   "outputs": [],
   "source": [
    "df['Activity Duration'].fillna(value=0, inplace=True)\n",
    "\n",
    "df['Activity Type'].fillna(value='Rest_Day', inplace=True)"
   ]
  },
  {
   "cell_type": "markdown",
   "id": "0b3a84ae",
   "metadata": {
    "slideshow": {
     "slide_type": "subslide"
    }
   },
   "source": [
    "### Boxplots & Histograms"
   ]
  },
  {
   "cell_type": "code",
   "execution_count": 50,
   "id": "db47b829",
   "metadata": {
    "scrolled": false,
    "slideshow": {
     "slide_type": "subslide"
    }
   },
   "outputs": [
    {
     "data": {
      "image/png": "[encoded data removed]",
      "text/plain": [
       "<Figure size 432x288 with 1 Axes>"
      ]
     },
     "metadata": {
      "needs_background": "light"
     },
     "output_type": "display_data"
    },
    {
     "data": {
      "image/png": "[encoded data removed]",
      "text/plain": [
       "<Figure size 432x288 with 1 Axes>"
      ]
     },
     "metadata": {
      "needs_background": "light"
     },
     "output_type": "display_data"
    },
    {
     "data": {
      "image/png": "[encoded data removed]",
      "text/plain": [
       "<Figure size 432x288 with 1 Axes>"
      ]
     },
     "metadata": {
      "needs_background": "light"
     },
     "output_type": "display_data"
    },
    {
     "data": {
      "image/png": "[encoded data removed]",
      "text/plain": [
       "<Figure size 432x288 with 1 Axes>"
      ]
     },
     "metadata": {
      "needs_background": "light"
     },
     "output_type": "display_data"
    },
    {
     "data": {
      "image/png": "[encoded data removed]",
      "text/plain": [
       "<Figure size 432x288 with 1 Axes>"
      ]
     },
     "metadata": {
      "needs_background": "light"
     },
     "output_type": "display_data"
    },
    {
     "data": {
      "image/png": "[encoded data removed]",
      "text/plain": [
       "<Figure size 432x288 with 1 Axes>"
      ]
     },
     "metadata": {
      "needs_background": "light"
     },
     "output_type": "display_data"
    },
    {
     "data": {
      "image/png": "[encoded data removed]",
      "text/plain": [
       "<Figure size 432x288 with 1 Axes>"
      ]
     },
     "metadata": {
      "needs_background": "light"
     },
     "output_type": "display_data"
    },
    {
     "data": {
      "image/png": "[encoded data removed]",
      "text/plain": [
       "<Figure size 432x288 with 1 Axes>"
      ]
     },
     "metadata": {
      "needs_background": "light"
     },
     "output_type": "display_data"
    },
    {
     "data": {
      "image/png": "[encoded data removed]",
      "text/plain": [
       "<Figure size 432x288 with 1 Axes>"
      ]
     },
     "metadata": {
      "needs_background": "light"
     },
     "output_type": "display_data"
    }
   ],
   "source": [
    "import pandas as pd\n",
    "import matplotlib.pyplot as plt\n",
    "\n",
    "# Assuming 'df' is your DataFrame\n",
    "\n",
    "# Filter out non-numeric columns (e.g., 'Date') from your DataFrame\n",
    "numeric_columns = df.select_dtypes(include=[np.number])\n",
    "\n",
    "# Create box plots for each numeric column\n",
    "for column in numeric_columns.columns:\n",
    "    plt.figure(figsize=(6, 4))  # Adjust the figure size as needed\n",
    "    df.boxplot(column=column)\n",
    "    plt.title(f'Box Plot for {column}')\n",
    "    plt.ylabel('Value')\n",
    "    plt.show()"
   ]
  },
  {
   "cell_type": "code",
   "execution_count": 51,
   "id": "08273e81",
   "metadata": {
    "scrolled": false,
    "slideshow": {
     "slide_type": "subslide"
    }
   },
   "outputs": [
    {
     "data": {
      "image/png": "[encoded data removed]",
      "text/plain": [
       "<Figure size 432x288 with 1 Axes>"
      ]
     },
     "metadata": {
      "needs_background": "light"
     },
     "output_type": "display_data"
    },
    {
     "data": {
      "image/png": "[encoded data removed]",
      "text/plain": [
       "<Figure size 432x288 with 1 Axes>"
      ]
     },
     "metadata": {
      "needs_background": "light"
     },
     "output_type": "display_data"
    },
    {
     "data": {
      "image/png": "[encoded data removed]",
      "text/plain": [
       "<Figure size 432x288 with 1 Axes>"
      ]
     },
     "metadata": {
      "needs_background": "light"
     },
     "output_type": "display_data"
    },
    {
     "data": {
      "image/png": "[encoded data removed]",
      "text/plain": [
       "<Figure size 432x288 with 1 Axes>"
      ]
     },
     "metadata": {
      "needs_background": "light"
     },
     "output_type": "display_data"
    },
    {
     "data": {
      "image/png": "[encoded data removed]",
      "text/plain": [
       "<Figure size 432x288 with 1 Axes>"
      ]
     },
     "metadata": {
      "needs_background": "light"
     },
     "output_type": "display_data"
    },
    {
     "data": {
      "image/png": "[encoded data removed]",
      "text/plain": [
       "<Figure size 432x288 with 1 Axes>"
      ]
     },
     "metadata": {
      "needs_background": "light"
     },
     "output_type": "display_data"
    },
    {
     "data": {
      "image/png": "[encoded data removed]",
      "text/plain": [
       "<Figure size 432x288 with 1 Axes>"
      ]
     },
     "metadata": {
      "needs_background": "light"
     },
     "output_type": "display_data"
    },
    {
     "data": {
      "image/png": "[encoded data removed]",
      "text/plain": [
       "<Figure size 432x288 with 1 Axes>"
      ]
     },
     "metadata": {
      "needs_background": "light"
     },
     "output_type": "display_data"
    },
    {
     "data": {
      "image/png": "[encoded data removed]",
      "text/plain": [
       "<Figure size 432x288 with 1 Axes>"
      ]
     },
     "metadata": {
      "needs_background": "light"
     },
     "output_type": "display_data"
    }
   ],
   "source": [
    "import pandas as pd\n",
    "import matplotlib.pyplot as plt\n",
    "import numpy as np\n",
    "\n",
    "# can't histogram non numerical values\n",
    "numeric_columns = df.select_dtypes(include=[np.number])\n",
    "\n",
    "# create histograms for each numeric column\n",
    "for column in numeric_columns.columns:\n",
    "    plt.figure(figsize=(6, 4))  \n",
    "    df[column].hist(bins=20)  \n",
    "    plt.title(f'Histogram for {column}')\n",
    "    plt.xlabel('Value')\n",
    "    plt.ylabel('Frequency')\n",
    "    plt.show()"
   ]
  },
  {
   "cell_type": "markdown",
   "id": "01147d31",
   "metadata": {
    "slideshow": {
     "slide_type": "slide"
    }
   },
   "source": [
    "# Train Test Split & PreProcessing"
   ]
  },
  {
   "cell_type": "markdown",
   "id": "b316eee0",
   "metadata": {},
   "source": [
    "## Split into Training , Testing Dataset"
   ]
  },
  {
   "cell_type": "code",
   "execution_count": 142,
   "id": "c93d1956",
   "metadata": {},
   "outputs": [
    {
     "data": {
      "text/plain": [
       "((723, 12), (723,))"
      ]
     },
     "execution_count": 142,
     "metadata": {},
     "output_type": "execute_result"
    }
   ],
   "source": [
    "from sklearn.model_selection import train_test_split\n",
    "\n",
    "# split data into features and target\n",
    "X = df.drop(columns=['Cals', 'Date'])  \n",
    "y = df['Cals']\n",
    "\n",
    "\n",
    "X_train, X_test, y_train, y_test = train_test_split(X, y, test_size=0.3)\n",
    "\n",
    "X_train.shape, y_train.shape"
   ]
  },
  {
   "cell_type": "markdown",
   "id": "2276d30d",
   "metadata": {
    "slideshow": {
     "slide_type": "subslide"
    }
   },
   "source": [
    "## Correlations"
   ]
  },
  {
   "cell_type": "code",
   "execution_count": 61,
   "id": "185c68f7",
   "metadata": {
    "scrolled": false
   },
   "outputs": [
    {
     "data": {
      "image/png": "[encoded data removed]",
      "text/plain": [
       "<Figure size 720x576 with 2 Axes>"
      ]
     },
     "metadata": {
      "needs_background": "light"
     },
     "output_type": "display_data"
    },
    {
     "data": {
      "image/png": "[encoded data removed]",
      "text/plain": [
       "<Figure size 720x432 with 1 Axes>"
      ]
     },
     "metadata": {
      "needs_background": "light"
     },
     "output_type": "display_data"
    },
    {
     "data": {
      "text/html": [
       "<div>\n",
       "<style scoped>\n",
       "    .dataframe tbody tr th:only-of-type {\n",
       "        vertical-align: middle;\n",
       "    }\n",
       "\n",
       "    .dataframe tbody tr th {\n",
       "        vertical-align: top;\n",
       "    }\n",
       "\n",
       "    .dataframe thead th {\n",
       "        text-align: right;\n",
       "    }\n",
       "</style>\n",
       "<table border=\"1\" class=\"dataframe\">\n",
       "  <thead>\n",
       "    <tr style=\"text-align: right;\">\n",
       "      <th></th>\n",
       "      <th>feature_1</th>\n",
       "      <th>feature_2</th>\n",
       "      <th>correlation</th>\n",
       "      <th>absolute_correlation</th>\n",
       "    </tr>\n",
       "  </thead>\n",
       "  <tbody>\n",
       "    <tr>\n",
       "      <th>1</th>\n",
       "      <td>Sleep</td>\n",
       "      <td>Activity Duration</td>\n",
       "      <td>-0.054910</td>\n",
       "      <td>0.054910</td>\n",
       "    </tr>\n",
       "    <tr>\n",
       "      <th>2</th>\n",
       "      <td>Sleep</td>\n",
       "      <td>TSS</td>\n",
       "      <td>0.021438</td>\n",
       "      <td>0.021438</td>\n",
       "    </tr>\n",
       "    <tr>\n",
       "      <th>3</th>\n",
       "      <td>Sleep</td>\n",
       "      <td>Weight</td>\n",
       "      <td>0.002979</td>\n",
       "      <td>0.002979</td>\n",
       "    </tr>\n",
       "    <tr>\n",
       "      <th>4</th>\n",
       "      <td>Sleep</td>\n",
       "      <td>Steps</td>\n",
       "      <td>-0.017557</td>\n",
       "      <td>0.017557</td>\n",
       "    </tr>\n",
       "    <tr>\n",
       "      <th>5</th>\n",
       "      <td>Sleep</td>\n",
       "      <td>Cals_burnt</td>\n",
       "      <td>0.105297</td>\n",
       "      <td>0.105297</td>\n",
       "    </tr>\n",
       "    <tr>\n",
       "      <th>6</th>\n",
       "      <td>Sleep</td>\n",
       "      <td>Protein</td>\n",
       "      <td>0.037387</td>\n",
       "      <td>0.037387</td>\n",
       "    </tr>\n",
       "    <tr>\n",
       "      <th>7</th>\n",
       "      <td>Sleep</td>\n",
       "      <td>Sensation</td>\n",
       "      <td>0.764786</td>\n",
       "      <td>0.764786</td>\n",
       "    </tr>\n",
       "    <tr>\n",
       "      <th>8</th>\n",
       "      <td>Activity Duration</td>\n",
       "      <td>Sleep</td>\n",
       "      <td>-0.054910</td>\n",
       "      <td>0.054910</td>\n",
       "    </tr>\n",
       "    <tr>\n",
       "      <th>10</th>\n",
       "      <td>Activity Duration</td>\n",
       "      <td>TSS</td>\n",
       "      <td>0.905462</td>\n",
       "      <td>0.905462</td>\n",
       "    </tr>\n",
       "    <tr>\n",
       "      <th>11</th>\n",
       "      <td>Activity Duration</td>\n",
       "      <td>Weight</td>\n",
       "      <td>0.010847</td>\n",
       "      <td>0.010847</td>\n",
       "    </tr>\n",
       "    <tr>\n",
       "      <th>12</th>\n",
       "      <td>Activity Duration</td>\n",
       "      <td>Steps</td>\n",
       "      <td>-0.027108</td>\n",
       "      <td>0.027108</td>\n",
       "    </tr>\n",
       "    <tr>\n",
       "      <th>13</th>\n",
       "      <td>Activity Duration</td>\n",
       "      <td>Cals_burnt</td>\n",
       "      <td>0.772409</td>\n",
       "      <td>0.772409</td>\n",
       "    </tr>\n",
       "    <tr>\n",
       "      <th>14</th>\n",
       "      <td>Activity Duration</td>\n",
       "      <td>Protein</td>\n",
       "      <td>0.513804</td>\n",
       "      <td>0.513804</td>\n",
       "    </tr>\n",
       "    <tr>\n",
       "      <th>15</th>\n",
       "      <td>Activity Duration</td>\n",
       "      <td>Sensation</td>\n",
       "      <td>-0.061509</td>\n",
       "      <td>0.061509</td>\n",
       "    </tr>\n",
       "    <tr>\n",
       "      <th>16</th>\n",
       "      <td>TSS</td>\n",
       "      <td>Sleep</td>\n",
       "      <td>0.021438</td>\n",
       "      <td>0.021438</td>\n",
       "    </tr>\n",
       "    <tr>\n",
       "      <th>17</th>\n",
       "      <td>TSS</td>\n",
       "      <td>Activity Duration</td>\n",
       "      <td>0.905462</td>\n",
       "      <td>0.905462</td>\n",
       "    </tr>\n",
       "    <tr>\n",
       "      <th>19</th>\n",
       "      <td>TSS</td>\n",
       "      <td>Weight</td>\n",
       "      <td>-0.006895</td>\n",
       "      <td>0.006895</td>\n",
       "    </tr>\n",
       "    <tr>\n",
       "      <th>20</th>\n",
       "      <td>TSS</td>\n",
       "      <td>Steps</td>\n",
       "      <td>-0.014039</td>\n",
       "      <td>0.014039</td>\n",
       "    </tr>\n",
       "    <tr>\n",
       "      <th>21</th>\n",
       "      <td>TSS</td>\n",
       "      <td>Cals_burnt</td>\n",
       "      <td>0.780062</td>\n",
       "      <td>0.780062</td>\n",
       "    </tr>\n",
       "    <tr>\n",
       "      <th>22</th>\n",
       "      <td>TSS</td>\n",
       "      <td>Protein</td>\n",
       "      <td>0.587875</td>\n",
       "      <td>0.587875</td>\n",
       "    </tr>\n",
       "    <tr>\n",
       "      <th>23</th>\n",
       "      <td>TSS</td>\n",
       "      <td>Sensation</td>\n",
       "      <td>0.009135</td>\n",
       "      <td>0.009135</td>\n",
       "    </tr>\n",
       "    <tr>\n",
       "      <th>24</th>\n",
       "      <td>Weight</td>\n",
       "      <td>Sleep</td>\n",
       "      <td>0.002979</td>\n",
       "      <td>0.002979</td>\n",
       "    </tr>\n",
       "    <tr>\n",
       "      <th>25</th>\n",
       "      <td>Weight</td>\n",
       "      <td>Activity Duration</td>\n",
       "      <td>0.010847</td>\n",
       "      <td>0.010847</td>\n",
       "    </tr>\n",
       "    <tr>\n",
       "      <th>26</th>\n",
       "      <td>Weight</td>\n",
       "      <td>TSS</td>\n",
       "      <td>-0.006895</td>\n",
       "      <td>0.006895</td>\n",
       "    </tr>\n",
       "    <tr>\n",
       "      <th>28</th>\n",
       "      <td>Weight</td>\n",
       "      <td>Steps</td>\n",
       "      <td>0.001259</td>\n",
       "      <td>0.001259</td>\n",
       "    </tr>\n",
       "    <tr>\n",
       "      <th>29</th>\n",
       "      <td>Weight</td>\n",
       "      <td>Cals_burnt</td>\n",
       "      <td>-0.010007</td>\n",
       "      <td>0.010007</td>\n",
       "    </tr>\n",
       "    <tr>\n",
       "      <th>30</th>\n",
       "      <td>Weight</td>\n",
       "      <td>Protein</td>\n",
       "      <td>-0.031926</td>\n",
       "      <td>0.031926</td>\n",
       "    </tr>\n",
       "    <tr>\n",
       "      <th>31</th>\n",
       "      <td>Weight</td>\n",
       "      <td>Sensation</td>\n",
       "      <td>-0.006837</td>\n",
       "      <td>0.006837</td>\n",
       "    </tr>\n",
       "    <tr>\n",
       "      <th>32</th>\n",
       "      <td>Steps</td>\n",
       "      <td>Sleep</td>\n",
       "      <td>-0.017557</td>\n",
       "      <td>0.017557</td>\n",
       "    </tr>\n",
       "    <tr>\n",
       "      <th>33</th>\n",
       "      <td>Steps</td>\n",
       "      <td>Activity Duration</td>\n",
       "      <td>-0.027108</td>\n",
       "      <td>0.027108</td>\n",
       "    </tr>\n",
       "    <tr>\n",
       "      <th>34</th>\n",
       "      <td>Steps</td>\n",
       "      <td>TSS</td>\n",
       "      <td>-0.014039</td>\n",
       "      <td>0.014039</td>\n",
       "    </tr>\n",
       "    <tr>\n",
       "      <th>35</th>\n",
       "      <td>Steps</td>\n",
       "      <td>Weight</td>\n",
       "      <td>0.001259</td>\n",
       "      <td>0.001259</td>\n",
       "    </tr>\n",
       "    <tr>\n",
       "      <th>37</th>\n",
       "      <td>Steps</td>\n",
       "      <td>Cals_burnt</td>\n",
       "      <td>0.376655</td>\n",
       "      <td>0.376655</td>\n",
       "    </tr>\n",
       "    <tr>\n",
       "      <th>38</th>\n",
       "      <td>Steps</td>\n",
       "      <td>Protein</td>\n",
       "      <td>-0.248141</td>\n",
       "      <td>0.248141</td>\n",
       "    </tr>\n",
       "    <tr>\n",
       "      <th>39</th>\n",
       "      <td>Steps</td>\n",
       "      <td>Sensation</td>\n",
       "      <td>-0.012347</td>\n",
       "      <td>0.012347</td>\n",
       "    </tr>\n",
       "    <tr>\n",
       "      <th>40</th>\n",
       "      <td>Cals_burnt</td>\n",
       "      <td>Sleep</td>\n",
       "      <td>0.105297</td>\n",
       "      <td>0.105297</td>\n",
       "    </tr>\n",
       "    <tr>\n",
       "      <th>41</th>\n",
       "      <td>Cals_burnt</td>\n",
       "      <td>Activity Duration</td>\n",
       "      <td>0.772409</td>\n",
       "      <td>0.772409</td>\n",
       "    </tr>\n",
       "    <tr>\n",
       "      <th>42</th>\n",
       "      <td>Cals_burnt</td>\n",
       "      <td>TSS</td>\n",
       "      <td>0.780062</td>\n",
       "      <td>0.780062</td>\n",
       "    </tr>\n",
       "    <tr>\n",
       "      <th>43</th>\n",
       "      <td>Cals_burnt</td>\n",
       "      <td>Weight</td>\n",
       "      <td>-0.010007</td>\n",
       "      <td>0.010007</td>\n",
       "    </tr>\n",
       "    <tr>\n",
       "      <th>44</th>\n",
       "      <td>Cals_burnt</td>\n",
       "      <td>Steps</td>\n",
       "      <td>0.376655</td>\n",
       "      <td>0.376655</td>\n",
       "    </tr>\n",
       "    <tr>\n",
       "      <th>46</th>\n",
       "      <td>Cals_burnt</td>\n",
       "      <td>Protein</td>\n",
       "      <td>0.426863</td>\n",
       "      <td>0.426863</td>\n",
       "    </tr>\n",
       "    <tr>\n",
       "      <th>47</th>\n",
       "      <td>Cals_burnt</td>\n",
       "      <td>Sensation</td>\n",
       "      <td>0.078907</td>\n",
       "      <td>0.078907</td>\n",
       "    </tr>\n",
       "    <tr>\n",
       "      <th>48</th>\n",
       "      <td>Protein</td>\n",
       "      <td>Sleep</td>\n",
       "      <td>0.037387</td>\n",
       "      <td>0.037387</td>\n",
       "    </tr>\n",
       "    <tr>\n",
       "      <th>49</th>\n",
       "      <td>Protein</td>\n",
       "      <td>Activity Duration</td>\n",
       "      <td>0.513804</td>\n",
       "      <td>0.513804</td>\n",
       "    </tr>\n",
       "    <tr>\n",
       "      <th>50</th>\n",
       "      <td>Protein</td>\n",
       "      <td>TSS</td>\n",
       "      <td>0.587875</td>\n",
       "      <td>0.587875</td>\n",
       "    </tr>\n",
       "    <tr>\n",
       "      <th>51</th>\n",
       "      <td>Protein</td>\n",
       "      <td>Weight</td>\n",
       "      <td>-0.031926</td>\n",
       "      <td>0.031926</td>\n",
       "    </tr>\n",
       "    <tr>\n",
       "      <th>52</th>\n",
       "      <td>Protein</td>\n",
       "      <td>Steps</td>\n",
       "      <td>-0.248141</td>\n",
       "      <td>0.248141</td>\n",
       "    </tr>\n",
       "    <tr>\n",
       "      <th>53</th>\n",
       "      <td>Protein</td>\n",
       "      <td>Cals_burnt</td>\n",
       "      <td>0.426863</td>\n",
       "      <td>0.426863</td>\n",
       "    </tr>\n",
       "    <tr>\n",
       "      <th>55</th>\n",
       "      <td>Protein</td>\n",
       "      <td>Sensation</td>\n",
       "      <td>0.036908</td>\n",
       "      <td>0.036908</td>\n",
       "    </tr>\n",
       "    <tr>\n",
       "      <th>56</th>\n",
       "      <td>Sensation</td>\n",
       "      <td>Sleep</td>\n",
       "      <td>0.764786</td>\n",
       "      <td>0.764786</td>\n",
       "    </tr>\n",
       "    <tr>\n",
       "      <th>57</th>\n",
       "      <td>Sensation</td>\n",
       "      <td>Activity Duration</td>\n",
       "      <td>-0.061509</td>\n",
       "      <td>0.061509</td>\n",
       "    </tr>\n",
       "    <tr>\n",
       "      <th>58</th>\n",
       "      <td>Sensation</td>\n",
       "      <td>TSS</td>\n",
       "      <td>0.009135</td>\n",
       "      <td>0.009135</td>\n",
       "    </tr>\n",
       "    <tr>\n",
       "      <th>59</th>\n",
       "      <td>Sensation</td>\n",
       "      <td>Weight</td>\n",
       "      <td>-0.006837</td>\n",
       "      <td>0.006837</td>\n",
       "    </tr>\n",
       "    <tr>\n",
       "      <th>60</th>\n",
       "      <td>Sensation</td>\n",
       "      <td>Steps</td>\n",
       "      <td>-0.012347</td>\n",
       "      <td>0.012347</td>\n",
       "    </tr>\n",
       "    <tr>\n",
       "      <th>61</th>\n",
       "      <td>Sensation</td>\n",
       "      <td>Cals_burnt</td>\n",
       "      <td>0.078907</td>\n",
       "      <td>0.078907</td>\n",
       "    </tr>\n",
       "    <tr>\n",
       "      <th>62</th>\n",
       "      <td>Sensation</td>\n",
       "      <td>Protein</td>\n",
       "      <td>0.036908</td>\n",
       "      <td>0.036908</td>\n",
       "    </tr>\n",
       "  </tbody>\n",
       "</table>\n",
       "</div>"
      ],
      "text/plain": [
       "            feature_1          feature_2  correlation  absolute_correlation\n",
       "1               Sleep  Activity Duration    -0.054910              0.054910\n",
       "2               Sleep                TSS     0.021438              0.021438\n",
       "3               Sleep             Weight     0.002979              0.002979\n",
       "4               Sleep              Steps    -0.017557              0.017557\n",
       "5               Sleep         Cals_burnt     0.105297              0.105297\n",
       "6               Sleep            Protein     0.037387              0.037387\n",
       "7               Sleep          Sensation     0.764786              0.764786\n",
       "8   Activity Duration              Sleep    -0.054910              0.054910\n",
       "10  Activity Duration                TSS     0.905462              0.905462\n",
       "11  Activity Duration             Weight     0.010847              0.010847\n",
       "12  Activity Duration              Steps    -0.027108              0.027108\n",
       "13  Activity Duration         Cals_burnt     0.772409              0.772409\n",
       "14  Activity Duration            Protein     0.513804              0.513804\n",
       "15  Activity Duration          Sensation    -0.061509              0.061509\n",
       "16                TSS              Sleep     0.021438              0.021438\n",
       "17                TSS  Activity Duration     0.905462              0.905462\n",
       "19                TSS             Weight    -0.006895              0.006895\n",
       "20                TSS              Steps    -0.014039              0.014039\n",
       "21                TSS         Cals_burnt     0.780062              0.780062\n",
       "22                TSS            Protein     0.587875              0.587875\n",
       "23                TSS          Sensation     0.009135              0.009135\n",
       "24             Weight              Sleep     0.002979              0.002979\n",
       "25             Weight  Activity Duration     0.010847              0.010847\n",
       "26             Weight                TSS    -0.006895              0.006895\n",
       "28             Weight              Steps     0.001259              0.001259\n",
       "29             Weight         Cals_burnt    -0.010007              0.010007\n",
       "30             Weight            Protein    -0.031926              0.031926\n",
       "31             Weight          Sensation    -0.006837              0.006837\n",
       "32              Steps              Sleep    -0.017557              0.017557\n",
       "33              Steps  Activity Duration    -0.027108              0.027108\n",
       "34              Steps                TSS    -0.014039              0.014039\n",
       "35              Steps             Weight     0.001259              0.001259\n",
       "37              Steps         Cals_burnt     0.376655              0.376655\n",
       "38              Steps            Protein    -0.248141              0.248141\n",
       "39              Steps          Sensation    -0.012347              0.012347\n",
       "40         Cals_burnt              Sleep     0.105297              0.105297\n",
       "41         Cals_burnt  Activity Duration     0.772409              0.772409\n",
       "42         Cals_burnt                TSS     0.780062              0.780062\n",
       "43         Cals_burnt             Weight    -0.010007              0.010007\n",
       "44         Cals_burnt              Steps     0.376655              0.376655\n",
       "46         Cals_burnt            Protein     0.426863              0.426863\n",
       "47         Cals_burnt          Sensation     0.078907              0.078907\n",
       "48            Protein              Sleep     0.037387              0.037387\n",
       "49            Protein  Activity Duration     0.513804              0.513804\n",
       "50            Protein                TSS     0.587875              0.587875\n",
       "51            Protein             Weight    -0.031926              0.031926\n",
       "52            Protein              Steps    -0.248141              0.248141\n",
       "53            Protein         Cals_burnt     0.426863              0.426863\n",
       "55            Protein          Sensation     0.036908              0.036908\n",
       "56          Sensation              Sleep     0.764786              0.764786\n",
       "57          Sensation  Activity Duration    -0.061509              0.061509\n",
       "58          Sensation                TSS     0.009135              0.009135\n",
       "59          Sensation             Weight    -0.006837              0.006837\n",
       "60          Sensation              Steps    -0.012347              0.012347\n",
       "61          Sensation         Cals_burnt     0.078907              0.078907\n",
       "62          Sensation            Protein     0.036908              0.036908"
      ]
     },
     "execution_count": 61,
     "metadata": {},
     "output_type": "execute_result"
    }
   ],
   "source": [
    "import seaborn as sns\n",
    "import pandas as pd\n",
    "import numpy as np\n",
    "import matplotlib.pyplot as plt\n",
    "\n",
    "# pairwise correlations between features (Pearson Correlation)\n",
    "correlation_matrix = X_train.corr()\n",
    "\n",
    "# correlation of each feature with y_train\n",
    "feature_target_corr = X_train.corrwith(y_train)\n",
    "\n",
    "# Plot heatmap of pairwise correlations between features\n",
    "plt.figure(figsize=(10, 8))\n",
    "sns.heatmap(correlation_matrix, cmap=\"bwr\", annot=True, fmt=\".2f\")\n",
    "plt.title(\"Pairwise correlations between features\")\n",
    "plt.show()\n",
    "\n",
    "# Plot the correlations of each feature with y_train\n",
    "plt.figure(figsize=(10, 6))\n",
    "sns.barplot(x=feature_target_corr.index, y=feature_target_corr.values, palette=\"bwr\")\n",
    "plt.title(\"Correlation of features with the target\")\n",
    "plt.ylabel(\"Correlation with target\")\n",
    "plt.xticks(rotation=45)\n",
    "plt.show()\n",
    "\n",
    "\n",
    "corr_df = correlation_matrix.stack().reset_index()\n",
    "corr_df.columns = ['feature_1', 'feature_2', 'correlation']\n",
    "\n",
    "# remove \"self correlations\"\n",
    "no_self_correlation = (corr_df['feature_1'] != corr_df['feature_2'])\n",
    "corr_df = corr_df[no_self_correlation]\n",
    "\n",
    "# Computing the absolute correlation - easier to visual see for us humans\n",
    "corr_df['absolute_correlation'] = np.abs(corr_df['correlation'])"
   ]
  },
  {
   "cell_type": "code",
   "execution_count": 65,
   "id": "0ec7b09b",
   "metadata": {
    "scrolled": true,
    "slideshow": {
     "slide_type": "subslide"
    }
   },
   "outputs": [
    {
     "name": "stdout",
     "output_type": "stream",
     "text": [
      "['Weight']\n"
     ]
    },
    {
     "ename": "KeyError",
     "evalue": "\"['Weight'] not found in axis\"",
     "output_type": "error",
     "traceback": [
      "\u001b[0;31m---------------------------------------------------------------------------\u001b[0m",
      "\u001b[0;31mKeyError\u001b[0m                                  Traceback (most recent call last)",
      "\u001b[0;32m/tmp/ipykernel_513/3175907523.py\u001b[0m in \u001b[0;36m<module>\u001b[0;34m\u001b[0m\n\u001b[1;32m      6\u001b[0m \u001b[0mprint\u001b[0m\u001b[0;34m(\u001b[0m\u001b[0mcolumns_to_drop\u001b[0m\u001b[0;34m)\u001b[0m\u001b[0;34m\u001b[0m\u001b[0;34m\u001b[0m\u001b[0m\n\u001b[1;32m      7\u001b[0m \u001b[0;31m# Drop the columns from the training and test sets\u001b[0m\u001b[0;34m\u001b[0m\u001b[0;34m\u001b[0m\u001b[0;34m\u001b[0m\u001b[0m\n\u001b[0;32m----> 8\u001b[0;31m \u001b[0mX_train\u001b[0m \u001b[0;34m=\u001b[0m \u001b[0mX_train\u001b[0m\u001b[0;34m.\u001b[0m\u001b[0mdrop\u001b[0m\u001b[0;34m(\u001b[0m\u001b[0mcolumns\u001b[0m\u001b[0;34m=\u001b[0m\u001b[0mcolumns_to_drop\u001b[0m\u001b[0;34m)\u001b[0m\u001b[0;34m\u001b[0m\u001b[0;34m\u001b[0m\u001b[0m\n\u001b[0m\u001b[1;32m      9\u001b[0m \u001b[0mX_test\u001b[0m \u001b[0;34m=\u001b[0m \u001b[0mX_test\u001b[0m\u001b[0;34m.\u001b[0m\u001b[0mdrop\u001b[0m\u001b[0;34m(\u001b[0m\u001b[0mcolumns\u001b[0m\u001b[0;34m=\u001b[0m\u001b[0mcolumns_to_drop\u001b[0m\u001b[0;34m)\u001b[0m\u001b[0;34m\u001b[0m\u001b[0;34m\u001b[0m\u001b[0m\n",
      "\u001b[0;32m~/.pyenv/versions/3.8.12/envs/lewagon/lib/python3.8/site-packages/pandas/util/_decorators.py\u001b[0m in \u001b[0;36mwrapper\u001b[0;34m(*args, **kwargs)\u001b[0m\n\u001b[1;32m    309\u001b[0m                     \u001b[0mstacklevel\u001b[0m\u001b[0;34m=\u001b[0m\u001b[0mstacklevel\u001b[0m\u001b[0;34m,\u001b[0m\u001b[0;34m\u001b[0m\u001b[0;34m\u001b[0m\u001b[0m\n\u001b[1;32m    310\u001b[0m                 )\n\u001b[0;32m--> 311\u001b[0;31m             \u001b[0;32mreturn\u001b[0m \u001b[0mfunc\u001b[0m\u001b[0;34m(\u001b[0m\u001b[0;34m*\u001b[0m\u001b[0margs\u001b[0m\u001b[0;34m,\u001b[0m \u001b[0;34m**\u001b[0m\u001b[0mkwargs\u001b[0m\u001b[0;34m)\u001b[0m\u001b[0;34m\u001b[0m\u001b[0;34m\u001b[0m\u001b[0m\n\u001b[0m\u001b[1;32m    312\u001b[0m \u001b[0;34m\u001b[0m\u001b[0m\n\u001b[1;32m    313\u001b[0m         \u001b[0;32mreturn\u001b[0m \u001b[0mwrapper\u001b[0m\u001b[0;34m\u001b[0m\u001b[0;34m\u001b[0m\u001b[0m\n",
      "\u001b[0;32m~/.pyenv/versions/3.8.12/envs/lewagon/lib/python3.8/site-packages/pandas/core/frame.py\u001b[0m in \u001b[0;36mdrop\u001b[0;34m(self, labels, axis, index, columns, level, inplace, errors)\u001b[0m\n\u001b[1;32m   4952\u001b[0m                 \u001b[0mweight\u001b[0m  \u001b[0;36m1.0\u001b[0m     \u001b[0;36m0.8\u001b[0m\u001b[0;34m\u001b[0m\u001b[0;34m\u001b[0m\u001b[0m\n\u001b[1;32m   4953\u001b[0m         \"\"\"\n\u001b[0;32m-> 4954\u001b[0;31m         return super().drop(\n\u001b[0m\u001b[1;32m   4955\u001b[0m             \u001b[0mlabels\u001b[0m\u001b[0;34m=\u001b[0m\u001b[0mlabels\u001b[0m\u001b[0;34m,\u001b[0m\u001b[0;34m\u001b[0m\u001b[0;34m\u001b[0m\u001b[0m\n\u001b[1;32m   4956\u001b[0m             \u001b[0maxis\u001b[0m\u001b[0;34m=\u001b[0m\u001b[0maxis\u001b[0m\u001b[0;34m,\u001b[0m\u001b[0;34m\u001b[0m\u001b[0;34m\u001b[0m\u001b[0m\n",
      "\u001b[0;32m~/.pyenv/versions/3.8.12/envs/lewagon/lib/python3.8/site-packages/pandas/core/generic.py\u001b[0m in \u001b[0;36mdrop\u001b[0;34m(self, labels, axis, index, columns, level, inplace, errors)\u001b[0m\n\u001b[1;32m   4265\u001b[0m         \u001b[0;32mfor\u001b[0m \u001b[0maxis\u001b[0m\u001b[0;34m,\u001b[0m \u001b[0mlabels\u001b[0m \u001b[0;32min\u001b[0m \u001b[0maxes\u001b[0m\u001b[0;34m.\u001b[0m\u001b[0mitems\u001b[0m\u001b[0;34m(\u001b[0m\u001b[0;34m)\u001b[0m\u001b[0;34m:\u001b[0m\u001b[0;34m\u001b[0m\u001b[0;34m\u001b[0m\u001b[0m\n\u001b[1;32m   4266\u001b[0m             \u001b[0;32mif\u001b[0m \u001b[0mlabels\u001b[0m \u001b[0;32mis\u001b[0m \u001b[0;32mnot\u001b[0m \u001b[0;32mNone\u001b[0m\u001b[0;34m:\u001b[0m\u001b[0;34m\u001b[0m\u001b[0;34m\u001b[0m\u001b[0m\n\u001b[0;32m-> 4267\u001b[0;31m                 \u001b[0mobj\u001b[0m \u001b[0;34m=\u001b[0m \u001b[0mobj\u001b[0m\u001b[0;34m.\u001b[0m\u001b[0m_drop_axis\u001b[0m\u001b[0;34m(\u001b[0m\u001b[0mlabels\u001b[0m\u001b[0;34m,\u001b[0m \u001b[0maxis\u001b[0m\u001b[0;34m,\u001b[0m \u001b[0mlevel\u001b[0m\u001b[0;34m=\u001b[0m\u001b[0mlevel\u001b[0m\u001b[0;34m,\u001b[0m \u001b[0merrors\u001b[0m\u001b[0;34m=\u001b[0m\u001b[0merrors\u001b[0m\u001b[0;34m)\u001b[0m\u001b[0;34m\u001b[0m\u001b[0;34m\u001b[0m\u001b[0m\n\u001b[0m\u001b[1;32m   4268\u001b[0m \u001b[0;34m\u001b[0m\u001b[0m\n\u001b[1;32m   4269\u001b[0m         \u001b[0;32mif\u001b[0m \u001b[0minplace\u001b[0m\u001b[0;34m:\u001b[0m\u001b[0;34m\u001b[0m\u001b[0;34m\u001b[0m\u001b[0m\n",
      "\u001b[0;32m~/.pyenv/versions/3.8.12/envs/lewagon/lib/python3.8/site-packages/pandas/core/generic.py\u001b[0m in \u001b[0;36m_drop_axis\u001b[0;34m(self, labels, axis, level, errors, consolidate, only_slice)\u001b[0m\n\u001b[1;32m   4309\u001b[0m                 \u001b[0mnew_axis\u001b[0m \u001b[0;34m=\u001b[0m \u001b[0maxis\u001b[0m\u001b[0;34m.\u001b[0m\u001b[0mdrop\u001b[0m\u001b[0;34m(\u001b[0m\u001b[0mlabels\u001b[0m\u001b[0;34m,\u001b[0m \u001b[0mlevel\u001b[0m\u001b[0;34m=\u001b[0m\u001b[0mlevel\u001b[0m\u001b[0;34m,\u001b[0m \u001b[0merrors\u001b[0m\u001b[0;34m=\u001b[0m\u001b[0merrors\u001b[0m\u001b[0;34m)\u001b[0m\u001b[0;34m\u001b[0m\u001b[0;34m\u001b[0m\u001b[0m\n\u001b[1;32m   4310\u001b[0m             \u001b[0;32melse\u001b[0m\u001b[0;34m:\u001b[0m\u001b[0;34m\u001b[0m\u001b[0;34m\u001b[0m\u001b[0m\n\u001b[0;32m-> 4311\u001b[0;31m                 \u001b[0mnew_axis\u001b[0m \u001b[0;34m=\u001b[0m \u001b[0maxis\u001b[0m\u001b[0;34m.\u001b[0m\u001b[0mdrop\u001b[0m\u001b[0;34m(\u001b[0m\u001b[0mlabels\u001b[0m\u001b[0;34m,\u001b[0m \u001b[0merrors\u001b[0m\u001b[0;34m=\u001b[0m\u001b[0merrors\u001b[0m\u001b[0;34m)\u001b[0m\u001b[0;34m\u001b[0m\u001b[0;34m\u001b[0m\u001b[0m\n\u001b[0m\u001b[1;32m   4312\u001b[0m             \u001b[0mindexer\u001b[0m \u001b[0;34m=\u001b[0m \u001b[0maxis\u001b[0m\u001b[0;34m.\u001b[0m\u001b[0mget_indexer\u001b[0m\u001b[0;34m(\u001b[0m\u001b[0mnew_axis\u001b[0m\u001b[0;34m)\u001b[0m\u001b[0;34m\u001b[0m\u001b[0;34m\u001b[0m\u001b[0m\n\u001b[1;32m   4313\u001b[0m \u001b[0;34m\u001b[0m\u001b[0m\n",
      "\u001b[0;32m~/.pyenv/versions/3.8.12/envs/lewagon/lib/python3.8/site-packages/pandas/core/indexes/base.py\u001b[0m in \u001b[0;36mdrop\u001b[0;34m(self, labels, errors)\u001b[0m\n\u001b[1;32m   6642\u001b[0m         \u001b[0;32mif\u001b[0m \u001b[0mmask\u001b[0m\u001b[0;34m.\u001b[0m\u001b[0many\u001b[0m\u001b[0;34m(\u001b[0m\u001b[0;34m)\u001b[0m\u001b[0;34m:\u001b[0m\u001b[0;34m\u001b[0m\u001b[0;34m\u001b[0m\u001b[0m\n\u001b[1;32m   6643\u001b[0m             \u001b[0;32mif\u001b[0m \u001b[0merrors\u001b[0m \u001b[0;34m!=\u001b[0m \u001b[0;34m\"ignore\"\u001b[0m\u001b[0;34m:\u001b[0m\u001b[0;34m\u001b[0m\u001b[0;34m\u001b[0m\u001b[0m\n\u001b[0;32m-> 6644\u001b[0;31m                 \u001b[0;32mraise\u001b[0m \u001b[0mKeyError\u001b[0m\u001b[0;34m(\u001b[0m\u001b[0;34mf\"{list(labels[mask])} not found in axis\"\u001b[0m\u001b[0;34m)\u001b[0m\u001b[0;34m\u001b[0m\u001b[0;34m\u001b[0m\u001b[0m\n\u001b[0m\u001b[1;32m   6645\u001b[0m             \u001b[0mindexer\u001b[0m \u001b[0;34m=\u001b[0m \u001b[0mindexer\u001b[0m\u001b[0;34m[\u001b[0m\u001b[0;34m~\u001b[0m\u001b[0mmask\u001b[0m\u001b[0;34m]\u001b[0m\u001b[0;34m\u001b[0m\u001b[0;34m\u001b[0m\u001b[0m\n\u001b[1;32m   6646\u001b[0m         \u001b[0;32mreturn\u001b[0m \u001b[0mself\u001b[0m\u001b[0;34m.\u001b[0m\u001b[0mdelete\u001b[0m\u001b[0;34m(\u001b[0m\u001b[0mindexer\u001b[0m\u001b[0;34m)\u001b[0m\u001b[0;34m\u001b[0m\u001b[0;34m\u001b[0m\u001b[0m\n",
      "\u001b[0;31mKeyError\u001b[0m: \"['Weight'] not found in axis\""
     ]
    }
   ],
   "source": [
    "\n",
    "threshold = 0.1\n",
    "\n",
    "# columns to drop from my threshold\n",
    "columns_to_drop = feature_target_corr[feature_target_corr.abs() < threshold].index.tolist()\n",
    "print(columns_to_drop)\n",
    "\n",
    "\n",
    "X_train = X_train.drop(columns=columns_to_drop)\n",
    "X_test = X_test.drop(columns=columns_to_drop)"
   ]
  },
  {
   "cell_type": "markdown",
   "id": "bb9f4c5c",
   "metadata": {
    "slideshow": {
     "slide_type": "subslide"
    }
   },
   "source": [
    "## PrePrcoessing and Scaling"
   ]
  },
  {
   "cell_type": "code",
   "execution_count": 67,
   "id": "6c05edf9",
   "metadata": {},
   "outputs": [],
   "source": [
    "from sklearn.compose import ColumnTransformer\n",
    "from sklearn.pipeline import Pipeline, make_pipeline\n",
    "from sklearn.preprocessing import RobustScaler, OneHotEncoder\n",
    " \n",
    "\n",
    "# numeric and categorical columns\n",
    "numeric_cols = X_train.select_dtypes(include=['float64', 'int64']).columns.tolist()\n",
    "categorical_cols = X_train.select_dtypes(include=['object']).columns.tolist()\n",
    "\n",
    "\n",
    "# Creating transformers\n",
    "transformers = [\n",
    "    ('robust', RobustScaler(), numeric_cols),\n",
    "    ('cat', OneHotEncoder(drop='first', handle_unknown=\"ignore\"), categorical_cols)\n",
    "]\n",
    "\n",
    "# Building the column transformer\n",
    "preprocessor = ColumnTransformer(transformers)\n",
    "\n",
    "X_train_processed = pd.DataFrame(preprocessor.fit_transform(X_train))\n",
    "\n",
    "# and preprocess the test data\n",
    "X_test_processed = preprocessor.transform(X_test)\n"
   ]
  },
  {
   "cell_type": "markdown",
   "id": "c7486fe8",
   "metadata": {
    "slideshow": {
     "slide_type": "slide"
    }
   },
   "source": [
    "# Linear Regression"
   ]
  },
  {
   "cell_type": "code",
   "execution_count": 68,
   "id": "ac029b09",
   "metadata": {},
   "outputs": [
    {
     "data": {
      "text/plain": [
       "0.6912887109449218"
      ]
     },
     "execution_count": 68,
     "metadata": {},
     "output_type": "execute_result"
    }
   ],
   "source": [
    "from sklearn.linear_model import LinearRegression\n",
    "\n",
    "# Instantiate the model\n",
    "model = LinearRegression()\n",
    "\n",
    "# Train the model on the Training data\n",
    "model.fit(X_train_processed, y_train)\n",
    "\n",
    "# Score the model on the preprocessed test data\n",
    "model.score(X_test_processed, y_test)"
   ]
  },
  {
   "cell_type": "markdown",
   "id": "3f51f721",
   "metadata": {
    "slideshow": {
     "slide_type": "subslide"
    }
   },
   "source": [
    "## Cross Validation Model on Train"
   ]
  },
  {
   "cell_type": "code",
   "execution_count": 69,
   "id": "015155f8",
   "metadata": {},
   "outputs": [
    {
     "name": "stdout",
     "output_type": "stream",
     "text": [
      "   fit_time  score_time  test_max_error   test_r2  \\\n",
      "0  0.005138    0.002468    -1814.244943  0.758226   \n",
      "1  0.002735    0.002300    -1692.768533  0.523155   \n",
      "2  0.002907    0.002084    -1789.497936  0.715900   \n",
      "3  0.002387    0.002566    -1679.665064  0.685660   \n",
      "4  0.002774    0.001819    -1881.454582  0.821245   \n",
      "\n",
      "   test_neg_mean_absolute_error  test_neg_mean_squared_error  \n",
      "0                   -302.471650               -159127.466571  \n",
      "1                   -310.013715               -183659.214363  \n",
      "2                   -317.967317               -181622.859476  \n",
      "3                   -327.360688               -210731.336293  \n",
      "4                   -317.249472               -172230.941114  \n",
      "0.7008373040599286\n"
     ]
    }
   ],
   "source": [
    "from sklearn.model_selection import cross_validate\n",
    "# 5-Fold Cross validate model\n",
    "model = LinearRegression()\n",
    "cv_results_train = cross_validate(model, X_train_processed, y_train, cv=5, \n",
    "                            scoring=['max_error',\n",
    "                                     'r2', \n",
    "                                     'neg_mean_absolute_error',\n",
    "                                     'neg_mean_squared_error']\n",
    "                           )\n",
    "print(pd.DataFrame(cv_results_train)) \n",
    "print(cv_results_train['test_r2'].mean())"
   ]
  },
  {
   "cell_type": "markdown",
   "id": "d40527b3",
   "metadata": {
    "slideshow": {
     "slide_type": "subslide"
    }
   },
   "source": [
    "## Cross Validation Model on Test"
   ]
  },
  {
   "cell_type": "code",
   "execution_count": 97,
   "id": "b99cc7ea",
   "metadata": {},
   "outputs": [
    {
     "name": "stdout",
     "output_type": "stream",
     "text": [
      "   fit_time  score_time  test_max_error   test_r2  \\\n",
      "0  0.004582    0.003644    -2023.728583  0.622615   \n",
      "1  0.002863    0.001681    -1324.562041  0.729787   \n",
      "2  0.001333    0.001250    -1931.604436  0.494733   \n",
      "3  0.001599    0.001440    -1588.348451  0.718244   \n",
      "4  0.002108    0.001155    -1594.829760  0.743083   \n",
      "\n",
      "   test_neg_mean_absolute_error  test_neg_mean_squared_error  \n",
      "0                   -375.199232               -274148.163271  \n",
      "1                   -313.719113               -159436.114639  \n",
      "2                   -385.618079               -280979.188572  \n",
      "3                   -306.013936               -177988.998349  \n",
      "4                   -300.813812               -173225.363141  \n",
      "0.6616923688461587\n"
     ]
    }
   ],
   "source": [
    "from sklearn.model_selection import cross_validate\n",
    "# 5-Fold Cross validate model\n",
    "model = LinearRegression()\n",
    "cv_results_test = cross_validate(model, X_test_processed, y_test, cv=5, \n",
    "                            scoring=['max_error',\n",
    "                                     'r2', \n",
    "                                     'neg_mean_absolute_error',\n",
    "                                     'neg_mean_squared_error']\n",
    "                           )\n",
    "print(pd.DataFrame(cv_results_test)) \n",
    "print((cv_results_test['test_r2'].mean()))"
   ]
  },
  {
   "cell_type": "markdown",
   "id": "da433180",
   "metadata": {
    "slideshow": {
     "slide_type": "subslide"
    }
   },
   "source": [
    "## Checking the performance against other regression models"
   ]
  },
  {
   "cell_type": "code",
   "execution_count": 81,
   "id": "378a1a1a",
   "metadata": {},
   "outputs": [],
   "source": [
    "from pycaret  import regression\n",
    "from pycaret.regression import compare_models\n",
    "from skopt import BayesSearchCV\n",
    "#from bayes_opt import BayesianOptimization\n",
    "from sklearn.model_selection import cross_val_score\n",
    "from sklearn.preprocessing import OrdinalEncoder\n",
    "\n",
    "from sklearn.model_selection import train_test_split\n",
    "from sklearn.linear_model import Ridge, Lasso, ElasticNet\n",
    "from xgboost import XGBRegressor\n",
    "from sklearn.model_selection import GridSearchCV\n",
    "from sklearn.linear_model import LinearRegression, Ridge\n",
    "from sklearn.svm import SVR\n",
    "from sklearn.ensemble import AdaBoostRegressor\n",
    "from sklearn.tree import DecisionTreeRegressor\n",
    "from sklearn.ensemble import GradientBoostingRegressor\n",
    "from sklearn.ensemble import StackingRegressor"
   ]
  },
  {
   "cell_type": "code",
   "execution_count": 82,
   "id": "ddbd3e31",
   "metadata": {
    "slideshow": {
     "slide_type": "subslide"
    }
   },
   "outputs": [
    {
     "data": {
      "text/html": [
       "<style type=\"text/css\">\n",
       "#T_b3acc_row9_col1 {\n",
       "  background-color: lightgreen;\n",
       "}\n",
       "</style>\n",
       "<table id=\"T_b3acc\">\n",
       "  <thead>\n",
       "    <tr>\n",
       "      <th class=\"blank level0\" >&nbsp;</th>\n",
       "      <th id=\"T_b3acc_level0_col0\" class=\"col_heading level0 col0\" >Description</th>\n",
       "      <th id=\"T_b3acc_level0_col1\" class=\"col_heading level0 col1\" >Value</th>\n",
       "    </tr>\n",
       "  </thead>\n",
       "  <tbody>\n",
       "    <tr>\n",
       "      <th id=\"T_b3acc_level0_row0\" class=\"row_heading level0 row0\" >0</th>\n",
       "      <td id=\"T_b3acc_row0_col0\" class=\"data row0 col0\" >Session id</td>\n",
       "      <td id=\"T_b3acc_row0_col1\" class=\"data row0 col1\" >42</td>\n",
       "    </tr>\n",
       "    <tr>\n",
       "      <th id=\"T_b3acc_level0_row1\" class=\"row_heading level0 row1\" >1</th>\n",
       "      <td id=\"T_b3acc_row1_col0\" class=\"data row1 col0\" >Target</td>\n",
       "      <td id=\"T_b3acc_row1_col1\" class=\"data row1 col1\" >Cals</td>\n",
       "    </tr>\n",
       "    <tr>\n",
       "      <th id=\"T_b3acc_level0_row2\" class=\"row_heading level0 row2\" >2</th>\n",
       "      <td id=\"T_b3acc_row2_col0\" class=\"data row2 col0\" >Target type</td>\n",
       "      <td id=\"T_b3acc_row2_col1\" class=\"data row2 col1\" >Regression</td>\n",
       "    </tr>\n",
       "    <tr>\n",
       "      <th id=\"T_b3acc_level0_row3\" class=\"row_heading level0 row3\" >3</th>\n",
       "      <td id=\"T_b3acc_row3_col0\" class=\"data row3 col0\" >Original data shape</td>\n",
       "      <td id=\"T_b3acc_row3_col1\" class=\"data row3 col1\" >(1014, 10)</td>\n",
       "    </tr>\n",
       "    <tr>\n",
       "      <th id=\"T_b3acc_level0_row4\" class=\"row_heading level0 row4\" >4</th>\n",
       "      <td id=\"T_b3acc_row4_col0\" class=\"data row4 col0\" >Transformed data shape</td>\n",
       "      <td id=\"T_b3acc_row4_col1\" class=\"data row4 col1\" >(1014, 21)</td>\n",
       "    </tr>\n",
       "    <tr>\n",
       "      <th id=\"T_b3acc_level0_row5\" class=\"row_heading level0 row5\" >5</th>\n",
       "      <td id=\"T_b3acc_row5_col0\" class=\"data row5 col0\" >Transformed train set shape</td>\n",
       "      <td id=\"T_b3acc_row5_col1\" class=\"data row5 col1\" >(709, 21)</td>\n",
       "    </tr>\n",
       "    <tr>\n",
       "      <th id=\"T_b3acc_level0_row6\" class=\"row_heading level0 row6\" >6</th>\n",
       "      <td id=\"T_b3acc_row6_col0\" class=\"data row6 col0\" >Transformed test set shape</td>\n",
       "      <td id=\"T_b3acc_row6_col1\" class=\"data row6 col1\" >(305, 21)</td>\n",
       "    </tr>\n",
       "    <tr>\n",
       "      <th id=\"T_b3acc_level0_row7\" class=\"row_heading level0 row7\" >7</th>\n",
       "      <td id=\"T_b3acc_row7_col0\" class=\"data row7 col0\" >Numeric features</td>\n",
       "      <td id=\"T_b3acc_row7_col1\" class=\"data row7 col1\" >7</td>\n",
       "    </tr>\n",
       "    <tr>\n",
       "      <th id=\"T_b3acc_level0_row8\" class=\"row_heading level0 row8\" >8</th>\n",
       "      <td id=\"T_b3acc_row8_col0\" class=\"data row8 col0\" >Categorical features</td>\n",
       "      <td id=\"T_b3acc_row8_col1\" class=\"data row8 col1\" >1</td>\n",
       "    </tr>\n",
       "    <tr>\n",
       "      <th id=\"T_b3acc_level0_row9\" class=\"row_heading level0 row9\" >9</th>\n",
       "      <td id=\"T_b3acc_row9_col0\" class=\"data row9 col0\" >Preprocess</td>\n",
       "      <td id=\"T_b3acc_row9_col1\" class=\"data row9 col1\" >True</td>\n",
       "    </tr>\n",
       "    <tr>\n",
       "      <th id=\"T_b3acc_level0_row10\" class=\"row_heading level0 row10\" >10</th>\n",
       "      <td id=\"T_b3acc_row10_col0\" class=\"data row10 col0\" >Imputation type</td>\n",
       "      <td id=\"T_b3acc_row10_col1\" class=\"data row10 col1\" >simple</td>\n",
       "    </tr>\n",
       "    <tr>\n",
       "      <th id=\"T_b3acc_level0_row11\" class=\"row_heading level0 row11\" >11</th>\n",
       "      <td id=\"T_b3acc_row11_col0\" class=\"data row11 col0\" >Numeric imputation</td>\n",
       "      <td id=\"T_b3acc_row11_col1\" class=\"data row11 col1\" >mean</td>\n",
       "    </tr>\n",
       "    <tr>\n",
       "      <th id=\"T_b3acc_level0_row12\" class=\"row_heading level0 row12\" >12</th>\n",
       "      <td id=\"T_b3acc_row12_col0\" class=\"data row12 col0\" >Categorical imputation</td>\n",
       "      <td id=\"T_b3acc_row12_col1\" class=\"data row12 col1\" >mode</td>\n",
       "    </tr>\n",
       "    <tr>\n",
       "      <th id=\"T_b3acc_level0_row13\" class=\"row_heading level0 row13\" >13</th>\n",
       "      <td id=\"T_b3acc_row13_col0\" class=\"data row13 col0\" >Maximum one-hot encoding</td>\n",
       "      <td id=\"T_b3acc_row13_col1\" class=\"data row13 col1\" >25</td>\n",
       "    </tr>\n",
       "    <tr>\n",
       "      <th id=\"T_b3acc_level0_row14\" class=\"row_heading level0 row14\" >14</th>\n",
       "      <td id=\"T_b3acc_row14_col0\" class=\"data row14 col0\" >Encoding method</td>\n",
       "      <td id=\"T_b3acc_row14_col1\" class=\"data row14 col1\" >None</td>\n",
       "    </tr>\n",
       "    <tr>\n",
       "      <th id=\"T_b3acc_level0_row15\" class=\"row_heading level0 row15\" >15</th>\n",
       "      <td id=\"T_b3acc_row15_col0\" class=\"data row15 col0\" >Fold Generator</td>\n",
       "      <td id=\"T_b3acc_row15_col1\" class=\"data row15 col1\" >KFold</td>\n",
       "    </tr>\n",
       "    <tr>\n",
       "      <th id=\"T_b3acc_level0_row16\" class=\"row_heading level0 row16\" >16</th>\n",
       "      <td id=\"T_b3acc_row16_col0\" class=\"data row16 col0\" >Fold Number</td>\n",
       "      <td id=\"T_b3acc_row16_col1\" class=\"data row16 col1\" >10</td>\n",
       "    </tr>\n",
       "    <tr>\n",
       "      <th id=\"T_b3acc_level0_row17\" class=\"row_heading level0 row17\" >17</th>\n",
       "      <td id=\"T_b3acc_row17_col0\" class=\"data row17 col0\" >CPU Jobs</td>\n",
       "      <td id=\"T_b3acc_row17_col1\" class=\"data row17 col1\" >-1</td>\n",
       "    </tr>\n",
       "    <tr>\n",
       "      <th id=\"T_b3acc_level0_row18\" class=\"row_heading level0 row18\" >18</th>\n",
       "      <td id=\"T_b3acc_row18_col0\" class=\"data row18 col0\" >Use GPU</td>\n",
       "      <td id=\"T_b3acc_row18_col1\" class=\"data row18 col1\" >False</td>\n",
       "    </tr>\n",
       "    <tr>\n",
       "      <th id=\"T_b3acc_level0_row19\" class=\"row_heading level0 row19\" >19</th>\n",
       "      <td id=\"T_b3acc_row19_col0\" class=\"data row19 col0\" >Log Experiment</td>\n",
       "      <td id=\"T_b3acc_row19_col1\" class=\"data row19 col1\" >False</td>\n",
       "    </tr>\n",
       "    <tr>\n",
       "      <th id=\"T_b3acc_level0_row20\" class=\"row_heading level0 row20\" >20</th>\n",
       "      <td id=\"T_b3acc_row20_col0\" class=\"data row20 col0\" >Experiment Name</td>\n",
       "      <td id=\"T_b3acc_row20_col1\" class=\"data row20 col1\" >reg-default-name</td>\n",
       "    </tr>\n",
       "    <tr>\n",
       "      <th id=\"T_b3acc_level0_row21\" class=\"row_heading level0 row21\" >21</th>\n",
       "      <td id=\"T_b3acc_row21_col0\" class=\"data row21 col0\" >USI</td>\n",
       "      <td id=\"T_b3acc_row21_col1\" class=\"data row21 col1\" >fb63</td>\n",
       "    </tr>\n",
       "  </tbody>\n",
       "</table>\n"
      ],
      "text/plain": [
       "<pandas.io.formats.style.Styler at 0x7fe5f78582e0>"
      ]
     },
     "metadata": {},
     "output_type": "display_data"
    },
    {
     "data": {
      "text/plain": [
       "<pycaret.regression.oop.RegressionExperiment at 0x7fe5f7853f40>"
      ]
     },
     "execution_count": 82,
     "metadata": {},
     "output_type": "execute_result"
    }
   ],
   "source": [
    "regression.setup(X,target=y ,session_id=42, categorical_features = categorical_cols, numeric_features = numeric_cols)"
   ]
  },
  {
   "cell_type": "code",
   "execution_count": 101,
   "id": "99bee3ba",
   "metadata": {
    "scrolled": false,
    "slideshow": {
     "slide_type": "subslide"
    }
   },
   "outputs": [
    {
     "data": {
      "text/html": [],
      "text/plain": [
       "<IPython.core.display.HTML object>"
      ]
     },
     "metadata": {},
     "output_type": "display_data"
    },
    {
     "data": {
      "text/html": [
       "<style type=\"text/css\">\n",
       "</style>\n",
       "<table id=\"T_d37b2\">\n",
       "  <thead>\n",
       "  </thead>\n",
       "  <tbody>\n",
       "  </tbody>\n",
       "</table>\n"
      ],
      "text/plain": [
       "<pandas.io.formats.style.Styler at 0x7fe5f797ffd0>"
      ]
     },
     "metadata": {},
     "output_type": "display_data"
    },
    {
     "data": {
      "application/vnd.jupyter.widget-view+json": {
       "model_id": "",
       "version_major": 2,
       "version_minor": 0
      },
      "text/plain": [
       "Processing:   0%|          | 0/81 [00:00<?, ?it/s]"
      ]
     },
     "metadata": {},
     "output_type": "display_data"
    },
    {
     "data": {
      "text/plain": [
       "[]"
      ]
     },
     "execution_count": 101,
     "metadata": {},
     "output_type": "execute_result"
    }
   ],
   "source": [
    "regression.compare_models()"
   ]
  },
  {
   "cell_type": "markdown",
   "id": "3436fefb",
   "metadata": {
    "slideshow": {
     "slide_type": "slide"
    }
   },
   "source": [
    "# XGB Regressor"
   ]
  },
  {
   "cell_type": "code",
   "execution_count": 108,
   "id": "7a8693b0",
   "metadata": {},
   "outputs": [],
   "source": [
    "from sklearn.pipeline import make_pipeline\n",
    "from sklearn.compose import make_column_transformer\n",
    "from sklearn.preprocessing import OneHotEncoder\n",
    "from sklearn.model_selection import cross_val_score\n",
    "from xgboost import XGBRegressor\n",
    "\n",
    "numeric_cols = X_train.select_dtypes(include=['float64', 'int64']).columns.tolist()\n",
    "categorical_cols = X_train.select_dtypes(include=['object']).columns.tolist()\n",
    "\n",
    "preproc_numerical = make_pipeline(\n",
    "    RobustScaler())\n",
    "\n",
    "preproc_categorical = make_pipeline(\n",
    "    OneHotEncoder(handle_unknown=\"ignore\"))\n",
    "\n",
    "preproc = make_column_transformer(\n",
    "    (preproc_numerical, numeric_cols),\n",
    "    (preproc_categorical, categorical_cols),\n",
    "    remainder=\"drop\")\n",
    "\n",
    "model_xgb = XGBRegressor(max_depth=10, n_estimators=600, learning_rate=0.1)\n",
    "\n",
    "pipe_xgb = make_pipeline(preproc, model_xgb)\n"
   ]
  },
  {
   "cell_type": "code",
   "execution_count": 110,
   "id": "a3c02ffd",
   "metadata": {},
   "outputs": [
    {
     "data": {
      "text/plain": [
       "0.7197395774749147"
      ]
     },
     "execution_count": 110,
     "metadata": {},
     "output_type": "execute_result"
    }
   ],
   "source": [
    "cross_val_score(pipe_xgb,X_train,y_train,cv=5,scoring=\"r2\").mean()"
   ]
  },
  {
   "cell_type": "code",
   "execution_count": 112,
   "id": "8ce39477",
   "metadata": {
    "slideshow": {
     "slide_type": "subslide"
    }
   },
   "outputs": [
    {
     "data": {
      "text/plain": [
       "(3629.9229, 305)"
      ]
     },
     "execution_count": 112,
     "metadata": {},
     "output_type": "execute_result"
    }
   ],
   "source": [
    "pipe_gbr.fit(X_train,y_train)\n",
    "y_pred= pipe_gbr.predict(X_test)\n",
    "y_pred[0], len(y_pred)"
   ]
  },
  {
   "cell_type": "code",
   "execution_count": 98,
   "id": "1ef899d3",
   "metadata": {},
   "outputs": [
    {
     "name": "stdout",
     "output_type": "stream",
     "text": [
      "0.8004713282775169\n"
     ]
    }
   ],
   "source": [
    "from sklearn.model_selection import cross_validate\n",
    "# 5-Fold Cross validate model\n",
    "\n",
    "cv_results_xgb_test = cross_validate(model_xgb, X_test_processed, y_test, cv=5, \n",
    "                            scoring=['max_error',\n",
    "                                     'r2', \n",
    "                                     'neg_mean_absolute_error',\n",
    "                                     'neg_mean_squared_error']\n",
    "                           )\n",
    "\n",
    "(cv_results_xgb_test['test_r2'].mean())"
   ]
  },
  {
   "cell_type": "markdown",
   "id": "8e44ec8c",
   "metadata": {
    "slideshow": {
     "slide_type": "slide"
    }
   },
   "source": [
    "# Random Forest Regressor"
   ]
  },
  {
   "cell_type": "code",
   "execution_count": 113,
   "id": "5652f093",
   "metadata": {},
   "outputs": [
    {
     "data": {
      "text/plain": [
       "0.730421423010305"
      ]
     },
     "execution_count": 113,
     "metadata": {},
     "output_type": "execute_result"
    }
   ],
   "source": [
    "from sklearn.ensemble import RandomForestRegressor\n",
    "\n",
    "numeric_cols = X_train.select_dtypes(include=['float64', 'int64']).columns.tolist()\n",
    "categorical_cols = X_train.select_dtypes(include=['object']).columns.tolist()\n",
    "\n",
    "preproc_numerical = make_pipeline(\n",
    "    RobustScaler())\n",
    "\n",
    "preproc_categorical = make_pipeline(\n",
    "    OneHotEncoder(handle_unknown=\"ignore\"))\n",
    "\n",
    "preproc = make_column_transformer(\n",
    "    (preproc_numerical, numeric_cols),\n",
    "    (preproc_categorical, categorical_cols),\n",
    "    remainder=\"drop\")\n",
    "\n",
    "\n",
    "regressor = RandomForestRegressor(n_estimators=100, random_state=42)\n",
    "pipe_forest = make_pipeline(preproc, regressor)\n",
    "\n",
    "cross_val_score(pipe_forest,X_train,y_train,cv=5,scoring=\"r2\").mean()"
   ]
  },
  {
   "cell_type": "code",
   "execution_count": 114,
   "id": "adca6bc5",
   "metadata": {
    "slideshow": {
     "slide_type": "subslide"
    }
   },
   "outputs": [
    {
     "data": {
      "text/plain": [
       "(3572.9, 305)"
      ]
     },
     "execution_count": 114,
     "metadata": {},
     "output_type": "execute_result"
    }
   ],
   "source": [
    "pipe_forest.fit(X_train,y_train)\n",
    "y_pred= pipe_forest.predict(X_test)\n",
    "y_pred[0], len(y_pred)"
   ]
  },
  {
   "cell_type": "code",
   "execution_count": 115,
   "id": "7894ad5e",
   "metadata": {},
   "outputs": [
    {
     "name": "stdout",
     "output_type": "stream",
     "text": [
      "0.7830157940743037\n"
     ]
    }
   ],
   "source": [
    "from sklearn.model_selection import cross_validate\n",
    "# 5-Fold Cross validate model\n",
    "\n",
    "cv_results_forest_test = cross_validate(regressor, X_test_processed, y_test, cv=5, \n",
    "                            scoring=['max_error',\n",
    "                                     'r2', \n",
    "                                     'neg_mean_absolute_error',\n",
    "                                     'neg_mean_squared_error']\n",
    "                           )\n",
    "\n",
    "print((cv_results_forest_test['test_r2'].mean()))"
   ]
  },
  {
   "cell_type": "markdown",
   "id": "300f9a24",
   "metadata": {
    "slideshow": {
     "slide_type": "slide"
    }
   },
   "source": [
    "# Compare the Models"
   ]
  },
  {
   "cell_type": "code",
   "execution_count": 116,
   "id": "d7bc4ea2",
   "metadata": {
    "slideshow": {
     "slide_type": "skip"
    }
   },
   "outputs": [],
   "source": [
    "linear_train = cv_results_train['test_r2'].mean()\n",
    "linear_test = cv_results_test['test_r2'].mean()\n",
    "xgb_train = cross_val_score(pipe_xgb,X_train,y_train,cv=5,scoring=\"r2\").mean()\n",
    "xgb_test = cv_results_xgb_test['test_r2'].mean()\n",
    "forest_train = cross_val_score(pipe_forest,X_train,y_train,cv=5,scoring=\"r2\").mean()\n",
    "forest_test = cv_results_forest_test['test_r2'].mean()"
   ]
  },
  {
   "cell_type": "code",
   "execution_count": 133,
   "id": "947c7022",
   "metadata": {},
   "outputs": [
    {
     "data": {
      "text/html": [
       "<div>\n",
       "<style scoped>\n",
       "    .dataframe tbody tr th:only-of-type {\n",
       "        vertical-align: middle;\n",
       "    }\n",
       "\n",
       "    .dataframe tbody tr th {\n",
       "        vertical-align: top;\n",
       "    }\n",
       "\n",
       "    .dataframe thead th {\n",
       "        text-align: right;\n",
       "    }\n",
       "</style>\n",
       "<table border=\"1\" class=\"dataframe\">\n",
       "  <thead>\n",
       "    <tr style=\"text-align: right;\">\n",
       "      <th></th>\n",
       "      <th>Model</th>\n",
       "      <th>Train</th>\n",
       "      <th>Test</th>\n",
       "    </tr>\n",
       "  </thead>\n",
       "  <tbody>\n",
       "    <tr>\n",
       "      <th>0</th>\n",
       "      <td>linear</td>\n",
       "      <td>0.701</td>\n",
       "      <td>0.662</td>\n",
       "    </tr>\n",
       "    <tr>\n",
       "      <th>1</th>\n",
       "      <td>xgb</td>\n",
       "      <td>0.720</td>\n",
       "      <td>0.800</td>\n",
       "    </tr>\n",
       "    <tr>\n",
       "      <th>2</th>\n",
       "      <td>forest</td>\n",
       "      <td>0.730</td>\n",
       "      <td>0.783</td>\n",
       "    </tr>\n",
       "  </tbody>\n",
       "</table>\n",
       "</div>"
      ],
      "text/plain": [
       "    Model  Train   Test\n",
       "0  linear  0.701  0.662\n",
       "1     xgb  0.720  0.800\n",
       "2  forest  0.730  0.783"
      ]
     },
     "execution_count": 133,
     "metadata": {},
     "output_type": "execute_result"
    }
   ],
   "source": [
    "data = {\n",
    "    'Model': ['linear', 'xgb', 'forest'],\n",
    "    'Train': [linear_train, xgb_train, forest_train],\n",
    "    'Test': [linear_test, xgb_test, forest_test]\n",
    "}\n",
    "\n",
    "df_compare = pd.DataFrame(data)\n",
    "\n",
    "df_compare['Train'] = df_compare['Train'].round(3)\n",
    "df_compare['Test'] = df_compare['Test'].round(3)\n",
    "df_compare"
   ]
  },
  {
   "cell_type": "code",
   "execution_count": 134,
   "id": "bd4272e8",
   "metadata": {
    "slideshow": {
     "slide_type": "subslide"
    }
   },
   "outputs": [
    {
     "data": {
      "text/html": [
       "<div>\n",
       "<style scoped>\n",
       "    .dataframe tbody tr th:only-of-type {\n",
       "        vertical-align: middle;\n",
       "    }\n",
       "\n",
       "    .dataframe tbody tr th {\n",
       "        vertical-align: top;\n",
       "    }\n",
       "\n",
       "    .dataframe thead th {\n",
       "        text-align: right;\n",
       "    }\n",
       "</style>\n",
       "<table border=\"1\" class=\"dataframe\">\n",
       "  <thead>\n",
       "    <tr style=\"text-align: right;\">\n",
       "      <th></th>\n",
       "      <th>Date</th>\n",
       "      <th>Sleep</th>\n",
       "      <th>Activity Type</th>\n",
       "      <th>Activity Duration</th>\n",
       "      <th>TSS</th>\n",
       "      <th>Weight</th>\n",
       "      <th>Steps</th>\n",
       "      <th>Cals_burnt</th>\n",
       "      <th>Protein</th>\n",
       "      <th>Sensation</th>\n",
       "    </tr>\n",
       "  </thead>\n",
       "  <tbody>\n",
       "    <tr>\n",
       "      <th>0</th>\n",
       "      <td>2023-10-24</td>\n",
       "      <td>8.1</td>\n",
       "      <td>Run</td>\n",
       "      <td>140</td>\n",
       "      <td>130</td>\n",
       "      <td>86.8</td>\n",
       "      <td>8000</td>\n",
       "      <td>3154</td>\n",
       "      <td>80</td>\n",
       "      <td>8.6</td>\n",
       "    </tr>\n",
       "  </tbody>\n",
       "</table>\n",
       "</div>"
      ],
      "text/plain": [
       "         Date  Sleep Activity Type  Activity Duration  TSS  Weight  Steps  \\\n",
       "0  2023-10-24    8.1           Run                140  130    86.8   8000   \n",
       "\n",
       "   Cals_burnt  Protein  Sensation  \n",
       "0        3154       80        8.6  "
      ]
     },
     "execution_count": 134,
     "metadata": {},
     "output_type": "execute_result"
    }
   ],
   "source": [
    "from datetime import date\n",
    "\n",
    "today = date.today()\n",
    "\n",
    "new_data = {\n",
    "\n",
    "    'Date' : today,          \n",
    "    'Sleep' : 8.1,              \n",
    "    'Activity Type': 'Run' ,\n",
    "    'Activity Duration' :  140, \n",
    "    'TSS' : 130,              \n",
    "    'Weight' : 86.8,           \n",
    "    'Steps' : 8000,           \n",
    "    'Cals_burnt' : 3154,                         \n",
    "    'Protein' : 80,    \n",
    "    'Sensation' : 8.6,\n",
    "}\n",
    "\n",
    "new_data_df = pd.DataFrame([new_data])\n",
    "new_data_df"
   ]
  },
  {
   "cell_type": "code",
   "execution_count": 127,
   "id": "86fb3a65",
   "metadata": {
    "slideshow": {
     "slide_type": "skip"
    }
   },
   "outputs": [
    {
     "data": {
      "text/html": [
       "<style>#sk-container-id-1 {color: black;background-color: white;}#sk-container-id-1 pre{padding: 0;}#sk-container-id-1 div.sk-toggleable {background-color: white;}#sk-container-id-1 label.sk-toggleable__label {cursor: pointer;display: block;width: 100%;margin-bottom: 0;padding: 0.3em;box-sizing: border-box;text-align: center;}#sk-container-id-1 label.sk-toggleable__label-arrow:before {content: \"▸\";float: left;margin-right: 0.25em;color: #696969;}#sk-container-id-1 label.sk-toggleable__label-arrow:hover:before {color: black;}#sk-container-id-1 div.sk-estimator:hover label.sk-toggleable__label-arrow:before {color: black;}#sk-container-id-1 div.sk-toggleable__content {max-height: 0;max-width: 0;overflow: hidden;text-align: left;background-color: #f0f8ff;}#sk-container-id-1 div.sk-toggleable__content pre {margin: 0.2em;color: black;border-radius: 0.25em;background-color: #f0f8ff;}#sk-container-id-1 input.sk-toggleable__control:checked~div.sk-toggleable__content {max-height: 200px;max-width: 100%;overflow: auto;}#sk-container-id-1 input.sk-toggleable__control:checked~label.sk-toggleable__label-arrow:before {content: \"▾\";}#sk-container-id-1 div.sk-estimator input.sk-toggleable__control:checked~label.sk-toggleable__label {background-color: #d4ebff;}#sk-container-id-1 div.sk-label input.sk-toggleable__control:checked~label.sk-toggleable__label {background-color: #d4ebff;}#sk-container-id-1 input.sk-hidden--visually {border: 0;clip: rect(1px 1px 1px 1px);clip: rect(1px, 1px, 1px, 1px);height: 1px;margin: -1px;overflow: hidden;padding: 0;position: absolute;width: 1px;}#sk-container-id-1 div.sk-estimator {font-family: monospace;background-color: #f0f8ff;border: 1px dotted black;border-radius: 0.25em;box-sizing: border-box;margin-bottom: 0.5em;}#sk-container-id-1 div.sk-estimator:hover {background-color: #d4ebff;}#sk-container-id-1 div.sk-parallel-item::after {content: \"\";width: 100%;border-bottom: 1px solid gray;flex-grow: 1;}#sk-container-id-1 div.sk-label:hover label.sk-toggleable__label {background-color: #d4ebff;}#sk-container-id-1 div.sk-serial::before {content: \"\";position: absolute;border-left: 1px solid gray;box-sizing: border-box;top: 0;bottom: 0;left: 50%;z-index: 0;}#sk-container-id-1 div.sk-serial {display: flex;flex-direction: column;align-items: center;background-color: white;padding-right: 0.2em;padding-left: 0.2em;position: relative;}#sk-container-id-1 div.sk-item {position: relative;z-index: 1;}#sk-container-id-1 div.sk-parallel {display: flex;align-items: stretch;justify-content: center;background-color: white;position: relative;}#sk-container-id-1 div.sk-item::before, #sk-container-id-1 div.sk-parallel-item::before {content: \"\";position: absolute;border-left: 1px solid gray;box-sizing: border-box;top: 0;bottom: 0;left: 50%;z-index: -1;}#sk-container-id-1 div.sk-parallel-item {display: flex;flex-direction: column;z-index: 1;position: relative;background-color: white;}#sk-container-id-1 div.sk-parallel-item:first-child::after {align-self: flex-end;width: 50%;}#sk-container-id-1 div.sk-parallel-item:last-child::after {align-self: flex-start;width: 50%;}#sk-container-id-1 div.sk-parallel-item:only-child::after {width: 0;}#sk-container-id-1 div.sk-dashed-wrapped {border: 1px dashed gray;margin: 0 0.4em 0.5em 0.4em;box-sizing: border-box;padding-bottom: 0.4em;background-color: white;}#sk-container-id-1 div.sk-label label {font-family: monospace;font-weight: bold;display: inline-block;line-height: 1.2em;}#sk-container-id-1 div.sk-label-container {text-align: center;}#sk-container-id-1 div.sk-container {/* jupyter's `normalize.less` sets `[hidden] { display: none; }` but bootstrap.min.css set `[hidden] { display: none !important; }` so we also need the `!important` here to be able to override the default hidden behavior on the sphinx rendered scikit-learn.org. See: https://github.com/scikit-learn/scikit-learn/issues/21755 */display: inline-block !important;position: relative;}#sk-container-id-1 div.sk-text-repr-fallback {display: none;}</style><div id=\"sk-container-id-1\" class=\"sk-top-container\"><div class=\"sk-text-repr-fallback\"><pre>Pipeline(steps=[(&#x27;columntransformer&#x27;,\n",
       "                 ColumnTransformer(transformers=[(&#x27;pipeline-1&#x27;,\n",
       "                                                  Pipeline(steps=[(&#x27;robustscaler&#x27;,\n",
       "                                                                   RobustScaler())]),\n",
       "                                                  [&#x27;Sleep&#x27;, &#x27;Activity Duration&#x27;,\n",
       "                                                   &#x27;TSS&#x27;, &#x27;Steps&#x27;, &#x27;Cals_burnt&#x27;,\n",
       "                                                   &#x27;Protein&#x27;, &#x27;Sensation&#x27;]),\n",
       "                                                 (&#x27;pipeline-2&#x27;,\n",
       "                                                  Pipeline(steps=[(&#x27;onehotencoder&#x27;,\n",
       "                                                                   OneHotEncoder(handle_unknown=&#x27;ignore&#x27;))]),\n",
       "                                                  [&#x27;Activity Type&#x27;])])),\n",
       "                (&#x27;linearregression&#x27;, LinearRegression())])</pre><b>In a Jupyter environment, please rerun this cell to show the HTML representation or trust the notebook. <br />On GitHub, the HTML representation is unable to render, please try loading this page with nbviewer.org.</b></div><div class=\"sk-container\" hidden><div class=\"sk-item sk-dashed-wrapped\"><div class=\"sk-label-container\"><div class=\"sk-label sk-toggleable\"><input class=\"sk-toggleable__control sk-hidden--visually\" id=\"sk-estimator-id-1\" type=\"checkbox\" ><label for=\"sk-estimator-id-1\" class=\"sk-toggleable__label sk-toggleable__label-arrow\">Pipeline</label><div class=\"sk-toggleable__content\"><pre>Pipeline(steps=[(&#x27;columntransformer&#x27;,\n",
       "                 ColumnTransformer(transformers=[(&#x27;pipeline-1&#x27;,\n",
       "                                                  Pipeline(steps=[(&#x27;robustscaler&#x27;,\n",
       "                                                                   RobustScaler())]),\n",
       "                                                  [&#x27;Sleep&#x27;, &#x27;Activity Duration&#x27;,\n",
       "                                                   &#x27;TSS&#x27;, &#x27;Steps&#x27;, &#x27;Cals_burnt&#x27;,\n",
       "                                                   &#x27;Protein&#x27;, &#x27;Sensation&#x27;]),\n",
       "                                                 (&#x27;pipeline-2&#x27;,\n",
       "                                                  Pipeline(steps=[(&#x27;onehotencoder&#x27;,\n",
       "                                                                   OneHotEncoder(handle_unknown=&#x27;ignore&#x27;))]),\n",
       "                                                  [&#x27;Activity Type&#x27;])])),\n",
       "                (&#x27;linearregression&#x27;, LinearRegression())])</pre></div></div></div><div class=\"sk-serial\"><div class=\"sk-item sk-dashed-wrapped\"><div class=\"sk-label-container\"><div class=\"sk-label sk-toggleable\"><input class=\"sk-toggleable__control sk-hidden--visually\" id=\"sk-estimator-id-2\" type=\"checkbox\" ><label for=\"sk-estimator-id-2\" class=\"sk-toggleable__label sk-toggleable__label-arrow\">columntransformer: ColumnTransformer</label><div class=\"sk-toggleable__content\"><pre>ColumnTransformer(transformers=[(&#x27;pipeline-1&#x27;,\n",
       "                                 Pipeline(steps=[(&#x27;robustscaler&#x27;,\n",
       "                                                  RobustScaler())]),\n",
       "                                 [&#x27;Sleep&#x27;, &#x27;Activity Duration&#x27;, &#x27;TSS&#x27;, &#x27;Steps&#x27;,\n",
       "                                  &#x27;Cals_burnt&#x27;, &#x27;Protein&#x27;, &#x27;Sensation&#x27;]),\n",
       "                                (&#x27;pipeline-2&#x27;,\n",
       "                                 Pipeline(steps=[(&#x27;onehotencoder&#x27;,\n",
       "                                                  OneHotEncoder(handle_unknown=&#x27;ignore&#x27;))]),\n",
       "                                 [&#x27;Activity Type&#x27;])])</pre></div></div></div><div class=\"sk-parallel\"><div class=\"sk-parallel-item\"><div class=\"sk-item\"><div class=\"sk-label-container\"><div class=\"sk-label sk-toggleable\"><input class=\"sk-toggleable__control sk-hidden--visually\" id=\"sk-estimator-id-3\" type=\"checkbox\" ><label for=\"sk-estimator-id-3\" class=\"sk-toggleable__label sk-toggleable__label-arrow\">pipeline-1</label><div class=\"sk-toggleable__content\"><pre>[&#x27;Sleep&#x27;, &#x27;Activity Duration&#x27;, &#x27;TSS&#x27;, &#x27;Steps&#x27;, &#x27;Cals_burnt&#x27;, &#x27;Protein&#x27;, &#x27;Sensation&#x27;]</pre></div></div></div><div class=\"sk-serial\"><div class=\"sk-item\"><div class=\"sk-serial\"><div class=\"sk-item\"><div class=\"sk-estimator sk-toggleable\"><input class=\"sk-toggleable__control sk-hidden--visually\" id=\"sk-estimator-id-4\" type=\"checkbox\" ><label for=\"sk-estimator-id-4\" class=\"sk-toggleable__label sk-toggleable__label-arrow\">RobustScaler</label><div class=\"sk-toggleable__content\"><pre>RobustScaler()</pre></div></div></div></div></div></div></div></div><div class=\"sk-parallel-item\"><div class=\"sk-item\"><div class=\"sk-label-container\"><div class=\"sk-label sk-toggleable\"><input class=\"sk-toggleable__control sk-hidden--visually\" id=\"sk-estimator-id-5\" type=\"checkbox\" ><label for=\"sk-estimator-id-5\" class=\"sk-toggleable__label sk-toggleable__label-arrow\">pipeline-2</label><div class=\"sk-toggleable__content\"><pre>[&#x27;Activity Type&#x27;]</pre></div></div></div><div class=\"sk-serial\"><div class=\"sk-item\"><div class=\"sk-serial\"><div class=\"sk-item\"><div class=\"sk-estimator sk-toggleable\"><input class=\"sk-toggleable__control sk-hidden--visually\" id=\"sk-estimator-id-6\" type=\"checkbox\" ><label for=\"sk-estimator-id-6\" class=\"sk-toggleable__label sk-toggleable__label-arrow\">OneHotEncoder</label><div class=\"sk-toggleable__content\"><pre>OneHotEncoder(handle_unknown=&#x27;ignore&#x27;)</pre></div></div></div></div></div></div></div></div></div></div><div class=\"sk-item\"><div class=\"sk-estimator sk-toggleable\"><input class=\"sk-toggleable__control sk-hidden--visually\" id=\"sk-estimator-id-7\" type=\"checkbox\" ><label for=\"sk-estimator-id-7\" class=\"sk-toggleable__label sk-toggleable__label-arrow\">LinearRegression</label><div class=\"sk-toggleable__content\"><pre>LinearRegression()</pre></div></div></div></div></div></div></div>"
      ],
      "text/plain": [
       "Pipeline(steps=[('columntransformer',\n",
       "                 ColumnTransformer(transformers=[('pipeline-1',\n",
       "                                                  Pipeline(steps=[('robustscaler',\n",
       "                                                                   RobustScaler())]),\n",
       "                                                  ['Sleep', 'Activity Duration',\n",
       "                                                   'TSS', 'Steps', 'Cals_burnt',\n",
       "                                                   'Protein', 'Sensation']),\n",
       "                                                 ('pipeline-2',\n",
       "                                                  Pipeline(steps=[('onehotencoder',\n",
       "                                                                   OneHotEncoder(handle_unknown='ignore'))]),\n",
       "                                                  ['Activity Type'])])),\n",
       "                ('linearregression', LinearRegression())])"
      ]
     },
     "execution_count": 127,
     "metadata": {},
     "output_type": "execute_result"
    }
   ],
   "source": [
    "numeric_cols = X_train.select_dtypes(include=['float64', 'int64']).columns.tolist()\n",
    "categorical_cols = X_train.select_dtypes(include=['object']).columns.tolist()\n",
    "\n",
    "preproc_numerical = make_pipeline(\n",
    "    RobustScaler())\n",
    "\n",
    "preproc_categorical = make_pipeline(\n",
    "    OneHotEncoder(handle_unknown=\"ignore\"))\n",
    "\n",
    "preproc = make_column_transformer(\n",
    "    (preproc_numerical, numeric_cols),\n",
    "    (preproc_categorical, categorical_cols),\n",
    "    remainder=\"drop\")\n",
    "\n",
    "model = LinearRegression()\n",
    "\n",
    "pipe_linear = make_pipeline(preproc, model)\n",
    "pipe_linear.fit(X_train,y_train)\n"
   ]
  },
  {
   "cell_type": "markdown",
   "id": "73ae26ee",
   "metadata": {
    "slideshow": {
     "slide_type": "subslide"
    }
   },
   "source": [
    "## Predict the new y-target Calories from each model from new input data"
   ]
  },
  {
   "cell_type": "code",
   "execution_count": 128,
   "id": "54677984",
   "metadata": {
    "slideshow": {
     "slide_type": "-"
    }
   },
   "outputs": [
    {
     "data": {
      "text/plain": [
       "(array([3124.4]), array([2918.6306], dtype=float32), array([3371.59553969]))"
      ]
     },
     "execution_count": 128,
     "metadata": {},
     "output_type": "execute_result"
    }
   ],
   "source": [
    "y_pred_forest= pipe_forest.predict(new_data_df)\n",
    "y_pred_gbr = pipe_gbr.predict(new_data_df)\n",
    "y_pred_linear = pipe_linear.predict(new_data_df)\n",
    "y_pred_forest,y_pred_gbr, y_pred_linear"
   ]
  },
  {
   "cell_type": "code",
   "execution_count": 131,
   "id": "d23c1de1",
   "metadata": {},
   "outputs": [
    {
     "data": {
      "text/html": [
       "<div>\n",
       "<style scoped>\n",
       "    .dataframe tbody tr th:only-of-type {\n",
       "        vertical-align: middle;\n",
       "    }\n",
       "\n",
       "    .dataframe tbody tr th {\n",
       "        vertical-align: top;\n",
       "    }\n",
       "\n",
       "    .dataframe thead th {\n",
       "        text-align: right;\n",
       "    }\n",
       "</style>\n",
       "<table border=\"1\" class=\"dataframe\">\n",
       "  <thead>\n",
       "    <tr style=\"text-align: right;\">\n",
       "      <th></th>\n",
       "      <th>Model</th>\n",
       "      <th>Train</th>\n",
       "      <th>Test</th>\n",
       "      <th>new_data_predict</th>\n",
       "    </tr>\n",
       "  </thead>\n",
       "  <tbody>\n",
       "    <tr>\n",
       "      <th>0</th>\n",
       "      <td>linear</td>\n",
       "      <td>0.701</td>\n",
       "      <td>0.662</td>\n",
       "      <td>3371</td>\n",
       "    </tr>\n",
       "    <tr>\n",
       "      <th>1</th>\n",
       "      <td>xgb</td>\n",
       "      <td>0.720</td>\n",
       "      <td>0.800</td>\n",
       "      <td>2918</td>\n",
       "    </tr>\n",
       "    <tr>\n",
       "      <th>2</th>\n",
       "      <td>forest</td>\n",
       "      <td>0.730</td>\n",
       "      <td>0.783</td>\n",
       "      <td>3124</td>\n",
       "    </tr>\n",
       "  </tbody>\n",
       "</table>\n",
       "</div>"
      ],
      "text/plain": [
       "    Model  Train   Test  new_data_predict\n",
       "0  linear  0.701  0.662              3371\n",
       "1     xgb  0.720  0.800              2918\n",
       "2  forest  0.730  0.783              3124"
      ]
     },
     "execution_count": 131,
     "metadata": {},
     "output_type": "execute_result"
    }
   ],
   "source": [
    "new_data_values = (3371, 2918, 3124)\n",
    "df_compare['new_data_predict'] = new_data_values\n",
    "df_compare"
   ]
  },
  {
   "cell_type": "code",
   "execution_count": null,
   "id": "687dab7b",
   "metadata": {},
   "outputs": [],
   "source": []
  }
 ],
 "metadata": {
  "celltoolbar": "Slideshow",
  "kernelspec": {
   "display_name": "Python 3 (ipykernel)",
   "language": "python",
   "name": "python3"
  },
  "language_info": {
   "codemirror_mode": {
    "name": "ipython",
    "version": 3
   },
   "file_extension": ".py",
   "mimetype": "text/x-python",
   "name": "python",
   "nbconvert_exporter": "python",
   "pygments_lexer": "ipython3",
   "version": "3.8.12"
  },
  "toc": {
   "base_numbering": 1,
   "nav_menu": {},
   "number_sections": true,
   "sideBar": true,
   "skip_h1_title": false,
   "title_cell": "Table of Contents",
   "title_sidebar": "Contents",
   "toc_cell": false,
   "toc_position": {},
   "toc_section_display": true,
   "toc_window_display": false
  }
 },
 "nbformat": 4,
 "nbformat_minor": 5
}
