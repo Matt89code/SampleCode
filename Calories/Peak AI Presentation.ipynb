{
 "cells": [
  {
   "cell_type": "code",
   "execution_count": 14,
   "id": "e81372ab",
   "metadata": {
    "slideshow": {
     "slide_type": "notes"
    }
   },
   "outputs": [
    {
     "data": {
      "text/plain": [
       "{'scroll': True}"
      ]
     },
     "execution_count": 14,
     "metadata": {},
     "output_type": "execute_result"
    }
   ],
   "source": [
    "from traitlets.config.manager import BaseJSONConfigManager\n",
    "from pathlib import Path\n",
    "path = Path.home() / \".jupyter\" / \"nbconfig\"\n",
    "cm = BaseJSONConfigManager(config_dir=str(path))\n",
    "cm.update(\"rise\", {\n",
    "      \"scroll\": True\n",
    "})"
   ]
  },
  {
   "cell_type": "markdown",
   "id": "8a99102c",
   "metadata": {
    "slideshow": {
     "slide_type": "slide"
    }
   },
   "source": [
    "# Tri & Health Data \n",
    "\n",
    "# Calorie ML Model"
   ]
  },
  {
   "cell_type": "markdown",
   "id": "7a3eb432",
   "metadata": {
    "slideshow": {
     "slide_type": "slide"
    }
   },
   "source": [
    "# Story and Background"
   ]
  },
  {
   "cell_type": "markdown",
   "id": "1ed753fe",
   "metadata": {
    "heading_collapsed": true,
    "slideshow": {
     "slide_type": "subslide"
    }
   },
   "source": [
    "## Raw Dataset\n",
    "\n",
    "\n",
    "<table>\n",
    "    <tr>\n",
    "        <td><img src='bike.jpg' alt='Your Image' width='300' height='80'></td>\n",
    "        <td>\n",
    "            <ul>\n",
    "                <li><em>  Uncleaned</em></li>\n",
    "                <li><em>  Not Processed</em></li>\n",
    "                <li><em>  Not Trained</em></li>\n",
    "                <li><em>  No Target y</em></li>\n",
    "                <li><em>  .Fit Underfitted</em></li>\n",
    "            </ul>\n",
    "        </td>\n",
    "    </tr>\n",
    "</table>\n",
    "\n",
    "\n",
    "\n"
   ]
  },
  {
   "cell_type": "markdown",
   "id": "e8086342",
   "metadata": {
    "slideshow": {
     "slide_type": "subslide"
    }
   },
   "source": [
    "## Processed Dataset\n",
    "\n",
    "<table>\n",
    "    <tr>\n",
    "        <td><img src='TT.jpg' alt='Your Image' width='400' height='240'></td>\n",
    "        <td>\n",
    "            <ul>\n",
    "                <li><em>  Cleaned</em></li>\n",
    "                <li><em>  Processed</em></li>\n",
    "                <li><em>  .transform .fit</em></li>\n",
    "                <li><em>  .model</em></li>\n",
    "                <li><em>  .score .metric</em></li>\n",
    "                <li><em>  .fit Fine Tuning</em></li>\n",
    "            </ul>\n",
    "        </td>\n",
    "    </tr>\n",
    "</table>\n"
   ]
  },
  {
   "cell_type": "markdown",
   "id": "ef4f786c",
   "metadata": {
    "slideshow": {
     "slide_type": "subslide"
    }
   },
   "source": [
    "## 4th Discipline of a Triathlon\n",
    "\n",
    "Nutrition \n",
    "\n",
    "- What to eat?\n",
    "- Race Weight?\n",
    "- How much to eat?\n",
    "\n",
    "\n",
    "Problem Statement! \n",
    "\n",
    "How much should one eat that fits around training? \n",
    "\n",
    "Wouldnt it be great if there was...\n",
    "**A Personalised Calorie Requirements for a given Training Day**"
   ]
  },
  {
   "cell_type": "markdown",
   "id": "92a6edbe",
   "metadata": {
    "slideshow": {
     "slide_type": "subslide"
    }
   },
   "source": [
    "## Collecting the Data\n",
    "\n"
   ]
  },
  {
   "cell_type": "code",
   "execution_count": null,
   "id": "04b8024f",
   "metadata": {},
   "outputs": [],
   "source": []
  },
  {
   "cell_type": "code",
   "execution_count": null,
   "id": "793fd808",
   "metadata": {},
   "outputs": [],
   "source": []
  },
  {
   "cell_type": "markdown",
   "id": "cf9fb3fd",
   "metadata": {
    "slideshow": {
     "slide_type": "slide"
    }
   },
   "source": [
    "# Data Sourcing and Cleaning"
   ]
  },
  {
   "cell_type": "markdown",
   "id": "8c60de39",
   "metadata": {
    "slideshow": {
     "slide_type": "subslide"
    }
   },
   "source": [
    "<h1>Data Sourcing</h1>\n",
    "\n",
    "Collect via manually typing data into a CSV file\n",
    "<h3>Daily updating and collecting data</h3>\n",
    "\n"
   ]
  },
  {
   "cell_type": "code",
   "execution_count": 3,
   "id": "44c68548",
   "metadata": {},
   "outputs": [
    {
     "data": {
      "text/html": [
       "<div>\n",
       "<style scoped>\n",
       "    .dataframe tbody tr th:only-of-type {\n",
       "        vertical-align: middle;\n",
       "    }\n",
       "\n",
       "    .dataframe tbody tr th {\n",
       "        vertical-align: top;\n",
       "    }\n",
       "\n",
       "    .dataframe thead th {\n",
       "        text-align: right;\n",
       "    }\n",
       "</style>\n",
       "<table border=\"1\" class=\"dataframe\">\n",
       "  <thead>\n",
       "    <tr style=\"text-align: right;\">\n",
       "      <th></th>\n",
       "      <th>Date</th>\n",
       "      <th>Sleep</th>\n",
       "      <th>Activity Type</th>\n",
       "      <th>Activity Duration</th>\n",
       "      <th>TSS</th>\n",
       "      <th>Weight</th>\n",
       "      <th>HRV</th>\n",
       "      <th>Steps</th>\n",
       "      <th>Cals_burnt</th>\n",
       "      <th>Cals</th>\n",
       "      <th>Carbs</th>\n",
       "      <th>Fats</th>\n",
       "      <th>Protein</th>\n",
       "      <th>Sensation</th>\n",
       "    </tr>\n",
       "  </thead>\n",
       "  <tbody>\n",
       "    <tr>\n",
       "      <th>0</th>\n",
       "      <td>22/05/2017</td>\n",
       "      <td>7.1</td>\n",
       "      <td>Swim, Run</td>\n",
       "      <td>125.0</td>\n",
       "      <td>154</td>\n",
       "      <td>87.7</td>\n",
       "      <td>NaN</td>\n",
       "      <td>13894.0</td>\n",
       "      <td>4600.0</td>\n",
       "      <td>3600.0</td>\n",
       "      <td>NaN</td>\n",
       "      <td>NaN</td>\n",
       "      <td>135.0</td>\n",
       "      <td>7.0</td>\n",
       "    </tr>\n",
       "    <tr>\n",
       "      <th>1</th>\n",
       "      <td>23/05/2017</td>\n",
       "      <td>6.3</td>\n",
       "      <td>Swim</td>\n",
       "      <td>45.0</td>\n",
       "      <td>78</td>\n",
       "      <td>NaN</td>\n",
       "      <td>NaN</td>\n",
       "      <td>12739.0</td>\n",
       "      <td>3459.0</td>\n",
       "      <td>3700.0</td>\n",
       "      <td>NaN</td>\n",
       "      <td>NaN</td>\n",
       "      <td>75.0</td>\n",
       "      <td>4.0</td>\n",
       "    </tr>\n",
       "    <tr>\n",
       "      <th>2</th>\n",
       "      <td>24/05/2017</td>\n",
       "      <td>6.7</td>\n",
       "      <td>NaN</td>\n",
       "      <td>NaN</td>\n",
       "      <td>0</td>\n",
       "      <td>NaN</td>\n",
       "      <td>NaN</td>\n",
       "      <td>3324.0</td>\n",
       "      <td>2629.0</td>\n",
       "      <td>2210.0</td>\n",
       "      <td>NaN</td>\n",
       "      <td>NaN</td>\n",
       "      <td>75.0</td>\n",
       "      <td>8.0</td>\n",
       "    </tr>\n",
       "    <tr>\n",
       "      <th>3</th>\n",
       "      <td>25/05/2017</td>\n",
       "      <td>7.6</td>\n",
       "      <td>Swim, Gym</td>\n",
       "      <td>142.0</td>\n",
       "      <td>155</td>\n",
       "      <td>NaN</td>\n",
       "      <td>NaN</td>\n",
       "      <td>11532.0</td>\n",
       "      <td>4327.0</td>\n",
       "      <td>4580.0</td>\n",
       "      <td>NaN</td>\n",
       "      <td>NaN</td>\n",
       "      <td>120.0</td>\n",
       "      <td>7.0</td>\n",
       "    </tr>\n",
       "    <tr>\n",
       "      <th>4</th>\n",
       "      <td>26/05/2017</td>\n",
       "      <td>8.7</td>\n",
       "      <td>Run</td>\n",
       "      <td>68.0</td>\n",
       "      <td>60</td>\n",
       "      <td>NaN</td>\n",
       "      <td>NaN</td>\n",
       "      <td>10479.0</td>\n",
       "      <td>3363.0</td>\n",
       "      <td>3590.0</td>\n",
       "      <td>NaN</td>\n",
       "      <td>NaN</td>\n",
       "      <td>80.0</td>\n",
       "      <td>9.0</td>\n",
       "    </tr>\n",
       "  </tbody>\n",
       "</table>\n",
       "</div>"
      ],
      "text/plain": [
       "         Date  Sleep Activity Type  Activity Duration  TSS  Weight  HRV  \\\n",
       "0  22/05/2017    7.1     Swim, Run              125.0  154    87.7  NaN   \n",
       "1  23/05/2017    6.3          Swim               45.0   78     NaN  NaN   \n",
       "2  24/05/2017    6.7           NaN                NaN    0     NaN  NaN   \n",
       "3  25/05/2017    7.6     Swim, Gym              142.0  155     NaN  NaN   \n",
       "4  26/05/2017    8.7           Run               68.0   60     NaN  NaN   \n",
       "\n",
       "     Steps  Cals_burnt    Cals  Carbs  Fats  Protein  Sensation  \n",
       "0  13894.0      4600.0  3600.0    NaN   NaN    135.0        7.0  \n",
       "1  12739.0      3459.0  3700.0    NaN   NaN     75.0        4.0  \n",
       "2   3324.0      2629.0  2210.0    NaN   NaN     75.0        8.0  \n",
       "3  11532.0      4327.0  4580.0    NaN   NaN    120.0        7.0  \n",
       "4  10479.0      3363.0  3590.0    NaN   NaN     80.0        9.0  "
      ]
     },
     "execution_count": 3,
     "metadata": {},
     "output_type": "execute_result"
    }
   ],
   "source": [
    "import pandas as pd\n",
    "\n",
    "df = pd.read_csv('tri_health_data.csv')\n",
    "df.head(5)"
   ]
  },
  {
   "cell_type": "markdown",
   "id": "0cc32198",
   "metadata": {
    "slideshow": {
     "slide_type": "subslide"
    }
   },
   "source": [
    "## Data Overview"
   ]
  },
  {
   "cell_type": "code",
   "execution_count": 4,
   "id": "6ec929e7",
   "metadata": {},
   "outputs": [
    {
     "data": {
      "text/plain": [
       "((1034, 14), 14476)"
      ]
     },
     "execution_count": 4,
     "metadata": {},
     "output_type": "execute_result"
    }
   ],
   "source": [
    "df.shape, df.size"
   ]
  },
  {
   "cell_type": "code",
   "execution_count": 5,
   "id": "4ecb7676",
   "metadata": {},
   "outputs": [
    {
     "data": {
      "text/plain": [
       "['Date',\n",
       " 'Sleep',\n",
       " 'Activity Type',\n",
       " 'Activity Duration',\n",
       " 'TSS',\n",
       " 'Weight',\n",
       " 'HRV',\n",
       " 'Steps',\n",
       " 'Cals_burnt',\n",
       " 'Cals',\n",
       " 'Carbs',\n",
       " 'Fats',\n",
       " 'Protein',\n",
       " 'Sensation']"
      ]
     },
     "execution_count": 5,
     "metadata": {},
     "output_type": "execute_result"
    }
   ],
   "source": [
    "column_titles = list(df.columns)\n",
    "column_titles"
   ]
  },
  {
   "cell_type": "markdown",
   "id": "7cf51019",
   "metadata": {
    "slideshow": {
     "slide_type": "subslide"
    }
   },
   "source": [
    "## Data Overview"
   ]
  },
  {
   "cell_type": "code",
   "execution_count": 15,
   "id": "76039422",
   "metadata": {
    "scrolled": true,
    "slideshow": {
     "slide_type": "-"
    }
   },
   "outputs": [
    {
     "data": {
      "image/png": "[encoded data removed]",
      "text/plain": [
       "<Figure size 300x200 with 1 Axes>"
      ]
     },
     "metadata": {},
     "output_type": "display_data"
    }
   ],
   "source": [
    "import numpy as np\n",
    "import matplotlib.pyplot as plt\n",
    "\n",
    "nan_counts = df.isna().sum()\n",
    "count_date = df['Date'].count()\n",
    "\n",
    "plt.figure(figsize=(3, 2))\n",
    "nan_counts.plot(kind='bar', color='skyblue')\n",
    "plt.title(f'Number of NaN values in each column / {count_date}')\n",
    "plt.ylabel('Count')\n",
    "plt.xlabel('Column Name')\n",
    "plt.show()"
   ]
  },
  {
   "cell_type": "markdown",
   "id": "f6ddeacf",
   "metadata": {
    "slideshow": {
     "slide_type": "subslide"
    }
   },
   "source": [
    "## Data Cleaning"
   ]
  },
  {
   "cell_type": "code",
   "execution_count": null,
   "id": "6a72a01c",
   "metadata": {},
   "outputs": [],
   "source": []
  },
  {
   "cell_type": "code",
   "execution_count": null,
   "id": "7d0f7bf6",
   "metadata": {},
   "outputs": [],
   "source": []
  },
  {
   "cell_type": "code",
   "execution_count": null,
   "id": "17bcfbc6",
   "metadata": {},
   "outputs": [],
   "source": []
  },
  {
   "cell_type": "code",
   "execution_count": null,
   "id": "f13bd74b",
   "metadata": {},
   "outputs": [],
   "source": []
  },
  {
   "cell_type": "code",
   "execution_count": null,
   "id": "862f21a7",
   "metadata": {},
   "outputs": [],
   "source": []
  },
  {
   "cell_type": "code",
   "execution_count": null,
   "id": "b8954ae3",
   "metadata": {},
   "outputs": [],
   "source": []
  },
  {
   "cell_type": "code",
   "execution_count": null,
   "id": "6c62d99d",
   "metadata": {},
   "outputs": [],
   "source": []
  }
 ],
 "metadata": {
  "celltoolbar": "Slideshow",
  "kernelspec": {
   "display_name": "Python 3 (ipykernel)",
   "language": "python",
   "name": "python3"
  },
  "language_info": {
   "codemirror_mode": {
    "name": "ipython",
    "version": 3
   },
   "file_extension": ".py",
   "mimetype": "text/x-python",
   "name": "python",
   "nbconvert_exporter": "python",
   "pygments_lexer": "ipython3",
   "version": "3.10.6"
  },
  "toc": {
   "base_numbering": 1,
   "nav_menu": {},
   "number_sections": true,
   "sideBar": true,
   "skip_h1_title": false,
   "title_cell": "Table of Contents",
   "title_sidebar": "Contents",
   "toc_cell": false,
   "toc_position": {},
   "toc_section_display": true,
   "toc_window_display": false
  }
 },
 "nbformat": 4,
 "nbformat_minor": 5
}
