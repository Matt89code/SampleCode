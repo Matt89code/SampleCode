{
 "cells": [
  {
   "cell_type": "markdown",
   "id": "a12860e6",
   "metadata": {},
   "source": [
    "# DuckDuckGo Search Engine"
   ]
  },
  {
   "cell_type": "markdown",
   "id": "b5fd4acc",
   "metadata": {},
   "source": [
    "### websites to finish off with Time dates\n",
    "\n",
    "https://pypi.org/project/duckduckgo-search/#duckduckgo-search-operators\n",
    "https://help.duckduckgo.com/duckduckgo-help-pages/settings/params/"
   ]
  },
  {
   "cell_type": "code",
   "execution_count": 1,
   "id": "34d24a12",
   "metadata": {},
   "outputs": [],
   "source": [
    "# Regions\n",
    "\n",
    "# xa-ar for Arabia\n",
    "# xa-en for Arabia (en)\n",
    "# ar-es for Argentina\n",
    "# au-en for Australia\n",
    "# at-de for Austria\n",
    "# be-fr for Belgium (fr)\n",
    "# be-nl for Belgium (nl)\n",
    "# br-pt for Brazil\n",
    "# bg-bg for Bulgaria\n",
    "# ca-en for Canada\n",
    "# ca-fr for Canada (fr)\n",
    "# ct-ca for Catalan\n",
    "# cl-es for Chile\n",
    "# cn-zh for China\n",
    "# co-es for Colombia\n",
    "# hr-hr for Croatia\n",
    "# cz-cs for Czech Republic\n",
    "# dk-da for Denmark\n",
    "# ee-et for Estonia\n",
    "# fi-fi for Finland\n",
    "# fr-fr for France\n",
    "# de-de for Germany\n",
    "# gr-el for Greece\n",
    "# hk-tzh for Hong Kong\n",
    "# hu-hu for Hungary\n",
    "# in-en for India\n",
    "# id-id for Indonesia\n",
    "# id-en for Indonesia (en)\n",
    "# ie-en for Ireland\n",
    "# il-he for Israel\n",
    "# it-it for Italy\n",
    "# jp-jp for Japan\n",
    "# kr-kr for Korea\n",
    "# lv-lv for Latvia\n",
    "# lt-lt for Lithuania\n",
    "# xl-es for Latin America\n",
    "# my-ms for Malaysia\n",
    "# my-en for Malaysia (en)\n",
    "# mx-es for Mexico\n",
    "# nl-nl for Netherlands\n",
    "# nz-en for New Zealand\n",
    "# no-no for Norway\n",
    "# pe-es for Peru\n",
    "# ph-en for Philippines\n",
    "# ph-tl for Philippines (tl)\n",
    "# pl-pl for Poland\n",
    "# pt-pt for Portugal\n",
    "# ro-ro for Romania\n",
    "# ru-ru for Russia\n",
    "# sg-en for Singapore\n",
    "# sk-sk for Slovak Republic\n",
    "# sl-sl for Slovenia\n",
    "# za-en for South Africa\n",
    "# es-es for Spain\n",
    "# se-sv for Sweden\n",
    "# ch-de for Switzerland (de)\n",
    "# ch-fr for Switzerland (fr)\n",
    "# ch-it for Switzerland (it)\n",
    "# tw-tzh for Taiwan\n",
    "# th-th for Thailand\n",
    "# tr-tr for Turkey\n",
    "# ua-uk for Ukraine\n",
    "# uk-en for United Kingdom\n",
    "# us-en for United States\n",
    "# ue-es for United States (es)\n",
    "# ve-es for Venezuela\n",
    "# vn-vi for Vietnam\n",
    "# wt-wt for No region"
   ]
  },
  {
   "cell_type": "code",
   "execution_count": 2,
   "id": "88a36a10",
   "metadata": {},
   "outputs": [],
   "source": [
    "#Langauges\n",
    "\n",
    "# Common languages and their IETF subtags   - https://en.wikipedia.org/wiki/IETF_language_tag\n",
    "# English name\tNative name\tSubtag\n",
    "# Afrikaans\tAfrikaans\taf\n",
    "# Amharic\tአማርኛ\tam\n",
    "# Arabic\tالعربية\tar\n",
    "# Mapudungun\tMapudungun\tarn\n",
    "# Assamese\tঅসমীয়া\tas\n",
    "# Azerbaijani\tAzərbaycan­lı\taz\n",
    "# Bashkir\tБашҡорт\tba\n",
    "# Belarusian\tбеларуская\tbe\n",
    "# Bulgarian\tбългарски\tbg\n",
    "# Bengali\tবাংলা\tbn\n",
    "# Tibetan\tབོད་ཡིག\tbo\n",
    "# Breton\tbrezhoneg\tbr\n",
    "# Bosnian\tbosanski/босански\tbs\n",
    "# Catalan\tcatalà\tca\n",
    "# Corsican\tCorsu\tco\n",
    "# Czech\tčeština\tcs\n",
    "# Welsh\tCymraeg\tcy\n",
    "# Danish\tdansk\tda\n",
    "# German\tDeutsch\tde\n",
    "# Lower Sorbian\tdolnoserbšćina\tdsb\n",
    "# Divehi\tދިވެހިބަސް\tdv\n",
    "# Greek\tελληνικά\tel\n",
    "# English\tEnglish\ten\n",
    "# Spanish\tespañol\tes\n",
    "# Estonian\teesti\tet\n",
    "# Basque\teuskara\teu\n",
    "# Persian\tفارسى\tfa\n",
    "# Finnish\tsuomi\tfi\n",
    "# Filipino\tFilipino\tfil\n",
    "# Faroese\tføroyskt\tfo\n",
    "# French\tfrançais\tfr\n",
    "# Frisian\tFrysk\tfy\n",
    "# Irish\tGaeilge\tga\n",
    "# Scottish Gaelic\tGàidhlig\tgd\n",
    "# Galician\tgalego\tgl\n",
    "# Alsatian\tElsässisch\tgsw\n",
    "# Gujarati\tગુજરાતી\tgu\n",
    "# Hausa\tHausa\tha\n",
    "# Hebrew\tעברית\the\n",
    "# Hindi\tहिंदी\thi\n",
    "# Croatian\thrvatski\thr\n",
    "# Upper Sorbian\thornjoserbšćina\thsb\n",
    "# Hungarian\tmagyar\thu\n",
    "# Armenian\tՀայերեն\thy\n",
    "# Indonesian\tBahasa Indonesia\tid\n",
    "# Igbo\tIgbo\tig\n",
    "# Yi\tꆈꌠꁱꂷ\tii\n",
    "# Icelandic\tíslenska\tis\n",
    "# Italian\titaliano\tit\n",
    "# Inuktitut\tInuktitut /ᐃᓄᒃᑎᑐᑦ (ᑲᓇᑕ)\tiu\n",
    "# Japanese\t日本語\tja\n",
    "# Georgian\tქართული\tka\n",
    "# Kazakh\tҚазақша\tkk\n",
    "# Greenlandic\tkalaallisut\tkl\n",
    "# Khmer\tខ្មែរ\tkm\n",
    "# Kannada\tಕನ್ನಡ\tkn\n",
    "# Korean\t한국어/韓國語\n",
    "# 조선말/朝鮮말\tko\n",
    "# Konkani\tकोंकणी\tkok\n",
    "# Kyrgyz\tКыргыз\tky\n",
    "# Luxembourgish\tLëtzebuergesch\tlb\n",
    "# Lao\tລາວ\tlo\n",
    "# Lithuanian\tlietuvių\tlt\n",
    "# Latvian\tlatviešu\tlv\n",
    "# Maori\tReo Māori\tmi\n",
    "# Macedonian\tмакедонски јазик\tmk\n",
    "# Malayalam\tമലയാളം\tml\n",
    "# Mongolian\tМонгол хэл/ᠮᠤᠨᠭᠭᠤᠯ ᠬᠡᠯᠡ\tmn\n",
    "# Mohawk\tKanien'kéha\tmoh\n",
    "# Marathi\tमराठी\tmr\n",
    "# Malay\tBahasa Malaysia\tms\n",
    "# Maltese\tMalti\tmt\n",
    "# Burmese\tMyanmar\tmy\n",
    "# Norwegian (Bokmål)\tnorsk (bokmål)\tnb\n",
    "# Nepali\tनेपाली (नेपाल)\tne\n",
    "# Dutch\tNederlands\tnl\n",
    "# Norwegian (Nynorsk)\tnorsk (nynorsk)\tnn\n",
    "# Norwegian\tnorsk\tno\n",
    "# Sesotho\tSesotho sa Leboa\tst\n",
    "# Occitan\tOccitan\toc\n",
    "# Odia\tଓଡ଼ିଆ\tor\n",
    "# Punjabi\tਪੰਜਾਬੀ\tpa\n",
    "# Polish\tpolski\tpl\n",
    "# Dari\tدرى\tprs\n",
    "# Pashto\tپښتو\tps\n",
    "# Portuguese\tPortuguês\tpt\n",
    "# K'iche\tK'iche\tquc\n",
    "# Quechua\trunasimi\tqu\n",
    "# Romansh\tRumantsch\trm\n",
    "# Romanian\tromână\tro\n",
    "# Russian\tрусский\tru\n",
    "# Kinyarwanda\tKinyarwanda\trw\n",
    "# Sanskrit\tसंस्कृत\tsa\n",
    "# Yakut\tсаха\tsah\n",
    "# Sami (Northern)\tdavvisámegiella\tse\n",
    "# Sinhala\tසිංහල\tsi\n",
    "# Slovak\tslovenčina\tsk\n",
    "# Slovenian\tslovenski\tsl\n",
    "# Sami (Southern)\tåarjelsaemiengiele\tsma\n",
    "# Sami (Lule)\tjulevusámegiella\tsmj\n",
    "# Sami (Inari)\tsämikielâ\tsmn\n",
    "# Sami (Skolt)\tsääm´ǩiõll\tsms\n",
    "# Albanian\tshqipe\tsq\n",
    "# Serbian\tsrpski/српски\tsr\n",
    "# Swedish\tsvenska\tsv\n",
    "# Kiswahili\tKiswahili\tsw\n",
    "# Syriac\tܣܘܪܝܝܐ\tsyc\n",
    "# Tamil\tதமிழ்\tta\n",
    "# Telugu\tతెలుగు\tte\n",
    "# Tajik\tТоҷикӣ\ttg\n",
    "# Thai\tไทย\tth\n",
    "# Turkmen\ttürkmençe\ttk\n",
    "# Tswana\tSetswana\ttn\n",
    "# Turkish\tTürkçe\ttr\n",
    "# Tatar\tТатарча\ttt\n",
    "# Tamazight\tTamazight\ttzm\n",
    "# Uyghur\tئۇيغۇرچە\tug\n",
    "# Ukrainian\tукраїнська\tuk\n",
    "# Urdu\tاُردو\tur\n",
    "# Uzbek\tU'zbek/Ўзбек\tuz\n",
    "# Vietnamese\tTiếng Việt/㗂越\tvi\n",
    "# Wolof\tWolof\two\n",
    "# Xhosa\tisiXhosa\txh\n",
    "# Yoruba\tYoruba\tyo\n",
    "# Chinese\t中文\tzh\n",
    "# Zulu\tisiZulu\tzu"
   ]
  },
  {
   "cell_type": "markdown",
   "id": "e0351238",
   "metadata": {},
   "source": [
    "## ddg() - text search by by duckduckgo.com"
   ]
  },
  {
   "cell_type": "code",
   "execution_count": 3,
   "id": "89af7ee2",
   "metadata": {},
   "outputs": [
    {
     "ename": "ModuleNotFoundError",
     "evalue": "No module named 'duckduckgo_search'",
     "output_type": "error",
     "traceback": [
      "\u001b[0;31m---------------------------------------------------------------------------\u001b[0m",
      "\u001b[0;31mModuleNotFoundError\u001b[0m                       Traceback (most recent call last)",
      "Cell \u001b[0;32mIn [3], line 1\u001b[0m\n\u001b[0;32m----> 1\u001b[0m \u001b[38;5;28;01mfrom\u001b[39;00m \u001b[38;5;21;01mduckduckgo_search\u001b[39;00m \u001b[38;5;28;01mimport\u001b[39;00m ddg\n\u001b[1;32m      3\u001b[0m \u001b[38;5;66;03m#time (Optional[str], optional): d, w, m, y. Defaults to None.\u001b[39;00m\n\u001b[1;32m      5\u001b[0m \u001b[38;5;28;01mdef\u001b[39;00m \u001b[38;5;21mddgo\u001b[39m(search, num):\n",
      "\u001b[0;31mModuleNotFoundError\u001b[0m: No module named 'duckduckgo_search'"
     ]
    }
   ],
   "source": [
    "from duckduckgo_search import ddg\n",
    "\n",
    "#time (Optional[str], optional): d, w, m, y. Defaults to None.\n",
    "\n",
    "def ddgo(search, num):\n",
    "\n",
    "    results = ddg(search, region='wt-wt', safesearch='Off', time='y', page=1, max_results=num)\n",
    "\n",
    "    return results\n"
   ]
  },
  {
   "cell_type": "code",
   "execution_count": null,
   "id": "9664871b",
   "metadata": {},
   "outputs": [],
   "source": []
  },
  {
   "cell_type": "markdown",
   "id": "8a628675",
   "metadata": {},
   "source": [
    "### ddg_answers() - instant answers by duckduckgo.com "
   ]
  },
  {
   "cell_type": "code",
   "execution_count": 4,
   "id": "26f26625",
   "metadata": {},
   "outputs": [
    {
     "ename": "ModuleNotFoundError",
     "evalue": "No module named 'duckduckgo_search'",
     "output_type": "error",
     "traceback": [
      "\u001b[0;31m---------------------------------------------------------------------------\u001b[0m",
      "\u001b[0;31mModuleNotFoundError\u001b[0m                       Traceback (most recent call last)",
      "Cell \u001b[0;32mIn [4], line 1\u001b[0m\n\u001b[0;32m----> 1\u001b[0m \u001b[38;5;28;01mfrom\u001b[39;00m \u001b[38;5;21;01mduckduckgo_search\u001b[39;00m \u001b[38;5;28;01mimport\u001b[39;00m ddg_answers\n\u001b[1;32m      3\u001b[0m \u001b[38;5;66;03m#Args:\u001b[39;00m\n\u001b[1;32m      4\u001b[0m \u001b[38;5;66;03m#keywords (str): keywords for query.\u001b[39;00m\n\u001b[1;32m      5\u001b[0m \u001b[38;5;66;03m#related (bool, optional): add related topics to results. Defaults to False.\u001b[39;00m\n\u001b[1;32m      6\u001b[0m \u001b[38;5;66;03m#output (Optional[str], optional): csv, json. Defaults to None.\u001b[39;00m\n\u001b[1;32m      8\u001b[0m \u001b[38;5;28;01mdef\u001b[39;00m \u001b[38;5;21mddgasks\u001b[39m(search):\n",
      "\u001b[0;31mModuleNotFoundError\u001b[0m: No module named 'duckduckgo_search'"
     ]
    }
   ],
   "source": [
    "from duckduckgo_search import ddg_answers\n",
    "\n",
    "#Args:\n",
    "#keywords (str): keywords for query.\n",
    "#related (bool, optional): add related topics to results. Defaults to False.\n",
    "#output (Optional[str], optional): csv, json. Defaults to None.\n",
    "    \n",
    "def ddgasks(search):\n",
    "\n",
    "    res = ddg_answers(search, related=True, output=None)\n",
    "\n",
    "    return res"
   ]
  },
  {
   "cell_type": "code",
   "execution_count": null,
   "id": "e7105af5",
   "metadata": {},
   "outputs": [],
   "source": []
  },
  {
   "cell_type": "markdown",
   "id": "efd42820",
   "metadata": {},
   "source": [
    "### ddg_images() - image search by duckduckgo.com"
   ]
  },
  {
   "cell_type": "code",
   "execution_count": 5,
   "id": "12427144",
   "metadata": {
    "collapsed": true
   },
   "outputs": [
    {
     "ename": "ModuleNotFoundError",
     "evalue": "No module named 'duckduckgo_search'",
     "output_type": "error",
     "traceback": [
      "\u001b[0;31m---------------------------------------------------------------------------\u001b[0m",
      "\u001b[0;31mModuleNotFoundError\u001b[0m                       Traceback (most recent call last)",
      "Cell \u001b[0;32mIn [5], line 1\u001b[0m\n\u001b[0;32m----> 1\u001b[0m \u001b[38;5;28;01mfrom\u001b[39;00m \u001b[38;5;21;01mduckduckgo_search\u001b[39;00m \u001b[38;5;28;01mimport\u001b[39;00m ddg_images\n\u001b[1;32m      3\u001b[0m \u001b[38;5;28;01mdef\u001b[39;00m \u001b[38;5;21mddg_images\u001b[39m(\n\u001b[1;32m      4\u001b[0m     keywords,\n\u001b[1;32m      5\u001b[0m     region\u001b[38;5;241m=\u001b[39m\u001b[38;5;124m\"\u001b[39m\u001b[38;5;124mwt-wt\u001b[39m\u001b[38;5;124m\"\u001b[39m,\n\u001b[0;32m   (...)\u001b[0m\n\u001b[1;32m     16\u001b[0m     download\u001b[38;5;241m=\u001b[39m\u001b[38;5;28;01mFalse\u001b[39;00m,\n\u001b[1;32m     17\u001b[0m ):\n\u001b[1;32m     18\u001b[0m     \u001b[38;5;124;03m\"\"\"DuckDuckGo images search. Query params: https://duckduckgo.com/params\u001b[39;00m\n\u001b[1;32m     19\u001b[0m \n\u001b[1;32m     20\u001b[0m \u001b[38;5;124;03m    Args:\u001b[39;00m\n\u001b[0;32m   (...)\u001b[0m\n\u001b[1;32m     43\u001b[0m \u001b[38;5;124;03m        Optional[List[dict]]: DuckDuckGo text search results.\u001b[39;00m\n\u001b[1;32m     44\u001b[0m \u001b[38;5;124;03m    \"\"\"\u001b[39;00m\n",
      "\u001b[0;31mModuleNotFoundError\u001b[0m: No module named 'duckduckgo_search'"
     ]
    }
   ],
   "source": [
    "from duckduckgo_search import ddg_images\n",
    "\n",
    "def ddg_images(\n",
    "    keywords,\n",
    "    region=\"wt-wt\",\n",
    "    safesearch=\"moderate\",\n",
    "    time=None,\n",
    "    size=None,\n",
    "    color=None,\n",
    "    type_image=None,\n",
    "    layout=None,\n",
    "    license_image=None,\n",
    "    max_results=None,\n",
    "    page=1,\n",
    "    output=None,\n",
    "    download=False,\n",
    "):\n",
    "    \"\"\"DuckDuckGo images search. Query params: https://duckduckgo.com/params\n",
    "\n",
    "    Args:\n",
    "        keywords (str): keywords for query.\n",
    "        region (str, optional): wt-wt, us-en, uk-en, ru-ru, etc. Defaults to \"wt-wt\".\n",
    "        safesearch (str, optional): on, moderate, off. Defaults to \"moderate\".\n",
    "        time (Optional[str], optional): Day, Week, Month, Year. Defaults to None.\n",
    "        size (Optional[str], optional): Small, Medium, Large, Wallpaper. Defaults to None.\n",
    "        color (Optional[str], optional): color, Monochrome, Red, Orange, Yellow, Green, Blue,\n",
    "            Purple, Pink, Brown, Black, Gray, Teal, White. Defaults to None.\n",
    "        type_image (Optional[str], optional): photo, clipart, gif, transparent, line.\n",
    "            Defaults to None.\n",
    "        layout (Optional[str], optional): Square, Tall, Wide. Defaults to None.\n",
    "        license_image (Optional[str], optional): any (All Creative Commons), Public (PublicDomain),\n",
    "            Share (Free to Share and Use), ShareCommercially (Free to Share and Use Commercially),\n",
    "            Modify (Free to Modify, Share, and Use), ModifyCommercially (Free to Modify, Share, and\n",
    "            Use Commercially). Defaults to None.\n",
    "        max_results (Optional[int], optional): maximum number of results, max=1000. Defaults to None.\n",
    "            if max_results is set, then the parameter page is not taken into account.\n",
    "        page (int, optional): page for pagination. Defaults to 1.\n",
    "        output (Optional[str], optional): csv, json. Defaults to None.\n",
    "        download (bool, optional): if True, download and save images to 'keywords' folder.\n",
    "            Defaults to False.\n",
    "\n",
    "    Returns:\n",
    "        Optional[List[dict]]: DuckDuckGo text search results.\n",
    "    \"\"\""
   ]
  },
  {
   "cell_type": "code",
   "execution_count": 6,
   "id": "c7878122",
   "metadata": {
    "collapsed": true
   },
   "outputs": [
    {
     "ename": "ModuleNotFoundError",
     "evalue": "No module named 'duckduckgo_search'",
     "output_type": "error",
     "traceback": [
      "\u001b[0;31m---------------------------------------------------------------------------\u001b[0m",
      "\u001b[0;31mModuleNotFoundError\u001b[0m                       Traceback (most recent call last)",
      "Cell \u001b[0;32mIn [6], line 1\u001b[0m\n\u001b[0;32m----> 1\u001b[0m \u001b[38;5;28;01mfrom\u001b[39;00m \u001b[38;5;21;01mduckduckgo_search\u001b[39;00m \u001b[38;5;28;01mimport\u001b[39;00m ddg_images\n\u001b[1;32m      4\u001b[0m \u001b[38;5;28;01mdef\u001b[39;00m \u001b[38;5;21mddgpics\u001b[39m(search, num):\n\u001b[1;32m      6\u001b[0m     res \u001b[38;5;241m=\u001b[39m ddg_images(search, region\u001b[38;5;241m=\u001b[39m\u001b[38;5;124m'\u001b[39m\u001b[38;5;124mwt-wt\u001b[39m\u001b[38;5;124m'\u001b[39m, safesearch\u001b[38;5;241m=\u001b[39m\u001b[38;5;124m'\u001b[39m\u001b[38;5;124mOff\u001b[39m\u001b[38;5;124m'\u001b[39m, size\u001b[38;5;241m=\u001b[39m\u001b[38;5;28;01mNone\u001b[39;00m,\n\u001b[1;32m      7\u001b[0m             color\u001b[38;5;241m=\u001b[39m\u001b[38;5;124m'\u001b[39m\u001b[38;5;124mMonochrome\u001b[39m\u001b[38;5;124m'\u001b[39m, type_image\u001b[38;5;241m=\u001b[39m\u001b[38;5;28;01mNone\u001b[39;00m, layout\u001b[38;5;241m=\u001b[39m\u001b[38;5;28;01mNone\u001b[39;00m, license_image\u001b[38;5;241m=\u001b[39m\u001b[38;5;28;01mNone\u001b[39;00m, max_results\u001b[38;5;241m=\u001b[39mnum)\n",
      "\u001b[0;31mModuleNotFoundError\u001b[0m: No module named 'duckduckgo_search'"
     ]
    }
   ],
   "source": [
    "from duckduckgo_search import ddg_images\n",
    "\n",
    "\n",
    "def ddgpics(search, num):\n",
    "    \n",
    "    res = ddg_images(search, region='wt-wt', safesearch='Off', size=None,\n",
    "            color='Monochrome', type_image=None, layout=None, license_image=None, max_results=num)\n",
    "\n",
    "    return res\n"
   ]
  },
  {
   "cell_type": "code",
   "execution_count": null,
   "id": "65aaf4bf",
   "metadata": {},
   "outputs": [],
   "source": []
  },
  {
   "cell_type": "markdown",
   "id": "070dc2ed",
   "metadata": {},
   "source": [
    "### ddg_videos() - video search by duckduckgo.com"
   ]
  },
  {
   "cell_type": "code",
   "execution_count": 7,
   "id": "2b446dc1",
   "metadata": {},
   "outputs": [],
   "source": [
    "#     keywords,\n",
    "#     region=\"wt-wt\",\n",
    "#     safesearch=\"moderate\",\n",
    "#     time=None,\n",
    "#     resolution=None,\n",
    "#     duration=None,\n",
    "#     license_videos=None,\n",
    "#     max_results=None,\n",
    "#     page=1,\n",
    "#     output=None,\n",
    "# ):\n",
    "#     \"\"\"DuckDuckGo videos search. Query params: https://duckduckgo.com/params\n",
    "\n",
    "#     Args:\n",
    "#         keywords (str): keywords for query.\n",
    "#         region (str, optional): wt-wt, us-en, uk-en, ru-ru, etc. Defaults to \"wt-wt\".\n",
    "#         safesearch (str, optional): on, moderate, off. Defaults to \"moderate\".\n",
    "#         time (Optional[str], optional): d, w, m. Defaults to None.\n",
    "#         resolution (Optional[str], optional): high, standart. Defaults to None.\n",
    "#         duration (Optional[str], optional): short, medium, long. Defaults to None.\n",
    "#         license_videos (Optional[str], optional): creativeCommon, youtube. Defaults to None.\n",
    "#         max_results (Optional[int], optional): maximum number of results, max=1000. Defaults to None.\n",
    "#             if max_results is set, then the parameter page is not taken into account.\n",
    "#         page (int, optional): page for pagination. Defaults to 1.\n",
    "#         output (Optional[str], optional): csv, json. Defaults to None.\n",
    "\n",
    "#     Returns:\n",
    "#         Optional[List[dict]]: DuckDuckGo videos search results\n",
    "#     \"\"\""
   ]
  },
  {
   "cell_type": "code",
   "execution_count": 8,
   "id": "2ab22dc9",
   "metadata": {
    "collapsed": true
   },
   "outputs": [
    {
     "ename": "ModuleNotFoundError",
     "evalue": "No module named 'duckduckgo_search'",
     "output_type": "error",
     "traceback": [
      "\u001b[0;31m---------------------------------------------------------------------------\u001b[0m",
      "\u001b[0;31mModuleNotFoundError\u001b[0m                       Traceback (most recent call last)",
      "Cell \u001b[0;32mIn [8], line 1\u001b[0m\n\u001b[0;32m----> 1\u001b[0m \u001b[38;5;28;01mfrom\u001b[39;00m \u001b[38;5;21;01mduckduckgo_search\u001b[39;00m \u001b[38;5;28;01mimport\u001b[39;00m ddg_videos\n\u001b[1;32m      3\u001b[0m \u001b[38;5;28;01mdef\u001b[39;00m \u001b[38;5;21mddgvid\u001b[39m(search, num):\n\u001b[1;32m      6\u001b[0m     res \u001b[38;5;241m=\u001b[39m ddg_videos(search, region\u001b[38;5;241m=\u001b[39m\u001b[38;5;124m'\u001b[39m\u001b[38;5;124mwt-wt\u001b[39m\u001b[38;5;124m'\u001b[39m, safesearch\u001b[38;5;241m=\u001b[39m\u001b[38;5;124m'\u001b[39m\u001b[38;5;124mOff\u001b[39m\u001b[38;5;124m'\u001b[39m, time\u001b[38;5;241m=\u001b[39m\u001b[38;5;28;01mNone\u001b[39;00m, resolution\u001b[38;5;241m=\u001b[39m\u001b[38;5;28;01mNone\u001b[39;00m,\n\u001b[1;32m      7\u001b[0m                duration\u001b[38;5;241m=\u001b[39m\u001b[38;5;28;01mNone\u001b[39;00m, license_videos\u001b[38;5;241m=\u001b[39m\u001b[38;5;28;01mNone\u001b[39;00m, max_results\u001b[38;5;241m=\u001b[39mnum, output\u001b[38;5;241m=\u001b[39m\u001b[38;5;28;01mNone\u001b[39;00m)\n",
      "\u001b[0;31mModuleNotFoundError\u001b[0m: No module named 'duckduckgo_search'"
     ]
    }
   ],
   "source": [
    "from duckduckgo_search import ddg_videos\n",
    "\n",
    "def ddgvid(search, num):\n",
    "\n",
    "\n",
    "    res = ddg_videos(search, region='wt-wt', safesearch='Off', time=None, resolution=None,\n",
    "               duration=None, license_videos=None, max_results=num, output=None)\n",
    "\n",
    "    return res"
   ]
  },
  {
   "cell_type": "code",
   "execution_count": null,
   "id": "e6c8007a",
   "metadata": {},
   "outputs": [],
   "source": []
  },
  {
   "cell_type": "markdown",
   "id": "189df7e0",
   "metadata": {},
   "source": [
    "### ddg_news() - news search by duckduckgo.com"
   ]
  },
  {
   "cell_type": "code",
   "execution_count": 9,
   "id": "d4a80de1",
   "metadata": {
    "collapsed": true
   },
   "outputs": [
    {
     "ename": "ModuleNotFoundError",
     "evalue": "No module named 'duckduckgo_search'",
     "output_type": "error",
     "traceback": [
      "\u001b[0;31m---------------------------------------------------------------------------\u001b[0m",
      "\u001b[0;31mModuleNotFoundError\u001b[0m                       Traceback (most recent call last)",
      "Cell \u001b[0;32mIn [9], line 1\u001b[0m\n\u001b[0;32m----> 1\u001b[0m \u001b[38;5;28;01mfrom\u001b[39;00m \u001b[38;5;21;01mduckduckgo_search\u001b[39;00m \u001b[38;5;28;01mimport\u001b[39;00m ddg_news\n\u001b[1;32m      3\u001b[0m \u001b[38;5;28;01mdef\u001b[39;00m \u001b[38;5;21mddg_news\u001b[39m(\n\u001b[1;32m      4\u001b[0m     keywords,\n\u001b[1;32m      5\u001b[0m     region\u001b[38;5;241m=\u001b[39m\u001b[38;5;124m\"\u001b[39m\u001b[38;5;124mwt-wt\u001b[39m\u001b[38;5;124m\"\u001b[39m,\n\u001b[0;32m   (...)\u001b[0m\n\u001b[1;32m     10\u001b[0m     output\u001b[38;5;241m=\u001b[39m\u001b[38;5;28;01mNone\u001b[39;00m,\n\u001b[1;32m     11\u001b[0m ):\n\u001b[1;32m     12\u001b[0m     \u001b[38;5;124;03m\"\"\"DuckDuckGo news search. Query params: https://duckduckgo.com/params\u001b[39;00m\n\u001b[1;32m     13\u001b[0m \n\u001b[1;32m     14\u001b[0m \u001b[38;5;124;03m    Args:\u001b[39;00m\n\u001b[0;32m   (...)\u001b[0m\n\u001b[1;32m     25\u001b[0m \u001b[38;5;124;03m        Optional[List[dict]]: DuckDuckGo news search results.\u001b[39;00m\n\u001b[1;32m     26\u001b[0m \u001b[38;5;124;03m    \"\"\"\u001b[39;00m\n",
      "\u001b[0;31mModuleNotFoundError\u001b[0m: No module named 'duckduckgo_search'"
     ]
    }
   ],
   "source": [
    "from duckduckgo_search import ddg_news\n",
    "\n",
    "def ddg_news(\n",
    "    keywords,\n",
    "    region=\"wt-wt\",\n",
    "    safesearch=\"moderate\",\n",
    "    time=None,\n",
    "    max_results=None,\n",
    "    page=1,\n",
    "    output=None,\n",
    "):\n",
    "    \"\"\"DuckDuckGo news search. Query params: https://duckduckgo.com/params\n",
    "\n",
    "    Args:\n",
    "        keywords (str): keywords for query.\n",
    "        region (str): wt-wt, us-en, uk-en, ru-ru, etc. Defaults to \"wt-wt\".\n",
    "        safesearch (str): on, moderate, off. Defaults to \"moderate\".\n",
    "        time (Optional[str], optional): d, w, m. Defaults to None.\n",
    "        max_results (Optional[int], optional): maximum number of results, max=240. Defaults to None.\n",
    "            if max_results is set, then the parameter page is not taken into account.\n",
    "        page (int, optional): page for pagination. Defaults to 1.\n",
    "        output (Optional[str], optional): csv, json. Defaults to None.\n",
    "\n",
    "    Returns:\n",
    "        Optional[List[dict]]: DuckDuckGo news search results.\n",
    "    \"\"\""
   ]
  },
  {
   "cell_type": "code",
   "execution_count": 10,
   "id": "c57e05f7",
   "metadata": {
    "collapsed": true
   },
   "outputs": [
    {
     "ename": "ModuleNotFoundError",
     "evalue": "No module named 'duckduckgo_search'",
     "output_type": "error",
     "traceback": [
      "\u001b[0;31m---------------------------------------------------------------------------\u001b[0m",
      "\u001b[0;31mModuleNotFoundError\u001b[0m                       Traceback (most recent call last)",
      "Cell \u001b[0;32mIn [10], line 1\u001b[0m\n\u001b[0;32m----> 1\u001b[0m \u001b[38;5;28;01mfrom\u001b[39;00m \u001b[38;5;21;01mduckduckgo_search\u001b[39;00m \u001b[38;5;28;01mimport\u001b[39;00m ddg_news\n\u001b[1;32m      3\u001b[0m \u001b[38;5;28;01mdef\u001b[39;00m \u001b[38;5;21mddgnews\u001b[39m(search, num):\n\u001b[1;32m      5\u001b[0m     res \u001b[38;5;241m=\u001b[39m ddg_news(search, region\u001b[38;5;241m=\u001b[39m\u001b[38;5;124m'\u001b[39m\u001b[38;5;124mwt-wt\u001b[39m\u001b[38;5;124m'\u001b[39m, safesearch\u001b[38;5;241m=\u001b[39m\u001b[38;5;124m'\u001b[39m\u001b[38;5;124mOff\u001b[39m\u001b[38;5;124m'\u001b[39m, time\u001b[38;5;241m=\u001b[39m\u001b[38;5;124m'\u001b[39m\u001b[38;5;124md\u001b[39m\u001b[38;5;124m'\u001b[39m, max_results\u001b[38;5;241m=\u001b[39mnum, page\u001b[38;5;241m=\u001b[39m\u001b[38;5;241m1\u001b[39m, output\u001b[38;5;241m=\u001b[39m\u001b[38;5;28;01mNone\u001b[39;00m)\n",
      "\u001b[0;31mModuleNotFoundError\u001b[0m: No module named 'duckduckgo_search'"
     ]
    }
   ],
   "source": [
    "from duckduckgo_search import ddg_news\n",
    "\n",
    "def ddgnews(search, num):\n",
    "\n",
    "    res = ddg_news(search, region='wt-wt', safesearch='Off', time='d', max_results=num, page=1, output=None)\n",
    "\n",
    "    return res"
   ]
  },
  {
   "cell_type": "code",
   "execution_count": null,
   "id": "0eea52e3",
   "metadata": {},
   "outputs": [],
   "source": []
  },
  {
   "cell_type": "markdown",
   "id": "94712b75",
   "metadata": {},
   "source": [
    "### DDG search 'things' in a map"
   ]
  },
  {
   "cell_type": "code",
   "execution_count": 12,
   "id": "de61bb13",
   "metadata": {},
   "outputs": [
    {
     "ename": "SyntaxError",
     "evalue": "'(' was never closed (1575654791.py, line 3)",
     "output_type": "error",
     "traceback": [
      "\u001b[0;36m  Cell \u001b[0;32mIn [12], line 3\u001b[0;36m\u001b[0m\n\u001b[0;31m    def ddg_maps(\u001b[0m\n\u001b[0m                ^\u001b[0m\n\u001b[0;31mSyntaxError\u001b[0m\u001b[0;31m:\u001b[0m '(' was never closed\n"
     ]
    }
   ],
   "source": [
    "from duckduckgo_search import ddg_maps\n",
    "\n",
    "def ddg_maps(\n",
    "    \n",
    "    \"\"\"DuckDuckGo maps search. Query params: https://duckduckgo.com/params\n",
    "\n",
    "    Args:\n",
    "        keywords (str): keywords for query\n",
    "        place (Optional[str], optional): if set, the other parameters are not used. Defaults to None.\n",
    "        street (Optional[str], optional): house number/street. Defaults to None.\n",
    "        city (Optional[str], optional): city of search. Defaults to None.\n",
    "        county (Optional[str], optional): county of search. Defaults to None.\n",
    "        state (Optional[str], optional): state of search. Defaults to None.\n",
    "        country (Optional[str], optional): country of search. Defaults to None.\n",
    "        postalcode (Optional[str], optional): postalcode of search. Defaults to None.\n",
    "        latitude (Optional[str], optional): geographic coordinate (north–south position). Defaults to None.\n",
    "        longitude (Optional[str], optional): geographic coordinate (east–west position);\n",
    "            if latitude and longitude are set, the other parameters are not used. Defaults to None.\n",
    "        radius (int, optional): expand the search square by the distance in kilometers. Defaults to 0.\n",
    "        max_results (Optional[int], optional): maximum number of results. Defaults to None.\n",
    "        output (Optional[str], optional): csv, json. Defaults to None.\n",
    "\n",
    "    Returns:\n",
    "        Optional[List[dict]]: DuckDuckGo maps search results\n",
    "    \"\"\""
   ]
  },
  {
   "cell_type": "code",
   "execution_count": 13,
   "id": "a3523a93",
   "metadata": {
    "collapsed": true
   },
   "outputs": [
    {
     "ename": "ModuleNotFoundError",
     "evalue": "No module named 'duckduckgo_search'",
     "output_type": "error",
     "traceback": [
      "\u001b[0;31m---------------------------------------------------------------------------\u001b[0m",
      "\u001b[0;31mModuleNotFoundError\u001b[0m                       Traceback (most recent call last)",
      "Cell \u001b[0;32mIn [13], line 1\u001b[0m\n\u001b[0;32m----> 1\u001b[0m \u001b[38;5;28;01mfrom\u001b[39;00m \u001b[38;5;21;01mduckduckgo_search\u001b[39;00m \u001b[38;5;28;01mimport\u001b[39;00m ddg_maps\n\u001b[1;32m      3\u001b[0m \u001b[38;5;66;03m#     place=None,\u001b[39;00m\n\u001b[1;32m      4\u001b[0m \u001b[38;5;66;03m#     street=None,\u001b[39;00m\n\u001b[1;32m      5\u001b[0m \u001b[38;5;66;03m#     city=None,\u001b[39;00m\n\u001b[0;32m   (...)\u001b[0m\n\u001b[1;32m     13\u001b[0m \u001b[38;5;66;03m#     max_results=None,\u001b[39;00m\n\u001b[1;32m     14\u001b[0m \u001b[38;5;66;03m#     output=None, ):\u001b[39;00m\n\u001b[1;32m     16\u001b[0m \u001b[38;5;28;01mdef\u001b[39;00m \u001b[38;5;21mDDGsearchmap\u001b[39m(search, place, country, num):\n",
      "\u001b[0;31mModuleNotFoundError\u001b[0m: No module named 'duckduckgo_search'"
     ]
    }
   ],
   "source": [
    "from duckduckgo_search import ddg_maps\n",
    "\n",
    "#     place=None,\n",
    "#     street=None,\n",
    "#     city=None,\n",
    "#     county=None,\n",
    "#     state=None,\n",
    "#     country=None,\n",
    "#     postalcode=None,\n",
    "#     latitude=None,\n",
    "#     longitude=None,\n",
    "#     radius=0,\n",
    "#     max_results=None,\n",
    "#     output=None, ):\n",
    "\n",
    "def DDGsearchmap(search, place, country, num):\n",
    "    \n",
    "    res = ddg_maps(search, place=place, country= country, max_results = num)\n",
    "\n",
    "    return res"
   ]
  },
  {
   "cell_type": "code",
   "execution_count": null,
   "id": "0cc485a7",
   "metadata": {},
   "outputs": [],
   "source": []
  }
 ],
 "metadata": {
  "kernelspec": {
   "display_name": "Python 3 (ipykernel)",
   "language": "python",
   "name": "python3"
  },
  "language_info": {
   "codemirror_mode": {
    "name": "ipython",
    "version": 3
   },
   "file_extension": ".py",
   "mimetype": "text/x-python",
   "name": "python",
   "nbconvert_exporter": "python",
   "pygments_lexer": "ipython3",
   "version": "3.10.6"
  },
  "toc": {
   "base_numbering": 1,
   "nav_menu": {},
   "number_sections": true,
   "sideBar": true,
   "skip_h1_title": false,
   "title_cell": "Table of Contents",
   "title_sidebar": "Contents",
   "toc_cell": false,
   "toc_position": {},
   "toc_section_display": true,
   "toc_window_display": false
  }
 },
 "nbformat": 4,
 "nbformat_minor": 5
}
