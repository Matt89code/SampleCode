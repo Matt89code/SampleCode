{
 "cells": [
  {
   "cell_type": "markdown",
   "id": "32371471",
   "metadata": {},
   "source": [
    "# DuckDuckGo Search Engine"
   ]
  },
  {
   "cell_type": "markdown",
   "id": "c23fe340",
   "metadata": {},
   "source": [
    "### websites to finish off with Time dates\n",
    "\n",
    "https://pypi.org/project/duckduckgo-search/#duckduckgo-search-operators\n",
    "https://help.duckduckgo.com/duckduckgo-help-pages/settings/params/"
   ]
  },
  {
   "cell_type": "code",
   "execution_count": 1,
   "id": "16dbf28f",
   "metadata": {},
   "outputs": [],
   "source": [
    "# Regions\n",
    "\n",
    "# xa-ar for Arabia\n",
    "# xa-en for Arabia (en)\n",
    "# ar-es for Argentina\n",
    "# au-en for Australia\n",
    "# at-de for Austria\n",
    "# be-fr for Belgium (fr)\n",
    "# be-nl for Belgium (nl)\n",
    "# br-pt for Brazil\n",
    "# bg-bg for Bulgaria\n",
    "# ca-en for Canada\n",
    "# ca-fr for Canada (fr)\n",
    "# ct-ca for Catalan\n",
    "# cl-es for Chile\n",
    "# cn-zh for China\n",
    "# co-es for Colombia\n",
    "# hr-hr for Croatia\n",
    "# cz-cs for Czech Republic\n",
    "# dk-da for Denmark\n",
    "# ee-et for Estonia\n",
    "# fi-fi for Finland\n",
    "# fr-fr for France\n",
    "# de-de for Germany\n",
    "# gr-el for Greece\n",
    "# hk-tzh for Hong Kong\n",
    "# hu-hu for Hungary\n",
    "# in-en for India\n",
    "# id-id for Indonesia\n",
    "# id-en for Indonesia (en)\n",
    "# ie-en for Ireland\n",
    "# il-he for Israel\n",
    "# it-it for Italy\n",
    "# jp-jp for Japan\n",
    "# kr-kr for Korea\n",
    "# lv-lv for Latvia\n",
    "# lt-lt for Lithuania\n",
    "# xl-es for Latin America\n",
    "# my-ms for Malaysia\n",
    "# my-en for Malaysia (en)\n",
    "# mx-es for Mexico\n",
    "# nl-nl for Netherlands\n",
    "# nz-en for New Zealand\n",
    "# no-no for Norway\n",
    "# pe-es for Peru\n",
    "# ph-en for Philippines\n",
    "# ph-tl for Philippines (tl)\n",
    "# pl-pl for Poland\n",
    "# pt-pt for Portugal\n",
    "# ro-ro for Romania\n",
    "# ru-ru for Russia\n",
    "# sg-en for Singapore\n",
    "# sk-sk for Slovak Republic\n",
    "# sl-sl for Slovenia\n",
    "# za-en for South Africa\n",
    "# es-es for Spain\n",
    "# se-sv for Sweden\n",
    "# ch-de for Switzerland (de)\n",
    "# ch-fr for Switzerland (fr)\n",
    "# ch-it for Switzerland (it)\n",
    "# tw-tzh for Taiwan\n",
    "# th-th for Thailand\n",
    "# tr-tr for Turkey\n",
    "# ua-uk for Ukraine\n",
    "# uk-en for United Kingdom\n",
    "# us-en for United States\n",
    "# ue-es for United States (es)\n",
    "# ve-es for Venezuela\n",
    "# vn-vi for Vietnam\n",
    "# wt-wt for No region"
   ]
  },
  {
   "cell_type": "code",
   "execution_count": 2,
   "id": "f549a3a5",
   "metadata": {},
   "outputs": [],
   "source": [
    "#Langauges\n",
    "\n",
    "# Common languages and their IETF subtags   - https://en.wikipedia.org/wiki/IETF_language_tag\n",
    "# English name\tNative name\tSubtag\n",
    "# Afrikaans\tAfrikaans\taf\n",
    "# Amharic\tአማርኛ\tam\n",
    "# Arabic\tالعربية\tar\n",
    "# Mapudungun\tMapudungun\tarn\n",
    "# Assamese\tঅসমীয়া\tas\n",
    "# Azerbaijani\tAzərbaycan­lı\taz\n",
    "# Bashkir\tБашҡорт\tba\n",
    "# Belarusian\tбеларуская\tbe\n",
    "# Bulgarian\tбългарски\tbg\n",
    "# Bengali\tবাংলা\tbn\n",
    "# Tibetan\tབོད་ཡིག\tbo\n",
    "# Breton\tbrezhoneg\tbr\n",
    "# Bosnian\tbosanski/босански\tbs\n",
    "# Catalan\tcatalà\tca\n",
    "# Corsican\tCorsu\tco\n",
    "# Czech\tčeština\tcs\n",
    "# Welsh\tCymraeg\tcy\n",
    "# Danish\tdansk\tda\n",
    "# German\tDeutsch\tde\n",
    "# Lower Sorbian\tdolnoserbšćina\tdsb\n",
    "# Divehi\tދިވެހިބަސް\tdv\n",
    "# Greek\tελληνικά\tel\n",
    "# English\tEnglish\ten\n",
    "# Spanish\tespañol\tes\n",
    "# Estonian\teesti\tet\n",
    "# Basque\teuskara\teu\n",
    "# Persian\tفارسى\tfa\n",
    "# Finnish\tsuomi\tfi\n",
    "# Filipino\tFilipino\tfil\n",
    "# Faroese\tføroyskt\tfo\n",
    "# French\tfrançais\tfr\n",
    "# Frisian\tFrysk\tfy\n",
    "# Irish\tGaeilge\tga\n",
    "# Scottish Gaelic\tGàidhlig\tgd\n",
    "# Galician\tgalego\tgl\n",
    "# Alsatian\tElsässisch\tgsw\n",
    "# Gujarati\tગુજરાતી\tgu\n",
    "# Hausa\tHausa\tha\n",
    "# Hebrew\tעברית\the\n",
    "# Hindi\tहिंदी\thi\n",
    "# Croatian\thrvatski\thr\n",
    "# Upper Sorbian\thornjoserbšćina\thsb\n",
    "# Hungarian\tmagyar\thu\n",
    "# Armenian\tՀայերեն\thy\n",
    "# Indonesian\tBahasa Indonesia\tid\n",
    "# Igbo\tIgbo\tig\n",
    "# Yi\tꆈꌠꁱꂷ\tii\n",
    "# Icelandic\tíslenska\tis\n",
    "# Italian\titaliano\tit\n",
    "# Inuktitut\tInuktitut /ᐃᓄᒃᑎᑐᑦ (ᑲᓇᑕ)\tiu\n",
    "# Japanese\t日本語\tja\n",
    "# Georgian\tქართული\tka\n",
    "# Kazakh\tҚазақша\tkk\n",
    "# Greenlandic\tkalaallisut\tkl\n",
    "# Khmer\tខ្មែរ\tkm\n",
    "# Kannada\tಕನ್ನಡ\tkn\n",
    "# Korean\t한국어/韓國語\n",
    "# 조선말/朝鮮말\tko\n",
    "# Konkani\tकोंकणी\tkok\n",
    "# Kyrgyz\tКыргыз\tky\n",
    "# Luxembourgish\tLëtzebuergesch\tlb\n",
    "# Lao\tລາວ\tlo\n",
    "# Lithuanian\tlietuvių\tlt\n",
    "# Latvian\tlatviešu\tlv\n",
    "# Maori\tReo Māori\tmi\n",
    "# Macedonian\tмакедонски јазик\tmk\n",
    "# Malayalam\tമലയാളം\tml\n",
    "# Mongolian\tМонгол хэл/ᠮᠤᠨᠭᠭᠤᠯ ᠬᠡᠯᠡ\tmn\n",
    "# Mohawk\tKanien'kéha\tmoh\n",
    "# Marathi\tमराठी\tmr\n",
    "# Malay\tBahasa Malaysia\tms\n",
    "# Maltese\tMalti\tmt\n",
    "# Burmese\tMyanmar\tmy\n",
    "# Norwegian (Bokmål)\tnorsk (bokmål)\tnb\n",
    "# Nepali\tनेपाली (नेपाल)\tne\n",
    "# Dutch\tNederlands\tnl\n",
    "# Norwegian (Nynorsk)\tnorsk (nynorsk)\tnn\n",
    "# Norwegian\tnorsk\tno\n",
    "# Sesotho\tSesotho sa Leboa\tst\n",
    "# Occitan\tOccitan\toc\n",
    "# Odia\tଓଡ଼ିଆ\tor\n",
    "# Punjabi\tਪੰਜਾਬੀ\tpa\n",
    "# Polish\tpolski\tpl\n",
    "# Dari\tدرى\tprs\n",
    "# Pashto\tپښتو\tps\n",
    "# Portuguese\tPortuguês\tpt\n",
    "# K'iche\tK'iche\tquc\n",
    "# Quechua\trunasimi\tqu\n",
    "# Romansh\tRumantsch\trm\n",
    "# Romanian\tromână\tro\n",
    "# Russian\tрусский\tru\n",
    "# Kinyarwanda\tKinyarwanda\trw\n",
    "# Sanskrit\tसंस्कृत\tsa\n",
    "# Yakut\tсаха\tsah\n",
    "# Sami (Northern)\tdavvisámegiella\tse\n",
    "# Sinhala\tසිංහල\tsi\n",
    "# Slovak\tslovenčina\tsk\n",
    "# Slovenian\tslovenski\tsl\n",
    "# Sami (Southern)\tåarjelsaemiengiele\tsma\n",
    "# Sami (Lule)\tjulevusámegiella\tsmj\n",
    "# Sami (Inari)\tsämikielâ\tsmn\n",
    "# Sami (Skolt)\tsääm´ǩiõll\tsms\n",
    "# Albanian\tshqipe\tsq\n",
    "# Serbian\tsrpski/српски\tsr\n",
    "# Swedish\tsvenska\tsv\n",
    "# Kiswahili\tKiswahili\tsw\n",
    "# Syriac\tܣܘܪܝܝܐ\tsyc\n",
    "# Tamil\tதமிழ்\tta\n",
    "# Telugu\tతెలుగు\tte\n",
    "# Tajik\tТоҷикӣ\ttg\n",
    "# Thai\tไทย\tth\n",
    "# Turkmen\ttürkmençe\ttk\n",
    "# Tswana\tSetswana\ttn\n",
    "# Turkish\tTürkçe\ttr\n",
    "# Tatar\tТатарча\ttt\n",
    "# Tamazight\tTamazight\ttzm\n",
    "# Uyghur\tئۇيغۇرچە\tug\n",
    "# Ukrainian\tукраїнська\tuk\n",
    "# Urdu\tاُردو\tur\n",
    "# Uzbek\tU'zbek/Ўзбек\tuz\n",
    "# Vietnamese\tTiếng Việt/㗂越\tvi\n",
    "# Wolof\tWolof\two\n",
    "# Xhosa\tisiXhosa\txh\n",
    "# Yoruba\tYoruba\tyo\n",
    "# Chinese\t中文\tzh\n",
    "# Zulu\tisiZulu\tzu"
   ]
  },
  {
   "cell_type": "markdown",
   "id": "28aeddf7",
   "metadata": {},
   "source": [
    "## ddg() - text search by by duckduckgo.com"
   ]
  },
  {
   "cell_type": "code",
   "execution_count": 19,
   "id": "b2734377",
   "metadata": {},
   "outputs": [],
   "source": [
    "from duckduckgo_search import ddg\n",
    "\n",
    "#time (Optional[str], optional): d, w, m, y. Defaults to None.\n",
    "\n",
    "def ddgo(search, num):\n",
    "\n",
    "    results = ddg(search, region='wt-wt', safesearch='Off', time='y', page=1, max_results=num)\n",
    "\n",
    "    return results\n"
   ]
  },
  {
   "cell_type": "code",
   "execution_count": null,
   "id": "9e867539",
   "metadata": {},
   "outputs": [],
   "source": []
  },
  {
   "cell_type": "markdown",
   "id": "0f256b41",
   "metadata": {},
   "source": [
    "### ddg_answers() - instant answers by duckduckgo.com "
   ]
  },
  {
   "cell_type": "code",
   "execution_count": 20,
   "id": "95208557",
   "metadata": {},
   "outputs": [],
   "source": [
    "from duckduckgo_search import ddg_answers\n",
    "\n",
    "#Args:\n",
    "#keywords (str): keywords for query.\n",
    "#related (bool, optional): add related topics to results. Defaults to False.\n",
    "#output (Optional[str], optional): csv, json. Defaults to None.\n",
    "    \n",
    "def ddgasks(search):\n",
    "\n",
    "    res = ddg_answers(search, related=True, output=None)\n",
    "\n",
    "    return res"
   ]
  },
  {
   "cell_type": "code",
   "execution_count": null,
   "id": "f4f048ce",
   "metadata": {},
   "outputs": [],
   "source": [
    "ddgasks('open ai')[0]"
   ]
  },
  {
   "cell_type": "code",
   "execution_count": null,
   "id": "8efb31d4",
   "metadata": {},
   "outputs": [],
   "source": []
  },
  {
   "cell_type": "markdown",
   "id": "510e6fa5",
   "metadata": {},
   "source": [
    "### ddg_images() - image search by duckduckgo.com"
   ]
  },
  {
   "cell_type": "code",
   "execution_count": 21,
   "id": "acbec6fd",
   "metadata": {},
   "outputs": [],
   "source": [
    "from duckduckgo_search import ddg_images\n",
    "\n",
    "def ddg_images(\n",
    "    keywords,\n",
    "    region=\"wt-wt\",\n",
    "    safesearch=\"moderate\",\n",
    "    time=None,\n",
    "    size=None,\n",
    "    color=None,\n",
    "    type_image=None,\n",
    "    layout=None,\n",
    "    license_image=None,\n",
    "    max_results=None,\n",
    "    page=1,\n",
    "    output=None,\n",
    "    download=False,\n",
    "):\n",
    "    \"\"\"DuckDuckGo images search. Query params: https://duckduckgo.com/params\n",
    "\n",
    "    Args:\n",
    "        keywords (str): keywords for query.\n",
    "        region (str, optional): wt-wt, us-en, uk-en, ru-ru, etc. Defaults to \"wt-wt\".\n",
    "        safesearch (str, optional): on, moderate, off. Defaults to \"moderate\".\n",
    "        time (Optional[str], optional): Day, Week, Month, Year. Defaults to None.\n",
    "        size (Optional[str], optional): Small, Medium, Large, Wallpaper. Defaults to None.\n",
    "        color (Optional[str], optional): color, Monochrome, Red, Orange, Yellow, Green, Blue,\n",
    "            Purple, Pink, Brown, Black, Gray, Teal, White. Defaults to None.\n",
    "        type_image (Optional[str], optional): photo, clipart, gif, transparent, line.\n",
    "            Defaults to None.\n",
    "        layout (Optional[str], optional): Square, Tall, Wide. Defaults to None.\n",
    "        license_image (Optional[str], optional): any (All Creative Commons), Public (PublicDomain),\n",
    "            Share (Free to Share and Use), ShareCommercially (Free to Share and Use Commercially),\n",
    "            Modify (Free to Modify, Share, and Use), ModifyCommercially (Free to Modify, Share, and\n",
    "            Use Commercially). Defaults to None.\n",
    "        max_results (Optional[int], optional): maximum number of results, max=1000. Defaults to None.\n",
    "            if max_results is set, then the parameter page is not taken into account.\n",
    "        page (int, optional): page for pagination. Defaults to 1.\n",
    "        output (Optional[str], optional): csv, json. Defaults to None.\n",
    "        download (bool, optional): if True, download and save images to 'keywords' folder.\n",
    "            Defaults to False.\n",
    "\n",
    "    Returns:\n",
    "        Optional[List[dict]]: DuckDuckGo text search results.\n",
    "    \"\"\""
   ]
  },
  {
   "cell_type": "code",
   "execution_count": 22,
   "id": "afa5ec5c",
   "metadata": {},
   "outputs": [],
   "source": [
    "from duckduckgo_search import ddg_images\n",
    "\n",
    "\n",
    "def ddgpics(search, num):\n",
    "    \n",
    "    res = ddg_images(search, region='wt-wt', safesearch='Off', size=None,\n",
    "            color='Monochrome', type_image=None, layout=None, license_image=None, max_results=num)\n",
    "\n",
    "    return res\n"
   ]
  },
  {
   "cell_type": "code",
   "execution_count": 53,
   "id": "bc90ffd8",
   "metadata": {},
   "outputs": [
    {
     "name": "stderr",
     "output_type": "stream",
     "text": [
      "/home/alanis/.local/lib/python3.10/site-packages/duckduckgo_search/compat.py:60: UserWarning: ddg_images is deprecated. Use DDGS().images() generator\n",
      "  warnings.warn(\"ddg_images is deprecated. Use DDGS().images() generator\")\n",
      "/home/alanis/.local/lib/python3.10/site-packages/duckduckgo_search/compat.py:64: UserWarning: parameter page is deprecated\n",
      "  warnings.warn(\"parameter page is deprecated\")\n",
      "/home/alanis/.local/lib/python3.10/site-packages/duckduckgo_search/compat.py:66: UserWarning: parameter max_results is deprecated\n",
      "  warnings.warn(\"parameter max_results is deprecated\")\n",
      "WARNING:duckduckgo_search.duckduckgo_search:_get_url() https://duckduckgo.com ConnectTimeout timed out\n",
      "WARNING:duckduckgo_search.duckduckgo_search:_get_url() https://duckduckgo.com ConnectTimeout timed out\n",
      "WARNING:duckduckgo_search.duckduckgo_search:_get_url() https://duckduckgo.com ConnectTimeout timed out\n"
     ]
    },
    {
     "ename": "ConnectTimeout",
     "evalue": "timed out",
     "output_type": "error",
     "traceback": [
      "\u001b[0;31m---------------------------------------------------------------------------\u001b[0m",
      "\u001b[0;31mTimeoutError\u001b[0m                              Traceback (most recent call last)",
      "File \u001b[0;32m~/.local/lib/python3.10/site-packages/httpcore/_exceptions.py:10\u001b[0m, in \u001b[0;36mmap_exceptions\u001b[0;34m(map)\u001b[0m\n\u001b[1;32m      9\u001b[0m \u001b[38;5;28;01mtry\u001b[39;00m:\n\u001b[0;32m---> 10\u001b[0m     \u001b[38;5;28;01myield\u001b[39;00m\n\u001b[1;32m     11\u001b[0m \u001b[38;5;28;01mexcept\u001b[39;00m \u001b[38;5;167;01mException\u001b[39;00m \u001b[38;5;28;01mas\u001b[39;00m exc:  \u001b[38;5;66;03m# noqa: PIE786\u001b[39;00m\n",
      "File \u001b[0;32m~/.local/lib/python3.10/site-packages/httpcore/backends/sync.py:100\u001b[0m, in \u001b[0;36mSyncBackend.connect_tcp\u001b[0;34m(self, host, port, timeout, local_address, socket_options)\u001b[0m\n\u001b[1;32m     99\u001b[0m \u001b[38;5;28;01mwith\u001b[39;00m map_exceptions(exc_map):\n\u001b[0;32m--> 100\u001b[0m     sock \u001b[38;5;241m=\u001b[39m \u001b[43msocket\u001b[49m\u001b[38;5;241;43m.\u001b[39;49m\u001b[43mcreate_connection\u001b[49m\u001b[43m(\u001b[49m\n\u001b[1;32m    101\u001b[0m \u001b[43m        \u001b[49m\u001b[43maddress\u001b[49m\u001b[43m,\u001b[49m\n\u001b[1;32m    102\u001b[0m \u001b[43m        \u001b[49m\u001b[43mtimeout\u001b[49m\u001b[43m,\u001b[49m\n\u001b[1;32m    103\u001b[0m \u001b[43m        \u001b[49m\u001b[43msource_address\u001b[49m\u001b[38;5;241;43m=\u001b[39;49m\u001b[43msource_address\u001b[49m\u001b[43m,\u001b[49m\n\u001b[1;32m    104\u001b[0m \u001b[43m    \u001b[49m\u001b[43m)\u001b[49m\n\u001b[1;32m    105\u001b[0m     \u001b[38;5;28;01mfor\u001b[39;00m option \u001b[38;5;129;01min\u001b[39;00m socket_options:\n",
      "File \u001b[0;32m/usr/lib/python3.10/socket.py:845\u001b[0m, in \u001b[0;36mcreate_connection\u001b[0;34m(address, timeout, source_address)\u001b[0m\n\u001b[1;32m    844\u001b[0m \u001b[38;5;28;01mtry\u001b[39;00m:\n\u001b[0;32m--> 845\u001b[0m     \u001b[38;5;28;01mraise\u001b[39;00m err\n\u001b[1;32m    846\u001b[0m \u001b[38;5;28;01mfinally\u001b[39;00m:\n\u001b[1;32m    847\u001b[0m     \u001b[38;5;66;03m# Break explicitly a reference cycle\u001b[39;00m\n",
      "File \u001b[0;32m/usr/lib/python3.10/socket.py:833\u001b[0m, in \u001b[0;36mcreate_connection\u001b[0;34m(address, timeout, source_address)\u001b[0m\n\u001b[1;32m    832\u001b[0m     sock\u001b[38;5;241m.\u001b[39mbind(source_address)\n\u001b[0;32m--> 833\u001b[0m \u001b[43msock\u001b[49m\u001b[38;5;241;43m.\u001b[39;49m\u001b[43mconnect\u001b[49m\u001b[43m(\u001b[49m\u001b[43msa\u001b[49m\u001b[43m)\u001b[49m\n\u001b[1;32m    834\u001b[0m \u001b[38;5;66;03m# Break explicitly a reference cycle\u001b[39;00m\n",
      "\u001b[0;31mTimeoutError\u001b[0m: timed out",
      "\nThe above exception was the direct cause of the following exception:\n",
      "\u001b[0;31mConnectTimeout\u001b[0m                            Traceback (most recent call last)",
      "File \u001b[0;32m~/.local/lib/python3.10/site-packages/httpx/_transports/default.py:60\u001b[0m, in \u001b[0;36mmap_httpcore_exceptions\u001b[0;34m()\u001b[0m\n\u001b[1;32m     59\u001b[0m \u001b[38;5;28;01mtry\u001b[39;00m:\n\u001b[0;32m---> 60\u001b[0m     \u001b[38;5;28;01myield\u001b[39;00m\n\u001b[1;32m     61\u001b[0m \u001b[38;5;28;01mexcept\u001b[39;00m \u001b[38;5;167;01mException\u001b[39;00m \u001b[38;5;28;01mas\u001b[39;00m exc:  \u001b[38;5;66;03m# noqa: PIE-786\u001b[39;00m\n",
      "File \u001b[0;32m~/.local/lib/python3.10/site-packages/httpx/_transports/default.py:218\u001b[0m, in \u001b[0;36mHTTPTransport.handle_request\u001b[0;34m(self, request)\u001b[0m\n\u001b[1;32m    217\u001b[0m \u001b[38;5;28;01mwith\u001b[39;00m map_httpcore_exceptions():\n\u001b[0;32m--> 218\u001b[0m     resp \u001b[38;5;241m=\u001b[39m \u001b[38;5;28;43mself\u001b[39;49m\u001b[38;5;241;43m.\u001b[39;49m\u001b[43m_pool\u001b[49m\u001b[38;5;241;43m.\u001b[39;49m\u001b[43mhandle_request\u001b[49m\u001b[43m(\u001b[49m\u001b[43mreq\u001b[49m\u001b[43m)\u001b[49m\n\u001b[1;32m    220\u001b[0m \u001b[38;5;28;01massert\u001b[39;00m \u001b[38;5;28misinstance\u001b[39m(resp\u001b[38;5;241m.\u001b[39mstream, typing\u001b[38;5;241m.\u001b[39mIterable)\n",
      "File \u001b[0;32m~/.local/lib/python3.10/site-packages/httpcore/_sync/connection_pool.py:261\u001b[0m, in \u001b[0;36mConnectionPool.handle_request\u001b[0;34m(self, request)\u001b[0m\n\u001b[1;32m    260\u001b[0m     \u001b[38;5;28mself\u001b[39m\u001b[38;5;241m.\u001b[39mresponse_closed(status)\n\u001b[0;32m--> 261\u001b[0m     \u001b[38;5;28;01mraise\u001b[39;00m exc\n\u001b[1;32m    262\u001b[0m \u001b[38;5;28;01melse\u001b[39;00m:\n",
      "File \u001b[0;32m~/.local/lib/python3.10/site-packages/httpcore/_sync/connection_pool.py:245\u001b[0m, in \u001b[0;36mConnectionPool.handle_request\u001b[0;34m(self, request)\u001b[0m\n\u001b[1;32m    244\u001b[0m \u001b[38;5;28;01mtry\u001b[39;00m:\n\u001b[0;32m--> 245\u001b[0m     response \u001b[38;5;241m=\u001b[39m \u001b[43mconnection\u001b[49m\u001b[38;5;241;43m.\u001b[39;49m\u001b[43mhandle_request\u001b[49m\u001b[43m(\u001b[49m\u001b[43mrequest\u001b[49m\u001b[43m)\u001b[49m\n\u001b[1;32m    246\u001b[0m \u001b[38;5;28;01mexcept\u001b[39;00m ConnectionNotAvailable:\n\u001b[1;32m    247\u001b[0m     \u001b[38;5;66;03m# The ConnectionNotAvailable exception is a special case, that\u001b[39;00m\n\u001b[1;32m    248\u001b[0m     \u001b[38;5;66;03m# indicates we need to retry the request on a new connection.\u001b[39;00m\n\u001b[0;32m   (...)\u001b[0m\n\u001b[1;32m    252\u001b[0m     \u001b[38;5;66;03m# might end up as an HTTP/2 connection, but which actually ends\u001b[39;00m\n\u001b[1;32m    253\u001b[0m     \u001b[38;5;66;03m# up as HTTP/1.1.\u001b[39;00m\n",
      "File \u001b[0;32m~/.local/lib/python3.10/site-packages/httpcore/_sync/connection.py:92\u001b[0m, in \u001b[0;36mHTTPConnection.handle_request\u001b[0;34m(self, request)\u001b[0m\n\u001b[1;32m     91\u001b[0m         \u001b[38;5;28mself\u001b[39m\u001b[38;5;241m.\u001b[39m_connect_failed \u001b[38;5;241m=\u001b[39m \u001b[38;5;28;01mTrue\u001b[39;00m\n\u001b[0;32m---> 92\u001b[0m         \u001b[38;5;28;01mraise\u001b[39;00m exc\n\u001b[1;32m     93\u001b[0m \u001b[38;5;28;01melif\u001b[39;00m \u001b[38;5;129;01mnot\u001b[39;00m \u001b[38;5;28mself\u001b[39m\u001b[38;5;241m.\u001b[39m_connection\u001b[38;5;241m.\u001b[39mis_available():\n",
      "File \u001b[0;32m~/.local/lib/python3.10/site-packages/httpcore/_sync/connection.py:69\u001b[0m, in \u001b[0;36mHTTPConnection.handle_request\u001b[0;34m(self, request)\u001b[0m\n\u001b[1;32m     68\u001b[0m \u001b[38;5;28;01mtry\u001b[39;00m:\n\u001b[0;32m---> 69\u001b[0m     stream \u001b[38;5;241m=\u001b[39m \u001b[38;5;28;43mself\u001b[39;49m\u001b[38;5;241;43m.\u001b[39;49m\u001b[43m_connect\u001b[49m\u001b[43m(\u001b[49m\u001b[43mrequest\u001b[49m\u001b[43m)\u001b[49m\n\u001b[1;32m     71\u001b[0m     ssl_object \u001b[38;5;241m=\u001b[39m stream\u001b[38;5;241m.\u001b[39mget_extra_info(\u001b[38;5;124m\"\u001b[39m\u001b[38;5;124mssl_object\u001b[39m\u001b[38;5;124m\"\u001b[39m)\n",
      "File \u001b[0;32m~/.local/lib/python3.10/site-packages/httpcore/_sync/connection.py:117\u001b[0m, in \u001b[0;36mHTTPConnection._connect\u001b[0;34m(self, request)\u001b[0m\n\u001b[1;32m    116\u001b[0m \u001b[38;5;28;01mwith\u001b[39;00m Trace(\u001b[38;5;124m\"\u001b[39m\u001b[38;5;124mconnect_tcp\u001b[39m\u001b[38;5;124m\"\u001b[39m, logger, request, kwargs) \u001b[38;5;28;01mas\u001b[39;00m trace:\n\u001b[0;32m--> 117\u001b[0m     stream \u001b[38;5;241m=\u001b[39m \u001b[38;5;28;43mself\u001b[39;49m\u001b[38;5;241;43m.\u001b[39;49m\u001b[43m_network_backend\u001b[49m\u001b[38;5;241;43m.\u001b[39;49m\u001b[43mconnect_tcp\u001b[49m\u001b[43m(\u001b[49m\u001b[38;5;241;43m*\u001b[39;49m\u001b[38;5;241;43m*\u001b[39;49m\u001b[43mkwargs\u001b[49m\u001b[43m)\u001b[49m\n\u001b[1;32m    118\u001b[0m     trace\u001b[38;5;241m.\u001b[39mreturn_value \u001b[38;5;241m=\u001b[39m stream\n",
      "File \u001b[0;32m~/.local/lib/python3.10/site-packages/httpcore/backends/sync.py:99\u001b[0m, in \u001b[0;36mSyncBackend.connect_tcp\u001b[0;34m(self, host, port, timeout, local_address, socket_options)\u001b[0m\n\u001b[1;32m     94\u001b[0m exc_map: ExceptionMapping \u001b[38;5;241m=\u001b[39m {\n\u001b[1;32m     95\u001b[0m     socket\u001b[38;5;241m.\u001b[39mtimeout: ConnectTimeout,\n\u001b[1;32m     96\u001b[0m     \u001b[38;5;167;01mOSError\u001b[39;00m: ConnectError,\n\u001b[1;32m     97\u001b[0m }\n\u001b[0;32m---> 99\u001b[0m \u001b[38;5;28;01mwith\u001b[39;00m map_exceptions(exc_map):\n\u001b[1;32m    100\u001b[0m     sock \u001b[38;5;241m=\u001b[39m socket\u001b[38;5;241m.\u001b[39mcreate_connection(\n\u001b[1;32m    101\u001b[0m         address,\n\u001b[1;32m    102\u001b[0m         timeout,\n\u001b[1;32m    103\u001b[0m         source_address\u001b[38;5;241m=\u001b[39msource_address,\n\u001b[1;32m    104\u001b[0m     )\n",
      "File \u001b[0;32m/usr/lib/python3.10/contextlib.py:153\u001b[0m, in \u001b[0;36m_GeneratorContextManager.__exit__\u001b[0;34m(self, typ, value, traceback)\u001b[0m\n\u001b[1;32m    152\u001b[0m \u001b[38;5;28;01mtry\u001b[39;00m:\n\u001b[0;32m--> 153\u001b[0m     \u001b[38;5;28;43mself\u001b[39;49m\u001b[38;5;241;43m.\u001b[39;49m\u001b[43mgen\u001b[49m\u001b[38;5;241;43m.\u001b[39;49m\u001b[43mthrow\u001b[49m\u001b[43m(\u001b[49m\u001b[43mtyp\u001b[49m\u001b[43m,\u001b[49m\u001b[43m \u001b[49m\u001b[43mvalue\u001b[49m\u001b[43m,\u001b[49m\u001b[43m \u001b[49m\u001b[43mtraceback\u001b[49m\u001b[43m)\u001b[49m\n\u001b[1;32m    154\u001b[0m \u001b[38;5;28;01mexcept\u001b[39;00m \u001b[38;5;167;01mStopIteration\u001b[39;00m \u001b[38;5;28;01mas\u001b[39;00m exc:\n\u001b[1;32m    155\u001b[0m     \u001b[38;5;66;03m# Suppress StopIteration *unless* it's the same exception that\u001b[39;00m\n\u001b[1;32m    156\u001b[0m     \u001b[38;5;66;03m# was passed to throw().  This prevents a StopIteration\u001b[39;00m\n\u001b[1;32m    157\u001b[0m     \u001b[38;5;66;03m# raised inside the \"with\" statement from being suppressed.\u001b[39;00m\n",
      "File \u001b[0;32m~/.local/lib/python3.10/site-packages/httpcore/_exceptions.py:14\u001b[0m, in \u001b[0;36mmap_exceptions\u001b[0;34m(map)\u001b[0m\n\u001b[1;32m     13\u001b[0m     \u001b[38;5;28;01mif\u001b[39;00m \u001b[38;5;28misinstance\u001b[39m(exc, from_exc):\n\u001b[0;32m---> 14\u001b[0m         \u001b[38;5;28;01mraise\u001b[39;00m to_exc(exc) \u001b[38;5;28;01mfrom\u001b[39;00m \u001b[38;5;21;01mexc\u001b[39;00m\n\u001b[1;32m     15\u001b[0m \u001b[38;5;28;01mraise\u001b[39;00m\n",
      "\u001b[0;31mConnectTimeout\u001b[0m: timed out",
      "\nThe above exception was the direct cause of the following exception:\n",
      "\u001b[0;31mConnectTimeout\u001b[0m                            Traceback (most recent call last)",
      "Cell \u001b[0;32mIn [53], line 1\u001b[0m\n\u001b[0;32m----> 1\u001b[0m \u001b[43mddgpics\u001b[49m\u001b[43m(\u001b[49m\u001b[38;5;124;43m'\u001b[39;49m\u001b[38;5;124;43mopen ai\u001b[39;49m\u001b[38;5;124;43m'\u001b[39;49m\u001b[43m,\u001b[49m\u001b[43m \u001b[49m\u001b[38;5;241;43m1\u001b[39;49m\u001b[43m)\u001b[49m\n",
      "Cell \u001b[0;32mIn [22], line 6\u001b[0m, in \u001b[0;36mddgpics\u001b[0;34m(search, num)\u001b[0m\n\u001b[1;32m      4\u001b[0m \u001b[38;5;28;01mdef\u001b[39;00m \u001b[38;5;21mddgpics\u001b[39m(search, num):\n\u001b[0;32m----> 6\u001b[0m     res \u001b[38;5;241m=\u001b[39m \u001b[43mddg_images\u001b[49m\u001b[43m(\u001b[49m\u001b[43msearch\u001b[49m\u001b[43m,\u001b[49m\u001b[43m \u001b[49m\u001b[43mregion\u001b[49m\u001b[38;5;241;43m=\u001b[39;49m\u001b[38;5;124;43m'\u001b[39;49m\u001b[38;5;124;43mwt-wt\u001b[39;49m\u001b[38;5;124;43m'\u001b[39;49m\u001b[43m,\u001b[49m\u001b[43m \u001b[49m\u001b[43msafesearch\u001b[49m\u001b[38;5;241;43m=\u001b[39;49m\u001b[38;5;124;43m'\u001b[39;49m\u001b[38;5;124;43mOff\u001b[39;49m\u001b[38;5;124;43m'\u001b[39;49m\u001b[43m,\u001b[49m\u001b[43m \u001b[49m\u001b[43msize\u001b[49m\u001b[38;5;241;43m=\u001b[39;49m\u001b[38;5;28;43;01mNone\u001b[39;49;00m\u001b[43m,\u001b[49m\n\u001b[1;32m      7\u001b[0m \u001b[43m            \u001b[49m\u001b[43mcolor\u001b[49m\u001b[38;5;241;43m=\u001b[39;49m\u001b[38;5;124;43m'\u001b[39;49m\u001b[38;5;124;43mMonochrome\u001b[39;49m\u001b[38;5;124;43m'\u001b[39;49m\u001b[43m,\u001b[49m\u001b[43m \u001b[49m\u001b[43mtype_image\u001b[49m\u001b[38;5;241;43m=\u001b[39;49m\u001b[38;5;28;43;01mNone\u001b[39;49;00m\u001b[43m,\u001b[49m\u001b[43m \u001b[49m\u001b[43mlayout\u001b[49m\u001b[38;5;241;43m=\u001b[39;49m\u001b[38;5;28;43;01mNone\u001b[39;49;00m\u001b[43m,\u001b[49m\u001b[43m \u001b[49m\u001b[43mlicense_image\u001b[49m\u001b[38;5;241;43m=\u001b[39;49m\u001b[38;5;28;43;01mNone\u001b[39;49;00m\u001b[43m,\u001b[49m\u001b[43m \u001b[49m\u001b[43mmax_results\u001b[49m\u001b[38;5;241;43m=\u001b[39;49m\u001b[43mnum\u001b[49m\u001b[43m)\u001b[49m\n\u001b[1;32m      9\u001b[0m     \u001b[38;5;28;01mreturn\u001b[39;00m res\n",
      "File \u001b[0;32m~/.local/lib/python3.10/site-packages/duckduckgo_search/compat.py:73\u001b[0m, in \u001b[0;36mddg_images\u001b[0;34m(keywords, region, safesearch, time, size, color, type_image, layout, license_image, max_results, page, output, download)\u001b[0m\n\u001b[1;32m     70\u001b[0m     warnings\u001b[38;5;241m.\u001b[39mwarn(\u001b[38;5;124m\"\u001b[39m\u001b[38;5;124mparameter download is deprecated\u001b[39m\u001b[38;5;124m\"\u001b[39m)\n\u001b[1;32m     72\u001b[0m results \u001b[38;5;241m=\u001b[39m []\n\u001b[0;32m---> 73\u001b[0m \u001b[38;5;28;01mfor\u001b[39;00m r \u001b[38;5;129;01min\u001b[39;00m DDGS()\u001b[38;5;241m.\u001b[39mimages(\n\u001b[1;32m     74\u001b[0m     keywords\u001b[38;5;241m=\u001b[39mkeywords,\n\u001b[1;32m     75\u001b[0m     region\u001b[38;5;241m=\u001b[39mregion,\n\u001b[1;32m     76\u001b[0m     safesearch\u001b[38;5;241m=\u001b[39msafesearch,\n\u001b[1;32m     77\u001b[0m     timelimit\u001b[38;5;241m=\u001b[39mtime,\n\u001b[1;32m     78\u001b[0m     size\u001b[38;5;241m=\u001b[39msize,\n\u001b[1;32m     79\u001b[0m     color\u001b[38;5;241m=\u001b[39mcolor,\n\u001b[1;32m     80\u001b[0m     type_image\u001b[38;5;241m=\u001b[39mtype_image,\n\u001b[1;32m     81\u001b[0m     layout\u001b[38;5;241m=\u001b[39mlayout,\n\u001b[1;32m     82\u001b[0m     license_image\u001b[38;5;241m=\u001b[39mlicense_image,\n\u001b[1;32m     83\u001b[0m ):\n\u001b[1;32m     84\u001b[0m     results\u001b[38;5;241m.\u001b[39mappend(r)\n\u001b[1;32m     85\u001b[0m     \u001b[38;5;28;01mif\u001b[39;00m (max_results \u001b[38;5;129;01mand\u001b[39;00m \u001b[38;5;28mlen\u001b[39m(results) \u001b[38;5;241m>\u001b[39m\u001b[38;5;241m=\u001b[39m max_results) \u001b[38;5;129;01mor\u001b[39;00m (\n\u001b[1;32m     86\u001b[0m         page \u001b[38;5;129;01mand\u001b[39;00m \u001b[38;5;28mlen\u001b[39m(results) \u001b[38;5;241m>\u001b[39m\u001b[38;5;241m=\u001b[39m \u001b[38;5;241m90\u001b[39m\n\u001b[1;32m     87\u001b[0m     ):\n",
      "File \u001b[0;32m~/.local/lib/python3.10/site-packages/duckduckgo_search/duckduckgo_search.py:407\u001b[0m, in \u001b[0;36mDDGS.images\u001b[0;34m(self, keywords, region, safesearch, timelimit, size, color, type_image, layout, license_image)\u001b[0m\n\u001b[1;32m    383\u001b[0m \u001b[38;5;124;03m\"\"\"DuckDuckGo images search. Query params: https://duckduckgo.com/params\u001b[39;00m\n\u001b[1;32m    384\u001b[0m \n\u001b[1;32m    385\u001b[0m \u001b[38;5;124;03mArgs:\u001b[39;00m\n\u001b[0;32m   (...)\u001b[0m\n\u001b[1;32m    403\u001b[0m \n\u001b[1;32m    404\u001b[0m \u001b[38;5;124;03m\"\"\"\u001b[39;00m\n\u001b[1;32m    405\u001b[0m \u001b[38;5;28;01massert\u001b[39;00m keywords, \u001b[38;5;124m\"\u001b[39m\u001b[38;5;124mkeywords is mandatory\u001b[39m\u001b[38;5;124m\"\u001b[39m\n\u001b[0;32m--> 407\u001b[0m vqd \u001b[38;5;241m=\u001b[39m \u001b[38;5;28;43mself\u001b[39;49m\u001b[38;5;241;43m.\u001b[39;49m\u001b[43m_get_vqd\u001b[49m\u001b[43m(\u001b[49m\u001b[43mkeywords\u001b[49m\u001b[43m)\u001b[49m\n\u001b[1;32m    408\u001b[0m \u001b[38;5;28;01massert\u001b[39;00m vqd, \u001b[38;5;124m\"\u001b[39m\u001b[38;5;124merror in getting vqd\u001b[39m\u001b[38;5;124m\"\u001b[39m\n\u001b[1;32m    410\u001b[0m safesearch_base \u001b[38;5;241m=\u001b[39m {\u001b[38;5;124m\"\u001b[39m\u001b[38;5;124mon\u001b[39m\u001b[38;5;124m\"\u001b[39m: \u001b[38;5;241m1\u001b[39m, \u001b[38;5;124m\"\u001b[39m\u001b[38;5;124mmoderate\u001b[39m\u001b[38;5;124m\"\u001b[39m: \u001b[38;5;241m1\u001b[39m, \u001b[38;5;124m\"\u001b[39m\u001b[38;5;124moff\u001b[39m\u001b[38;5;124m\"\u001b[39m: \u001b[38;5;241m-\u001b[39m\u001b[38;5;241m1\u001b[39m}\n",
      "File \u001b[0;32m~/.local/lib/python3.10/site-packages/duckduckgo_search/duckduckgo_search.py:95\u001b[0m, in \u001b[0;36mDDGS._get_vqd\u001b[0;34m(self, keywords)\u001b[0m\n\u001b[1;32m     93\u001b[0m \u001b[38;5;28;01mdef\u001b[39;00m \u001b[38;5;21m_get_vqd\u001b[39m(\u001b[38;5;28mself\u001b[39m, keywords: \u001b[38;5;28mstr\u001b[39m) \u001b[38;5;241m-\u001b[39m\u001b[38;5;241m>\u001b[39m Optional[\u001b[38;5;28mstr\u001b[39m]:\n\u001b[1;32m     94\u001b[0m     \u001b[38;5;124;03m\"\"\"Get vqd value for a search query.\"\"\"\u001b[39;00m\n\u001b[0;32m---> 95\u001b[0m     resp \u001b[38;5;241m=\u001b[39m \u001b[38;5;28;43mself\u001b[39;49m\u001b[38;5;241;43m.\u001b[39;49m\u001b[43m_get_url\u001b[49m\u001b[43m(\u001b[49m\u001b[38;5;124;43m\"\u001b[39;49m\u001b[38;5;124;43mPOST\u001b[39;49m\u001b[38;5;124;43m\"\u001b[39;49m\u001b[43m,\u001b[49m\u001b[43m \u001b[49m\u001b[38;5;124;43m\"\u001b[39;49m\u001b[38;5;124;43mhttps://duckduckgo.com\u001b[39;49m\u001b[38;5;124;43m\"\u001b[39;49m\u001b[43m,\u001b[49m\u001b[43m \u001b[49m\u001b[43mdata\u001b[49m\u001b[38;5;241;43m=\u001b[39;49m\u001b[43m{\u001b[49m\u001b[38;5;124;43m\"\u001b[39;49m\u001b[38;5;124;43mq\u001b[39;49m\u001b[38;5;124;43m\"\u001b[39;49m\u001b[43m:\u001b[49m\u001b[43m \u001b[49m\u001b[43mkeywords\u001b[49m\u001b[43m}\u001b[49m\u001b[43m)\u001b[49m\n\u001b[1;32m     96\u001b[0m     \u001b[38;5;28;01mif\u001b[39;00m resp:\n\u001b[1;32m     97\u001b[0m         \u001b[38;5;28;01mfor\u001b[39;00m c1, c2 \u001b[38;5;129;01min\u001b[39;00m (\n\u001b[1;32m     98\u001b[0m             (\u001b[38;5;124mb\u001b[39m\u001b[38;5;124m'\u001b[39m\u001b[38;5;124mvqd=\u001b[39m\u001b[38;5;124m\"\u001b[39m\u001b[38;5;124m'\u001b[39m, \u001b[38;5;124mb\u001b[39m\u001b[38;5;124m'\u001b[39m\u001b[38;5;124m\"\u001b[39m\u001b[38;5;124m'\u001b[39m),\n\u001b[1;32m     99\u001b[0m             (\u001b[38;5;124mb\u001b[39m\u001b[38;5;124m\"\u001b[39m\u001b[38;5;124mvqd=\u001b[39m\u001b[38;5;124m\"\u001b[39m, \u001b[38;5;124mb\u001b[39m\u001b[38;5;124m\"\u001b[39m\u001b[38;5;124m&\u001b[39m\u001b[38;5;124m\"\u001b[39m),\n\u001b[1;32m    100\u001b[0m             (\u001b[38;5;124mb\u001b[39m\u001b[38;5;124m\"\u001b[39m\u001b[38;5;124mvqd=\u001b[39m\u001b[38;5;124m'\u001b[39m\u001b[38;5;124m\"\u001b[39m, \u001b[38;5;124mb\u001b[39m\u001b[38;5;124m\"\u001b[39m\u001b[38;5;124m'\u001b[39m\u001b[38;5;124m\"\u001b[39m),\n\u001b[1;32m    101\u001b[0m         ):\n",
      "File \u001b[0;32m~/.local/lib/python3.10/site-packages/duckduckgo_search/duckduckgo_search.py:89\u001b[0m, in \u001b[0;36mDDGS._get_url\u001b[0;34m(self, method, url, **kwargs)\u001b[0m\n\u001b[1;32m     87\u001b[0m         logger\u001b[38;5;241m.\u001b[39mwarning(\u001b[38;5;124mf\u001b[39m\u001b[38;5;124m\"\u001b[39m\u001b[38;5;124m_get_url() \u001b[39m\u001b[38;5;132;01m{\u001b[39;00murl\u001b[38;5;132;01m}\u001b[39;00m\u001b[38;5;124m \u001b[39m\u001b[38;5;132;01m{\u001b[39;00m\u001b[38;5;28mtype\u001b[39m(ex)\u001b[38;5;241m.\u001b[39m\u001b[38;5;18m__name__\u001b[39m\u001b[38;5;132;01m}\u001b[39;00m\u001b[38;5;124m \u001b[39m\u001b[38;5;132;01m{\u001b[39;00mex\u001b[38;5;132;01m}\u001b[39;00m\u001b[38;5;124m\"\u001b[39m)\n\u001b[1;32m     88\u001b[0m         \u001b[38;5;28;01mif\u001b[39;00m i \u001b[38;5;241m>\u001b[39m\u001b[38;5;241m=\u001b[39m \u001b[38;5;241m2\u001b[39m \u001b[38;5;129;01mor\u001b[39;00m \u001b[38;5;124m\"\u001b[39m\u001b[38;5;124m418\u001b[39m\u001b[38;5;124m\"\u001b[39m \u001b[38;5;129;01min\u001b[39;00m \u001b[38;5;28mstr\u001b[39m(ex):\n\u001b[0;32m---> 89\u001b[0m             \u001b[38;5;28;01mraise\u001b[39;00m ex\n\u001b[1;32m     90\u001b[0m     sleep(\u001b[38;5;241m3\u001b[39m)\n\u001b[1;32m     91\u001b[0m \u001b[38;5;28;01mreturn\u001b[39;00m \u001b[38;5;28;01mNone\u001b[39;00m\n",
      "File \u001b[0;32m~/.local/lib/python3.10/site-packages/duckduckgo_search/duckduckgo_search.py:78\u001b[0m, in \u001b[0;36mDDGS._get_url\u001b[0;34m(self, method, url, **kwargs)\u001b[0m\n\u001b[1;32m     76\u001b[0m \u001b[38;5;28;01mfor\u001b[39;00m i \u001b[38;5;129;01min\u001b[39;00m \u001b[38;5;28mrange\u001b[39m(\u001b[38;5;241m3\u001b[39m):\n\u001b[1;32m     77\u001b[0m     \u001b[38;5;28;01mtry\u001b[39;00m:\n\u001b[0;32m---> 78\u001b[0m         resp \u001b[38;5;241m=\u001b[39m \u001b[38;5;28;43mself\u001b[39;49m\u001b[38;5;241;43m.\u001b[39;49m\u001b[43m_client\u001b[49m\u001b[38;5;241;43m.\u001b[39;49m\u001b[43mrequest\u001b[49m\u001b[43m(\u001b[49m\n\u001b[1;32m     79\u001b[0m \u001b[43m            \u001b[49m\u001b[43mmethod\u001b[49m\u001b[43m,\u001b[49m\u001b[43m \u001b[49m\u001b[43murl\u001b[49m\u001b[43m,\u001b[49m\u001b[43m \u001b[49m\u001b[43mfollow_redirects\u001b[49m\u001b[38;5;241;43m=\u001b[39;49m\u001b[38;5;28;43;01mTrue\u001b[39;49;00m\u001b[43m,\u001b[49m\u001b[43m \u001b[49m\u001b[38;5;241;43m*\u001b[39;49m\u001b[38;5;241;43m*\u001b[39;49m\u001b[43mkwargs\u001b[49m\n\u001b[1;32m     80\u001b[0m \u001b[43m        \u001b[49m\u001b[43m)\u001b[49m\n\u001b[1;32m     81\u001b[0m         \u001b[38;5;28;01mif\u001b[39;00m \u001b[38;5;28mself\u001b[39m\u001b[38;5;241m.\u001b[39m_is_500_in_url(\u001b[38;5;28mstr\u001b[39m(resp\u001b[38;5;241m.\u001b[39murl)) \u001b[38;5;129;01mor\u001b[39;00m resp\u001b[38;5;241m.\u001b[39mstatus_code \u001b[38;5;241m==\u001b[39m \u001b[38;5;241m202\u001b[39m:\n\u001b[1;32m     82\u001b[0m             \u001b[38;5;28;01mraise\u001b[39;00m httpx\u001b[38;5;241m.\u001b[39m_exceptions\u001b[38;5;241m.\u001b[39mHTTPError(\u001b[38;5;124m\"\u001b[39m\u001b[38;5;124m\"\u001b[39m)\n",
      "File \u001b[0;32m~/.local/lib/python3.10/site-packages/httpx/_client.py:814\u001b[0m, in \u001b[0;36mClient.request\u001b[0;34m(self, method, url, content, data, files, json, params, headers, cookies, auth, follow_redirects, timeout, extensions)\u001b[0m\n\u001b[1;32m    799\u001b[0m     warnings\u001b[38;5;241m.\u001b[39mwarn(message, \u001b[38;5;167;01mDeprecationWarning\u001b[39;00m)\n\u001b[1;32m    801\u001b[0m request \u001b[38;5;241m=\u001b[39m \u001b[38;5;28mself\u001b[39m\u001b[38;5;241m.\u001b[39mbuild_request(\n\u001b[1;32m    802\u001b[0m     method\u001b[38;5;241m=\u001b[39mmethod,\n\u001b[1;32m    803\u001b[0m     url\u001b[38;5;241m=\u001b[39murl,\n\u001b[0;32m   (...)\u001b[0m\n\u001b[1;32m    812\u001b[0m     extensions\u001b[38;5;241m=\u001b[39mextensions,\n\u001b[1;32m    813\u001b[0m )\n\u001b[0;32m--> 814\u001b[0m \u001b[38;5;28;01mreturn\u001b[39;00m \u001b[38;5;28;43mself\u001b[39;49m\u001b[38;5;241;43m.\u001b[39;49m\u001b[43msend\u001b[49m\u001b[43m(\u001b[49m\u001b[43mrequest\u001b[49m\u001b[43m,\u001b[49m\u001b[43m \u001b[49m\u001b[43mauth\u001b[49m\u001b[38;5;241;43m=\u001b[39;49m\u001b[43mauth\u001b[49m\u001b[43m,\u001b[49m\u001b[43m \u001b[49m\u001b[43mfollow_redirects\u001b[49m\u001b[38;5;241;43m=\u001b[39;49m\u001b[43mfollow_redirects\u001b[49m\u001b[43m)\u001b[49m\n",
      "File \u001b[0;32m~/.local/lib/python3.10/site-packages/httpx/_client.py:901\u001b[0m, in \u001b[0;36mClient.send\u001b[0;34m(self, request, stream, auth, follow_redirects)\u001b[0m\n\u001b[1;32m    893\u001b[0m follow_redirects \u001b[38;5;241m=\u001b[39m (\n\u001b[1;32m    894\u001b[0m     \u001b[38;5;28mself\u001b[39m\u001b[38;5;241m.\u001b[39mfollow_redirects\n\u001b[1;32m    895\u001b[0m     \u001b[38;5;28;01mif\u001b[39;00m \u001b[38;5;28misinstance\u001b[39m(follow_redirects, UseClientDefault)\n\u001b[1;32m    896\u001b[0m     \u001b[38;5;28;01melse\u001b[39;00m follow_redirects\n\u001b[1;32m    897\u001b[0m )\n\u001b[1;32m    899\u001b[0m auth \u001b[38;5;241m=\u001b[39m \u001b[38;5;28mself\u001b[39m\u001b[38;5;241m.\u001b[39m_build_request_auth(request, auth)\n\u001b[0;32m--> 901\u001b[0m response \u001b[38;5;241m=\u001b[39m \u001b[38;5;28;43mself\u001b[39;49m\u001b[38;5;241;43m.\u001b[39;49m\u001b[43m_send_handling_auth\u001b[49m\u001b[43m(\u001b[49m\n\u001b[1;32m    902\u001b[0m \u001b[43m    \u001b[49m\u001b[43mrequest\u001b[49m\u001b[43m,\u001b[49m\n\u001b[1;32m    903\u001b[0m \u001b[43m    \u001b[49m\u001b[43mauth\u001b[49m\u001b[38;5;241;43m=\u001b[39;49m\u001b[43mauth\u001b[49m\u001b[43m,\u001b[49m\n\u001b[1;32m    904\u001b[0m \u001b[43m    \u001b[49m\u001b[43mfollow_redirects\u001b[49m\u001b[38;5;241;43m=\u001b[39;49m\u001b[43mfollow_redirects\u001b[49m\u001b[43m,\u001b[49m\n\u001b[1;32m    905\u001b[0m \u001b[43m    \u001b[49m\u001b[43mhistory\u001b[49m\u001b[38;5;241;43m=\u001b[39;49m\u001b[43m[\u001b[49m\u001b[43m]\u001b[49m\u001b[43m,\u001b[49m\n\u001b[1;32m    906\u001b[0m \u001b[43m\u001b[49m\u001b[43m)\u001b[49m\n\u001b[1;32m    907\u001b[0m \u001b[38;5;28;01mtry\u001b[39;00m:\n\u001b[1;32m    908\u001b[0m     \u001b[38;5;28;01mif\u001b[39;00m \u001b[38;5;129;01mnot\u001b[39;00m stream:\n",
      "File \u001b[0;32m~/.local/lib/python3.10/site-packages/httpx/_client.py:929\u001b[0m, in \u001b[0;36mClient._send_handling_auth\u001b[0;34m(self, request, auth, follow_redirects, history)\u001b[0m\n\u001b[1;32m    926\u001b[0m request \u001b[38;5;241m=\u001b[39m \u001b[38;5;28mnext\u001b[39m(auth_flow)\n\u001b[1;32m    928\u001b[0m \u001b[38;5;28;01mwhile\u001b[39;00m \u001b[38;5;28;01mTrue\u001b[39;00m:\n\u001b[0;32m--> 929\u001b[0m     response \u001b[38;5;241m=\u001b[39m \u001b[38;5;28;43mself\u001b[39;49m\u001b[38;5;241;43m.\u001b[39;49m\u001b[43m_send_handling_redirects\u001b[49m\u001b[43m(\u001b[49m\n\u001b[1;32m    930\u001b[0m \u001b[43m        \u001b[49m\u001b[43mrequest\u001b[49m\u001b[43m,\u001b[49m\n\u001b[1;32m    931\u001b[0m \u001b[43m        \u001b[49m\u001b[43mfollow_redirects\u001b[49m\u001b[38;5;241;43m=\u001b[39;49m\u001b[43mfollow_redirects\u001b[49m\u001b[43m,\u001b[49m\n\u001b[1;32m    932\u001b[0m \u001b[43m        \u001b[49m\u001b[43mhistory\u001b[49m\u001b[38;5;241;43m=\u001b[39;49m\u001b[43mhistory\u001b[49m\u001b[43m,\u001b[49m\n\u001b[1;32m    933\u001b[0m \u001b[43m    \u001b[49m\u001b[43m)\u001b[49m\n\u001b[1;32m    934\u001b[0m     \u001b[38;5;28;01mtry\u001b[39;00m:\n\u001b[1;32m    935\u001b[0m         \u001b[38;5;28;01mtry\u001b[39;00m:\n",
      "File \u001b[0;32m~/.local/lib/python3.10/site-packages/httpx/_client.py:966\u001b[0m, in \u001b[0;36mClient._send_handling_redirects\u001b[0;34m(self, request, follow_redirects, history)\u001b[0m\n\u001b[1;32m    963\u001b[0m \u001b[38;5;28;01mfor\u001b[39;00m hook \u001b[38;5;129;01min\u001b[39;00m \u001b[38;5;28mself\u001b[39m\u001b[38;5;241m.\u001b[39m_event_hooks[\u001b[38;5;124m\"\u001b[39m\u001b[38;5;124mrequest\u001b[39m\u001b[38;5;124m\"\u001b[39m]:\n\u001b[1;32m    964\u001b[0m     hook(request)\n\u001b[0;32m--> 966\u001b[0m response \u001b[38;5;241m=\u001b[39m \u001b[38;5;28;43mself\u001b[39;49m\u001b[38;5;241;43m.\u001b[39;49m\u001b[43m_send_single_request\u001b[49m\u001b[43m(\u001b[49m\u001b[43mrequest\u001b[49m\u001b[43m)\u001b[49m\n\u001b[1;32m    967\u001b[0m \u001b[38;5;28;01mtry\u001b[39;00m:\n\u001b[1;32m    968\u001b[0m     \u001b[38;5;28;01mfor\u001b[39;00m hook \u001b[38;5;129;01min\u001b[39;00m \u001b[38;5;28mself\u001b[39m\u001b[38;5;241m.\u001b[39m_event_hooks[\u001b[38;5;124m\"\u001b[39m\u001b[38;5;124mresponse\u001b[39m\u001b[38;5;124m\"\u001b[39m]:\n",
      "File \u001b[0;32m~/.local/lib/python3.10/site-packages/httpx/_client.py:1002\u001b[0m, in \u001b[0;36mClient._send_single_request\u001b[0;34m(self, request)\u001b[0m\n\u001b[1;32m    997\u001b[0m     \u001b[38;5;28;01mraise\u001b[39;00m \u001b[38;5;167;01mRuntimeError\u001b[39;00m(\n\u001b[1;32m    998\u001b[0m         \u001b[38;5;124m\"\u001b[39m\u001b[38;5;124mAttempted to send an async request with a sync Client instance.\u001b[39m\u001b[38;5;124m\"\u001b[39m\n\u001b[1;32m    999\u001b[0m     )\n\u001b[1;32m   1001\u001b[0m \u001b[38;5;28;01mwith\u001b[39;00m request_context(request\u001b[38;5;241m=\u001b[39mrequest):\n\u001b[0;32m-> 1002\u001b[0m     response \u001b[38;5;241m=\u001b[39m \u001b[43mtransport\u001b[49m\u001b[38;5;241;43m.\u001b[39;49m\u001b[43mhandle_request\u001b[49m\u001b[43m(\u001b[49m\u001b[43mrequest\u001b[49m\u001b[43m)\u001b[49m\n\u001b[1;32m   1004\u001b[0m \u001b[38;5;28;01massert\u001b[39;00m \u001b[38;5;28misinstance\u001b[39m(response\u001b[38;5;241m.\u001b[39mstream, SyncByteStream)\n\u001b[1;32m   1006\u001b[0m response\u001b[38;5;241m.\u001b[39mrequest \u001b[38;5;241m=\u001b[39m request\n",
      "File \u001b[0;32m~/.local/lib/python3.10/site-packages/httpx/_transports/default.py:217\u001b[0m, in \u001b[0;36mHTTPTransport.handle_request\u001b[0;34m(self, request)\u001b[0m\n\u001b[1;32m    203\u001b[0m \u001b[38;5;28;01massert\u001b[39;00m \u001b[38;5;28misinstance\u001b[39m(request\u001b[38;5;241m.\u001b[39mstream, SyncByteStream)\n\u001b[1;32m    205\u001b[0m req \u001b[38;5;241m=\u001b[39m httpcore\u001b[38;5;241m.\u001b[39mRequest(\n\u001b[1;32m    206\u001b[0m     method\u001b[38;5;241m=\u001b[39mrequest\u001b[38;5;241m.\u001b[39mmethod,\n\u001b[1;32m    207\u001b[0m     url\u001b[38;5;241m=\u001b[39mhttpcore\u001b[38;5;241m.\u001b[39mURL(\n\u001b[0;32m   (...)\u001b[0m\n\u001b[1;32m    215\u001b[0m     extensions\u001b[38;5;241m=\u001b[39mrequest\u001b[38;5;241m.\u001b[39mextensions,\n\u001b[1;32m    216\u001b[0m )\n\u001b[0;32m--> 217\u001b[0m \u001b[38;5;28;01mwith\u001b[39;00m map_httpcore_exceptions():\n\u001b[1;32m    218\u001b[0m     resp \u001b[38;5;241m=\u001b[39m \u001b[38;5;28mself\u001b[39m\u001b[38;5;241m.\u001b[39m_pool\u001b[38;5;241m.\u001b[39mhandle_request(req)\n\u001b[1;32m    220\u001b[0m \u001b[38;5;28;01massert\u001b[39;00m \u001b[38;5;28misinstance\u001b[39m(resp\u001b[38;5;241m.\u001b[39mstream, typing\u001b[38;5;241m.\u001b[39mIterable)\n",
      "File \u001b[0;32m/usr/lib/python3.10/contextlib.py:153\u001b[0m, in \u001b[0;36m_GeneratorContextManager.__exit__\u001b[0;34m(self, typ, value, traceback)\u001b[0m\n\u001b[1;32m    151\u001b[0m     value \u001b[38;5;241m=\u001b[39m typ()\n\u001b[1;32m    152\u001b[0m \u001b[38;5;28;01mtry\u001b[39;00m:\n\u001b[0;32m--> 153\u001b[0m     \u001b[38;5;28;43mself\u001b[39;49m\u001b[38;5;241;43m.\u001b[39;49m\u001b[43mgen\u001b[49m\u001b[38;5;241;43m.\u001b[39;49m\u001b[43mthrow\u001b[49m\u001b[43m(\u001b[49m\u001b[43mtyp\u001b[49m\u001b[43m,\u001b[49m\u001b[43m \u001b[49m\u001b[43mvalue\u001b[49m\u001b[43m,\u001b[49m\u001b[43m \u001b[49m\u001b[43mtraceback\u001b[49m\u001b[43m)\u001b[49m\n\u001b[1;32m    154\u001b[0m \u001b[38;5;28;01mexcept\u001b[39;00m \u001b[38;5;167;01mStopIteration\u001b[39;00m \u001b[38;5;28;01mas\u001b[39;00m exc:\n\u001b[1;32m    155\u001b[0m     \u001b[38;5;66;03m# Suppress StopIteration *unless* it's the same exception that\u001b[39;00m\n\u001b[1;32m    156\u001b[0m     \u001b[38;5;66;03m# was passed to throw().  This prevents a StopIteration\u001b[39;00m\n\u001b[1;32m    157\u001b[0m     \u001b[38;5;66;03m# raised inside the \"with\" statement from being suppressed.\u001b[39;00m\n\u001b[1;32m    158\u001b[0m     \u001b[38;5;28;01mreturn\u001b[39;00m exc \u001b[38;5;129;01mis\u001b[39;00m \u001b[38;5;129;01mnot\u001b[39;00m value\n",
      "File \u001b[0;32m~/.local/lib/python3.10/site-packages/httpx/_transports/default.py:77\u001b[0m, in \u001b[0;36mmap_httpcore_exceptions\u001b[0;34m()\u001b[0m\n\u001b[1;32m     74\u001b[0m     \u001b[38;5;28;01mraise\u001b[39;00m\n\u001b[1;32m     76\u001b[0m message \u001b[38;5;241m=\u001b[39m \u001b[38;5;28mstr\u001b[39m(exc)\n\u001b[0;32m---> 77\u001b[0m \u001b[38;5;28;01mraise\u001b[39;00m mapped_exc(message) \u001b[38;5;28;01mfrom\u001b[39;00m \u001b[38;5;21;01mexc\u001b[39;00m\n",
      "\u001b[0;31mConnectTimeout\u001b[0m: timed out"
     ]
    }
   ],
   "source": [
    "ddgpics('open ai', 1)"
   ]
  },
  {
   "cell_type": "code",
   "execution_count": null,
   "id": "56ba278f",
   "metadata": {},
   "outputs": [],
   "source": []
  },
  {
   "cell_type": "markdown",
   "id": "cc17f5a5",
   "metadata": {},
   "source": [
    "### ddg_videos() - video search by duckduckgo.com"
   ]
  },
  {
   "cell_type": "code",
   "execution_count": 7,
   "id": "27a60f86",
   "metadata": {},
   "outputs": [],
   "source": [
    "#     keywords,\n",
    "#     region=\"wt-wt\",\n",
    "#     safesearch=\"moderate\",\n",
    "#     time=None,\n",
    "#     resolution=None,\n",
    "#     duration=None,\n",
    "#     license_videos=None,\n",
    "#     max_results=None,\n",
    "#     page=1,\n",
    "#     output=None,\n",
    "# ):\n",
    "#     \"\"\"DuckDuckGo videos search. Query params: https://duckduckgo.com/params\n",
    "\n",
    "#     Args:\n",
    "#         keywords (str): keywords for query.\n",
    "#         region (str, optional): wt-wt, us-en, uk-en, ru-ru, etc. Defaults to \"wt-wt\".\n",
    "#         safesearch (str, optional): on, moderate, off. Defaults to \"moderate\".\n",
    "#         time (Optional[str], optional): d, w, m. Defaults to None.\n",
    "#         resolution (Optional[str], optional): high, standart. Defaults to None.\n",
    "#         duration (Optional[str], optional): short, medium, long. Defaults to None.\n",
    "#         license_videos (Optional[str], optional): creativeCommon, youtube. Defaults to None.\n",
    "#         max_results (Optional[int], optional): maximum number of results, max=1000. Defaults to None.\n",
    "#             if max_results is set, then the parameter page is not taken into account.\n",
    "#         page (int, optional): page for pagination. Defaults to 1.\n",
    "#         output (Optional[str], optional): csv, json. Defaults to None.\n",
    "\n",
    "#     Returns:\n",
    "#         Optional[List[dict]]: DuckDuckGo videos search results\n",
    "#     \"\"\""
   ]
  },
  {
   "cell_type": "code",
   "execution_count": 23,
   "id": "f4685b74",
   "metadata": {},
   "outputs": [],
   "source": [
    "from duckduckgo_search import ddg_videos\n",
    "\n",
    "def ddgvid(search, num):\n",
    "\n",
    "\n",
    "    res = ddg_videos(search, region='wt-wt', safesearch='Off', time=None, resolution=None,\n",
    "               duration=None, license_videos=None, max_results=num, output=None)\n",
    "\n",
    "    return res"
   ]
  },
  {
   "cell_type": "code",
   "execution_count": 52,
   "id": "2b472988",
   "metadata": {},
   "outputs": [
    {
     "data": {
      "text/plain": [
       "'https://www.facebook.com/fifaworldcup/videos/maradonas-legendary-finale-in-naples-full-penalty-shootout-italy-v-argentina-199/593321189611131/'"
      ]
     },
     "execution_count": 52,
     "metadata": {},
     "output_type": "execute_result"
    }
   ],
   "source": [
    "test = ddgvid('fifa world cup final', 4)\n",
    "test[0]['content']"
   ]
  },
  {
   "cell_type": "code",
   "execution_count": null,
   "id": "f87225dd",
   "metadata": {},
   "outputs": [],
   "source": []
  },
  {
   "cell_type": "markdown",
   "id": "5f9aaada",
   "metadata": {},
   "source": [
    "### ddg_news() - news search by duckduckgo.com"
   ]
  },
  {
   "cell_type": "code",
   "execution_count": 24,
   "id": "fc29e3d4",
   "metadata": {},
   "outputs": [],
   "source": [
    "from duckduckgo_search import ddg_news\n",
    "\n",
    "def ddg_news(\n",
    "    keywords,\n",
    "    region=\"wt-wt\",\n",
    "    safesearch=\"moderate\",\n",
    "    time=None,\n",
    "    max_results=None,\n",
    "    page=1,\n",
    "    output=None,\n",
    "):\n",
    "    \"\"\"DuckDuckGo news search. Query params: https://duckduckgo.com/params\n",
    "\n",
    "    Args:\n",
    "        keywords (str): keywords for query.\n",
    "        region (str): wt-wt, us-en, uk-en, ru-ru, etc. Defaults to \"wt-wt\".\n",
    "        safesearch (str): on, moderate, off. Defaults to \"moderate\".\n",
    "        time (Optional[str], optional): d, w, m. Defaults to None.\n",
    "        max_results (Optional[int], optional): maximum number of results, max=240. Defaults to None.\n",
    "            if max_results is set, then the parameter page is not taken into account.\n",
    "        page (int, optional): page for pagination. Defaults to 1.\n",
    "        output (Optional[str], optional): csv, json. Defaults to None.\n",
    "\n",
    "    Returns:\n",
    "        Optional[List[dict]]: DuckDuckGo news search results.\n",
    "    \"\"\""
   ]
  },
  {
   "cell_type": "code",
   "execution_count": 25,
   "id": "bf28cee1",
   "metadata": {},
   "outputs": [],
   "source": [
    "from duckduckgo_search import ddg_news\n",
    "\n",
    "def ddgnews(search, num):\n",
    "\n",
    "    res = ddg_news(search, region='wt-wt', safesearch='Off', time='d', max_results=num, page=1, output=None)\n",
    "\n",
    "    return res"
   ]
  },
  {
   "cell_type": "code",
   "execution_count": 46,
   "id": "351f8dbc",
   "metadata": {},
   "outputs": [
    {
     "name": "stderr",
     "output_type": "stream",
     "text": [
      "WARNING:duckduckgo_search.duckduckgo_search:_get_url() https://duckduckgo.com/news.js HTTPStatusError Client error '403 Forbidden' for url 'https://duckduckgo.com/news.js?l=wt-wt&o=json&noamp=1&q=open%20ai%20new%20chatgpt%204&vqd=4-267362659413330781720834369329320765745&p=-2&df=d&s=0'\n",
      "For more information check: https://httpstatuses.com/403\n",
      "WARNING:duckduckgo_search.duckduckgo_search:_get_url() https://duckduckgo.com/news.js HTTPStatusError Client error '403 Forbidden' for url 'https://duckduckgo.com/news.js?l=wt-wt&o=json&noamp=1&q=open%20ai%20new%20chatgpt%204&vqd=4-267362659413330781720834369329320765745&p=-2&df=d&s=0'\n",
      "For more information check: https://httpstatuses.com/403\n",
      "WARNING:duckduckgo_search.duckduckgo_search:_get_url() https://duckduckgo.com/news.js HTTPStatusError Client error '403 Forbidden' for url 'https://duckduckgo.com/news.js?l=wt-wt&o=json&noamp=1&q=open%20ai%20new%20chatgpt%204&vqd=4-267362659413330781720834369329320765745&p=-2&df=d&s=0'\n",
      "For more information check: https://httpstatuses.com/403\n"
     ]
    },
    {
     "ename": "HTTPStatusError",
     "evalue": "Client error '403 Forbidden' for url 'https://duckduckgo.com/news.js?l=wt-wt&o=json&noamp=1&q=open%20ai%20new%20chatgpt%204&vqd=4-267362659413330781720834369329320765745&p=-2&df=d&s=0'\nFor more information check: https://httpstatuses.com/403",
     "output_type": "error",
     "traceback": [
      "\u001b[0;31m---------------------------------------------------------------------------\u001b[0m",
      "\u001b[0;31mHTTPStatusError\u001b[0m                           Traceback (most recent call last)",
      "Cell \u001b[0;32mIn [46], line 1\u001b[0m\n\u001b[0;32m----> 1\u001b[0m \u001b[43mddgnews\u001b[49m\u001b[43m(\u001b[49m\u001b[38;5;124;43m'\u001b[39;49m\u001b[38;5;124;43mopen ai new chatgpt 4\u001b[39;49m\u001b[38;5;124;43m'\u001b[39;49m\u001b[43m,\u001b[49m\u001b[43m \u001b[49m\u001b[38;5;241;43m1\u001b[39;49m\u001b[43m)\u001b[49m\n",
      "Cell \u001b[0;32mIn [25], line 5\u001b[0m, in \u001b[0;36mddgnews\u001b[0;34m(search, num)\u001b[0m\n\u001b[1;32m      3\u001b[0m \u001b[38;5;28;01mdef\u001b[39;00m \u001b[38;5;21mddgnews\u001b[39m(search, num):\n\u001b[0;32m----> 5\u001b[0m     res \u001b[38;5;241m=\u001b[39m \u001b[43mddg_news\u001b[49m\u001b[43m(\u001b[49m\u001b[43msearch\u001b[49m\u001b[43m,\u001b[49m\u001b[43m \u001b[49m\u001b[43mregion\u001b[49m\u001b[38;5;241;43m=\u001b[39;49m\u001b[38;5;124;43m'\u001b[39;49m\u001b[38;5;124;43mwt-wt\u001b[39;49m\u001b[38;5;124;43m'\u001b[39;49m\u001b[43m,\u001b[49m\u001b[43m \u001b[49m\u001b[43msafesearch\u001b[49m\u001b[38;5;241;43m=\u001b[39;49m\u001b[38;5;124;43m'\u001b[39;49m\u001b[38;5;124;43mOff\u001b[39;49m\u001b[38;5;124;43m'\u001b[39;49m\u001b[43m,\u001b[49m\u001b[43m \u001b[49m\u001b[43mtime\u001b[49m\u001b[38;5;241;43m=\u001b[39;49m\u001b[38;5;124;43m'\u001b[39;49m\u001b[38;5;124;43md\u001b[39;49m\u001b[38;5;124;43m'\u001b[39;49m\u001b[43m,\u001b[49m\u001b[43m \u001b[49m\u001b[43mmax_results\u001b[49m\u001b[38;5;241;43m=\u001b[39;49m\u001b[43mnum\u001b[49m\u001b[43m,\u001b[49m\u001b[43m \u001b[49m\u001b[43mpage\u001b[49m\u001b[38;5;241;43m=\u001b[39;49m\u001b[38;5;241;43m1\u001b[39;49m\u001b[43m,\u001b[49m\u001b[43m \u001b[49m\u001b[43moutput\u001b[49m\u001b[38;5;241;43m=\u001b[39;49m\u001b[38;5;28;43;01mNone\u001b[39;49;00m\u001b[43m)\u001b[49m\n\u001b[1;32m      7\u001b[0m     \u001b[38;5;28;01mreturn\u001b[39;00m res\n",
      "File \u001b[0;32m~/.local/lib/python3.10/site-packages/duckduckgo_search/compat.py:154\u001b[0m, in \u001b[0;36mddg_news\u001b[0;34m(keywords, region, safesearch, time, max_results, page, output)\u001b[0m\n\u001b[1;32m    151\u001b[0m     warnings\u001b[38;5;241m.\u001b[39mwarn(\u001b[38;5;124m\"\u001b[39m\u001b[38;5;124mparameter output is deprecated\u001b[39m\u001b[38;5;124m\"\u001b[39m)\n\u001b[1;32m    153\u001b[0m results \u001b[38;5;241m=\u001b[39m []\n\u001b[0;32m--> 154\u001b[0m \u001b[38;5;28;01mfor\u001b[39;00m r \u001b[38;5;129;01min\u001b[39;00m DDGS()\u001b[38;5;241m.\u001b[39mnews(\n\u001b[1;32m    155\u001b[0m     keywords\u001b[38;5;241m=\u001b[39mkeywords,\n\u001b[1;32m    156\u001b[0m     region\u001b[38;5;241m=\u001b[39mregion,\n\u001b[1;32m    157\u001b[0m     safesearch\u001b[38;5;241m=\u001b[39msafesearch,\n\u001b[1;32m    158\u001b[0m     timelimit\u001b[38;5;241m=\u001b[39mtime,\n\u001b[1;32m    159\u001b[0m ):\n\u001b[1;32m    160\u001b[0m     results\u001b[38;5;241m.\u001b[39mappend(r)\n\u001b[1;32m    161\u001b[0m     \u001b[38;5;28;01mif\u001b[39;00m (max_results \u001b[38;5;129;01mand\u001b[39;00m \u001b[38;5;28mlen\u001b[39m(results) \u001b[38;5;241m>\u001b[39m\u001b[38;5;241m=\u001b[39m max_results) \u001b[38;5;129;01mor\u001b[39;00m (\n\u001b[1;32m    162\u001b[0m         page \u001b[38;5;129;01mand\u001b[39;00m \u001b[38;5;28mlen\u001b[39m(results) \u001b[38;5;241m>\u001b[39m\u001b[38;5;241m=\u001b[39m \u001b[38;5;241m25\u001b[39m\n\u001b[1;32m    163\u001b[0m     ):\n",
      "File \u001b[0;32m~/.local/lib/python3.10/site-packages/duckduckgo_search/duckduckgo_search.py:569\u001b[0m, in \u001b[0;36mDDGS.news\u001b[0;34m(self, keywords, region, safesearch, timelimit)\u001b[0m\n\u001b[1;32m    567\u001b[0m cache \u001b[38;5;241m=\u001b[39m \u001b[38;5;28mset\u001b[39m()\n\u001b[1;32m    568\u001b[0m \u001b[38;5;28;01mfor\u001b[39;00m _ \u001b[38;5;129;01min\u001b[39;00m \u001b[38;5;28mrange\u001b[39m(\u001b[38;5;241m10\u001b[39m):\n\u001b[0;32m--> 569\u001b[0m     resp \u001b[38;5;241m=\u001b[39m \u001b[38;5;28;43mself\u001b[39;49m\u001b[38;5;241;43m.\u001b[39;49m\u001b[43m_get_url\u001b[49m\u001b[43m(\u001b[49m\n\u001b[1;32m    570\u001b[0m \u001b[43m        \u001b[49m\u001b[38;5;124;43m\"\u001b[39;49m\u001b[38;5;124;43mGET\u001b[39;49m\u001b[38;5;124;43m\"\u001b[39;49m\u001b[43m,\u001b[49m\u001b[43m \u001b[49m\u001b[38;5;124;43m\"\u001b[39;49m\u001b[38;5;124;43mhttps://duckduckgo.com/news.js\u001b[39;49m\u001b[38;5;124;43m\"\u001b[39;49m\u001b[43m,\u001b[49m\u001b[43m \u001b[49m\u001b[43mparams\u001b[49m\u001b[38;5;241;43m=\u001b[39;49m\u001b[43mpayload\u001b[49m\n\u001b[1;32m    571\u001b[0m \u001b[43m    \u001b[49m\u001b[43m)\u001b[49m\n\u001b[1;32m    572\u001b[0m     \u001b[38;5;28;01mif\u001b[39;00m resp \u001b[38;5;129;01mis\u001b[39;00m \u001b[38;5;28;01mNone\u001b[39;00m:\n\u001b[1;32m    573\u001b[0m         \u001b[38;5;28;01mbreak\u001b[39;00m\n",
      "File \u001b[0;32m~/.local/lib/python3.10/site-packages/duckduckgo_search/duckduckgo_search.py:89\u001b[0m, in \u001b[0;36mDDGS._get_url\u001b[0;34m(self, method, url, **kwargs)\u001b[0m\n\u001b[1;32m     87\u001b[0m         logger\u001b[38;5;241m.\u001b[39mwarning(\u001b[38;5;124mf\u001b[39m\u001b[38;5;124m\"\u001b[39m\u001b[38;5;124m_get_url() \u001b[39m\u001b[38;5;132;01m{\u001b[39;00murl\u001b[38;5;132;01m}\u001b[39;00m\u001b[38;5;124m \u001b[39m\u001b[38;5;132;01m{\u001b[39;00m\u001b[38;5;28mtype\u001b[39m(ex)\u001b[38;5;241m.\u001b[39m\u001b[38;5;18m__name__\u001b[39m\u001b[38;5;132;01m}\u001b[39;00m\u001b[38;5;124m \u001b[39m\u001b[38;5;132;01m{\u001b[39;00mex\u001b[38;5;132;01m}\u001b[39;00m\u001b[38;5;124m\"\u001b[39m)\n\u001b[1;32m     88\u001b[0m         \u001b[38;5;28;01mif\u001b[39;00m i \u001b[38;5;241m>\u001b[39m\u001b[38;5;241m=\u001b[39m \u001b[38;5;241m2\u001b[39m \u001b[38;5;129;01mor\u001b[39;00m \u001b[38;5;124m\"\u001b[39m\u001b[38;5;124m418\u001b[39m\u001b[38;5;124m\"\u001b[39m \u001b[38;5;129;01min\u001b[39;00m \u001b[38;5;28mstr\u001b[39m(ex):\n\u001b[0;32m---> 89\u001b[0m             \u001b[38;5;28;01mraise\u001b[39;00m ex\n\u001b[1;32m     90\u001b[0m     sleep(\u001b[38;5;241m3\u001b[39m)\n\u001b[1;32m     91\u001b[0m \u001b[38;5;28;01mreturn\u001b[39;00m \u001b[38;5;28;01mNone\u001b[39;00m\n",
      "File \u001b[0;32m~/.local/lib/python3.10/site-packages/duckduckgo_search/duckduckgo_search.py:83\u001b[0m, in \u001b[0;36mDDGS._get_url\u001b[0;34m(self, method, url, **kwargs)\u001b[0m\n\u001b[1;32m     81\u001b[0m \u001b[38;5;28;01mif\u001b[39;00m \u001b[38;5;28mself\u001b[39m\u001b[38;5;241m.\u001b[39m_is_500_in_url(\u001b[38;5;28mstr\u001b[39m(resp\u001b[38;5;241m.\u001b[39murl)) \u001b[38;5;129;01mor\u001b[39;00m resp\u001b[38;5;241m.\u001b[39mstatus_code \u001b[38;5;241m==\u001b[39m \u001b[38;5;241m202\u001b[39m:\n\u001b[1;32m     82\u001b[0m     \u001b[38;5;28;01mraise\u001b[39;00m httpx\u001b[38;5;241m.\u001b[39m_exceptions\u001b[38;5;241m.\u001b[39mHTTPError(\u001b[38;5;124m\"\u001b[39m\u001b[38;5;124m\"\u001b[39m)\n\u001b[0;32m---> 83\u001b[0m \u001b[43mresp\u001b[49m\u001b[38;5;241;43m.\u001b[39;49m\u001b[43mraise_for_status\u001b[49m\u001b[43m(\u001b[49m\u001b[43m)\u001b[49m\n\u001b[1;32m     84\u001b[0m \u001b[38;5;28;01mif\u001b[39;00m resp\u001b[38;5;241m.\u001b[39mstatus_code \u001b[38;5;241m==\u001b[39m \u001b[38;5;241m200\u001b[39m:\n\u001b[1;32m     85\u001b[0m     \u001b[38;5;28;01mreturn\u001b[39;00m resp\n",
      "File \u001b[0;32m~/.local/lib/python3.10/site-packages/httpx/_models.py:749\u001b[0m, in \u001b[0;36mResponse.raise_for_status\u001b[0;34m(self)\u001b[0m\n\u001b[1;32m    747\u001b[0m error_type \u001b[38;5;241m=\u001b[39m error_types\u001b[38;5;241m.\u001b[39mget(status_class, \u001b[38;5;124m\"\u001b[39m\u001b[38;5;124mInvalid status code\u001b[39m\u001b[38;5;124m\"\u001b[39m)\n\u001b[1;32m    748\u001b[0m message \u001b[38;5;241m=\u001b[39m message\u001b[38;5;241m.\u001b[39mformat(\u001b[38;5;28mself\u001b[39m, error_type\u001b[38;5;241m=\u001b[39merror_type)\n\u001b[0;32m--> 749\u001b[0m \u001b[38;5;28;01mraise\u001b[39;00m HTTPStatusError(message, request\u001b[38;5;241m=\u001b[39mrequest, response\u001b[38;5;241m=\u001b[39m\u001b[38;5;28mself\u001b[39m)\n",
      "\u001b[0;31mHTTPStatusError\u001b[0m: Client error '403 Forbidden' for url 'https://duckduckgo.com/news.js?l=wt-wt&o=json&noamp=1&q=open%20ai%20new%20chatgpt%204&vqd=4-267362659413330781720834369329320765745&p=-2&df=d&s=0'\nFor more information check: https://httpstatuses.com/403"
     ]
    }
   ],
   "source": [
    "ddgnews('open ai new chatgpt 4', 1)\n"
   ]
  },
  {
   "cell_type": "code",
   "execution_count": null,
   "id": "2fd42338",
   "metadata": {},
   "outputs": [],
   "source": []
  },
  {
   "cell_type": "markdown",
   "id": "23d049e7",
   "metadata": {},
   "source": [
    "### DDG search 'things' in a map"
   ]
  },
  {
   "cell_type": "code",
   "execution_count": 26,
   "id": "d1dcabe2",
   "metadata": {},
   "outputs": [
    {
     "ename": "SyntaxError",
     "evalue": "'(' was never closed (1575654791.py, line 3)",
     "output_type": "error",
     "traceback": [
      "\u001b[0;36m  Cell \u001b[0;32mIn [26], line 3\u001b[0;36m\u001b[0m\n\u001b[0;31m    def ddg_maps(\u001b[0m\n\u001b[0m                ^\u001b[0m\n\u001b[0;31mSyntaxError\u001b[0m\u001b[0;31m:\u001b[0m '(' was never closed\n"
     ]
    }
   ],
   "source": [
    "from duckduckgo_search import ddg_maps\n",
    "\n",
    "def ddg_maps(\n",
    "    \n",
    "    \"\"\"DuckDuckGo maps search. Query params: https://duckduckgo.com/params\n",
    "\n",
    "    Args:\n",
    "        keywords (str): keywords for query\n",
    "        place (Optional[str], optional): if set, the other parameters are not used. Defaults to None.\n",
    "        street (Optional[str], optional): house number/street. Defaults to None.\n",
    "        city (Optional[str], optional): city of search. Defaults to None.\n",
    "        county (Optional[str], optional): county of search. Defaults to None.\n",
    "        state (Optional[str], optional): state of search. Defaults to None.\n",
    "        country (Optional[str], optional): country of search. Defaults to None.\n",
    "        postalcode (Optional[str], optional): postalcode of search. Defaults to None.\n",
    "        latitude (Optional[str], optional): geographic coordinate (north–south position). Defaults to None.\n",
    "        longitude (Optional[str], optional): geographic coordinate (east–west position);\n",
    "            if latitude and longitude are set, the other parameters are not used. Defaults to None.\n",
    "        radius (int, optional): expand the search square by the distance in kilometers. Defaults to 0.\n",
    "        max_results (Optional[int], optional): maximum number of results. Defaults to None.\n",
    "        output (Optional[str], optional): csv, json. Defaults to None.\n",
    "\n",
    "    Returns:\n",
    "        Optional[List[dict]]: DuckDuckGo maps search results\n",
    "    \"\"\""
   ]
  },
  {
   "cell_type": "code",
   "execution_count": 27,
   "id": "8a51aa8b",
   "metadata": {},
   "outputs": [],
   "source": [
    "from duckduckgo_search import ddg_maps\n",
    "\n",
    "#     place=None,\n",
    "#     street=None,\n",
    "#     city=None,\n",
    "#     county=None,\n",
    "#     state=None,\n",
    "#     country=None,\n",
    "#     postalcode=None,\n",
    "#     latitude=None,\n",
    "#     longitude=None,\n",
    "#     radius=0,\n",
    "#     max_results=None,\n",
    "#     output=None, ):\n",
    "\n",
    "def DDGsearchmap(search, place, country, num):\n",
    "    \n",
    "    res = ddg_maps(search, place=place, country= country, max_results = num)\n",
    "\n",
    "    return res"
   ]
  },
  {
   "cell_type": "code",
   "execution_count": 36,
   "id": "77ad1039",
   "metadata": {},
   "outputs": [
    {
     "name": "stderr",
     "output_type": "stream",
     "text": [
      "/home/alanis/.local/lib/python3.10/site-packages/duckduckgo_search/compat.py:184: UserWarning: ddg_maps is deprecated. Use DDGS().maps() generator\n",
      "  warnings.warn(\"ddg_maps is deprecated. Use DDGS().maps() generator\")\n",
      "/home/alanis/.local/lib/python3.10/site-packages/duckduckgo_search/compat.py:186: UserWarning: parameter max_results is deprecated\n",
      "  warnings.warn(\"parameter max_results is deprecated\")\n"
     ]
    },
    {
     "data": {
      "text/plain": [
       "[{'title': \"Nando's Manchester - Arndale\",\n",
       "  'address': 'Unit R9, Manchester Arndale, High St, Unit R9, Arndale, Manchester, GB M4 3AQ',\n",
       "  'country_code': None,\n",
       "  'latitude': 53.48343,\n",
       "  'longitude': -2.240344,\n",
       "  'url': '',\n",
       "  'desc': None,\n",
       "  'phone': '+441618343073',\n",
       "  'image': None,\n",
       "  'source': 'https://www.tripadvisor.com/Restaurant_Review-g187069-d2001526-Reviews-Nando_s_Manchester_Arndale-Manchester_Greater_Manchester_England.html?m=63959',\n",
       "  'links': None,\n",
       "  'hours': {'Fri': '11:00:00–20:00:00',\n",
       "   'Mon': '11:00:00–19:00:00',\n",
       "   'Sat': '11:00:00–20:00:00',\n",
       "   'Sun': '11:30:00–18:00:00',\n",
       "   'Thu': '11:00:00–20:00:00',\n",
       "   'Tue': '11:00:00–20:00:00',\n",
       "   'Wed': '11:00:00–20:00:00',\n",
       "   'closes_soon': 0,\n",
       "   'is_open': 0,\n",
       "   'opens_soon': 0,\n",
       "   'state_switch_time': '11:00'}},\n",
       " {'title': 'Pan-n-Ice Manchester Arndale',\n",
       "  'address': 'Arndale Centre, Manchester, GB M4 3AQ',\n",
       "  'country_code': None,\n",
       "  'latitude': 53.483433,\n",
       "  'longitude': -2.241532,\n",
       "  'url': '',\n",
       "  'desc': None,\n",
       "  'phone': '+441618339851',\n",
       "  'image': None,\n",
       "  'source': 'https://www.tripadvisor.com/Restaurant_Review-g187069-d25223326-Reviews-Pan_n_Ice_Manchester_Arndale-Manchester_Greater_Manchester_England.html?m=63959',\n",
       "  'links': None,\n",
       "  'hours': {'Fri': '11:00:00–20:30:00',\n",
       "   'Mon': '11:00:00–20:30:00',\n",
       "   'Sat': '11:00:00–20:30:00',\n",
       "   'Sun': '11:30:00–17:30:00',\n",
       "   'Thu': '11:00:00–20:30:00',\n",
       "   'Tue': '11:00:00–20:30:00',\n",
       "   'Wed': '11:00:00–20:30:00',\n",
       "   'closes_soon': 0,\n",
       "   'is_open': 0,\n",
       "   'opens_soon': 0,\n",
       "   'state_switch_time': '11:00'}},\n",
       " {'title': 'AC Computer Warehouse',\n",
       "  'address': 'Unit 13, Chestergate, Stockport, SK3 0AL, England',\n",
       "  'country_code': 'GB',\n",
       "  'latitude': 53.4085853283992,\n",
       "  'longitude': -2.16881275177002,\n",
       "  'url': 'https://www.accomputerwarehouse.com',\n",
       "  'desc': None,\n",
       "  'phone': '+441614762220',\n",
       "  'image': None,\n",
       "  'source': 'https://maps.apple.com/place?q=AC+Computer+Warehouse&auid=15521503152529495139&address=Unit+13,+Chestergate,+Stockport,+SK3+0AL,+England&ll=53.408585328399155,-2.1688127517700195',\n",
       "  'links': None,\n",
       "  'hours': {'Fri': '09:30:00–17:00:00',\n",
       "   'Mon': '09:30:00–17:30:00',\n",
       "   'Sat': '10:00:00–14:00:00',\n",
       "   'Thu': '09:30:00–17:30:00',\n",
       "   'Tue': '09:30:00–17:30:00',\n",
       "   'Wed': '09:30:00–17:30:00',\n",
       "   'closes_soon': 0,\n",
       "   'is_open': 0,\n",
       "   'opens_soon': 0,\n",
       "   'state_switch_time': '09:30'}},\n",
       " {'title': 'SYNC',\n",
       "  'address': '63 Deansgate, City Centre, Manchester, M3 2BW, England',\n",
       "  'country_code': 'GB',\n",
       "  'latitude': 53.4825011,\n",
       "  'longitude': -2.2466183,\n",
       "  'url': 'https://www.wearesync.co.uk',\n",
       "  'desc': 'Shop your favourite Apple products at Sync, the Apple Authorised Reseller. Shop iPhone, iPad, Mac, Watch, and more. 0% finance with Klarna.',\n",
       "  'phone': '+443301595900',\n",
       "  'image': 'https://www.wearesync.co.uk/wp-content/uploads/2020/11/DT_SYNC_560-1024x683.jpg',\n",
       "  'source': 'http://yelp.com/biz/x7lr41UaVj1qK1dJV231pA',\n",
       "  'links': '',\n",
       "  'hours': {}}]"
      ]
     },
     "execution_count": 36,
     "metadata": {},
     "output_type": "execute_result"
    }
   ],
   "source": [
    "DDGsearchmap('computer shops', 'manchester', 'england', 4)"
   ]
  },
  {
   "cell_type": "code",
   "execution_count": null,
   "id": "31770b30",
   "metadata": {},
   "outputs": [],
   "source": []
  },
  {
   "cell_type": "markdown",
   "id": "080d9dd1",
   "metadata": {},
   "source": [
    "### ddg_translate() - translation by duckduckgo.com"
   ]
  },
  {
   "cell_type": "code",
   "execution_count": 34,
   "id": "c5f7ffb7",
   "metadata": {},
   "outputs": [],
   "source": [
    "from duckduckgo_search import ddg_translate\n",
    "\n",
    "def ddgtrans(words, lang):\n",
    "    \n",
    "    res = ddg_translate(words, to=lang)\n",
    "\n",
    "    return res"
   ]
  },
  {
   "cell_type": "code",
   "execution_count": 35,
   "id": "9f4f888f",
   "metadata": {},
   "outputs": [
    {
     "data": {
      "text/plain": [
       "{'detected_language': 'es',\n",
       " 'translated': \"Op vakansie, oor die naweek of na werk het jy vrye tyd om te oefen, 'n stokperdjie te neem of uit te gaan om pret te hê. As jy 'n atleet is en jy hou van die water wat jy kan swem, as jy van die sneeu hou, kan jy ski. As jy nie baie tyd het nie, kan jy hardloop of fietsry. Sommige mense verkies om tuis te bly om TV te kyk, videospeletjies te speel of op die internet te surf. Ander aktiwiteite om binnenshuis te doen wanneer dit reën of baie koud is, is om na jou gunsteling musiek te luister, 'n goeie boek te lees of 'n instrument te leer speel. U kan u vrye tyd benut om te studeer. As die weer goed is, wil jy dalk gaan inkopies doen, saam met vriende uitgaan om pret te hê, of tyd saam met die gesin spandeer iewers pret vir almal, soos 'n pretpark, teater of fliekteater. Om voordeel te trek uit vrye tyd is belangrik om 'n gelukkige lewe te hê.\",\n",
       " 'original': 'En vacaciones, el fin de semana o después del trabajo tienes tiempo libre para hacer ejercicio, llevar un pasatiempo o salir a divertirte.Si eres deportista y te gusta el agua puedes nadar, si te gusta la nieve puedes esquiar. Si no dispones de mucho tiempo puedes correr o ir en bicicleta.Hay quien prefiere quedarse en casa a ver la televisión, jugar videojuegos o navegar en Internet. Otras actividades para hacer dentro de casa cuando llueve o hace mucho frío son escuchar tu música favorita, leer un buen libro o aprender a tocar un instrumento. Puedes aprovechar tu tiempo libre para estudiar.Si el tiempo es bueno, tal vez quieras ir de compras, salir con amigos a divertirse o pasar tiempo con la familia en algún lugar divertido para todos, como un parque de diversiones, el teatro o el cine. Aprovechar el tiempo libre es importante para tener una vida feliz.'}"
      ]
     },
     "execution_count": 35,
     "metadata": {},
     "output_type": "execute_result"
    }
   ],
   "source": [
    "ddgtrans('En vacaciones, el fin de semana o después del trabajo tienes tiempo libre para hacer ejercicio, llevar un pasatiempo o salir a divertirte.Si eres deportista y te gusta el agua puedes nadar, si te gusta la nieve puedes esquiar. Si no dispones de mucho tiempo puedes correr o ir en bicicleta.Hay quien prefiere quedarse en casa a ver la televisión, jugar videojuegos o navegar en Internet. Otras actividades para hacer dentro de casa cuando llueve o hace mucho frío son escuchar tu música favorita, leer un buen libro o aprender a tocar un instrumento. Puedes aprovechar tu tiempo libre para estudiar.Si el tiempo es bueno, tal vez quieras ir de compras, salir con amigos a divertirse o pasar tiempo con la familia en algún lugar divertido para todos, como un parque de diversiones, el teatro o el cine. Aprovechar el tiempo libre es importante para tener una vida feliz.', 'af')"
   ]
  },
  {
   "cell_type": "code",
   "execution_count": null,
   "id": "26ec372c",
   "metadata": {},
   "outputs": [],
   "source": []
  },
  {
   "cell_type": "code",
   "execution_count": null,
   "id": "62aba668",
   "metadata": {},
   "outputs": [],
   "source": []
  },
  {
   "cell_type": "markdown",
   "id": "376f59cf",
   "metadata": {},
   "source": [
    "###  ddg_suggestions() - suggestions by duckduckgo.com"
   ]
  },
  {
   "cell_type": "code",
   "execution_count": 29,
   "id": "fcea0397",
   "metadata": {
    "scrolled": false
   },
   "outputs": [],
   "source": [
    "from duckduckgo_search import ddg_suggestions\n",
    "\n",
    "def ddg_suggestions(\n",
    "    keywords,\n",
    "    region=\"wt-wt\",\n",
    "    output=None,\n",
    "):\n",
    "    \"\"\"DuckDuckGo suggestions. Query params: https://duckduckgo.com/params\n",
    "    Args:\n",
    "        keywords (str): keywords for query.\n",
    "        region (str, optional): wt-wt, us-en, uk-en, ru-ru, etc. Defaults to \"wt-wt\".\n",
    "        output (Optional[str], optional): csv, json. Defaults to None.\n",
    "    Returns:\n",
    "        Optional[List[dict]]: DuckDuckGo suggestions results.\n",
    "    \"\"\""
   ]
  },
  {
   "cell_type": "code",
   "execution_count": 30,
   "id": "a1e7403c",
   "metadata": {},
   "outputs": [],
   "source": [
    "from duckduckgo_search import ddg_suggestions\n",
    "\n",
    "def ddgsugguest(search):\n",
    "    \n",
    "    res = ddg_suggestions(search, region='wt-wt',output=None)\n",
    "\n",
    "    return res"
   ]
  },
  {
   "cell_type": "code",
   "execution_count": 31,
   "id": "e7a2af49",
   "metadata": {},
   "outputs": [
    {
     "name": "stderr",
     "output_type": "stream",
     "text": [
      "/home/alanis/.local/lib/python3.10/site-packages/duckduckgo_search/compat.py:236: UserWarning: ddg_suggestions is deprecated. Use DDGS().suggestions() generator\n",
      "  warnings.warn(\"ddg_suggestions is deprecated. Use DDGS().suggestions() generator\")\n"
     ]
    },
    {
     "data": {
      "text/plain": [
       "[{'phrase': 'weight loss'},\n",
       " {'phrase': 'weight loss systems'},\n",
       " {'phrase': 'weight loss forum'},\n",
       " {'phrase': 'weight loss after tb treatment'},\n",
       " {'phrase': 'weight loss surgery cost'},\n",
       " {'phrase': 'weight loss surgery options'},\n",
       " {'phrase': 'weight loss surgery near me'},\n",
       " {'phrase': 'weight loss challenge'}]"
      ]
     },
     "execution_count": 31,
     "metadata": {},
     "output_type": "execute_result"
    }
   ],
   "source": [
    "ddgsugguest('weightloss')"
   ]
  },
  {
   "cell_type": "code",
   "execution_count": null,
   "id": "2d15f79e",
   "metadata": {},
   "outputs": [],
   "source": []
  }
 ],
 "metadata": {
  "kernelspec": {
   "display_name": "Python 3 (ipykernel)",
   "language": "python",
   "name": "python3"
  },
  "language_info": {
   "codemirror_mode": {
    "name": "ipython",
    "version": 3
   },
   "file_extension": ".py",
   "mimetype": "text/x-python",
   "name": "python",
   "nbconvert_exporter": "python",
   "pygments_lexer": "ipython3",
   "version": "3.10.6"
  },
  "toc": {
   "base_numbering": 1,
   "nav_menu": {},
   "number_sections": true,
   "sideBar": true,
   "skip_h1_title": false,
   "title_cell": "Table of Contents",
   "title_sidebar": "Contents",
   "toc_cell": false,
   "toc_position": {},
   "toc_section_display": true,
   "toc_window_display": false
  }
 },
 "nbformat": 4,
 "nbformat_minor": 5
}
