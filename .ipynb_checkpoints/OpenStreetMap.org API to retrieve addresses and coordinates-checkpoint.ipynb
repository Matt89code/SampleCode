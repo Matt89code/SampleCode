{
 "cells": [
  {
   "cell_type": "markdown",
   "id": "ec0ef009",
   "metadata": {},
   "source": [
    "# OpenStreetMap.org API to retrieve addresses and coordinates"
   ]
  },
  {
   "cell_type": "markdown",
   "id": "d13e45e2",
   "metadata": {},
   "source": [
    "### Website - https://www.openstreetmap.org/"
   ]
  },
  {
   "cell_type": "markdown",
   "id": "03f31f75",
   "metadata": {},
   "source": [
    "### API docs - https://nominatim.org/release-docs/develop/api/Overview/"
   ]
  },
  {
   "cell_type": "markdown",
   "id": "07d2a76b",
   "metadata": {},
   "source": [
    "# Search coordinates from a given address"
   ]
  },
  {
   "cell_type": "markdown",
   "id": "1adcbaa9",
   "metadata": {},
   "source": [
    "## Check response of API"
   ]
  },
  {
   "cell_type": "code",
   "execution_count": 3,
   "id": "ef7eed76",
   "metadata": {},
   "outputs": [],
   "source": [
    "import requests\n",
    "\n",
    "\n",
    "\n",
    "url = 'https://nominatim.openstreetmap.org/status.php'\n",
    "\n",
    "\n",
    "\n",
    "response = requests.get(url)"
   ]
  },
  {
   "cell_type": "code",
   "execution_count": 4,
   "id": "db344d58",
   "metadata": {},
   "outputs": [
    {
     "data": {
      "text/plain": [
       "<Response [200]>"
      ]
     },
     "execution_count": 4,
     "metadata": {},
     "output_type": "execute_result"
    }
   ],
   "source": [
    "response"
   ]
  },
  {
   "cell_type": "markdown",
   "id": "980fd438",
   "metadata": {},
   "source": [
    "## Find Coordinates from an given address!  -- note the address doesn't have to be perfect for the to return a result. But higher chance of inaccuracies"
   ]
  },
  {
   "cell_type": "code",
   "execution_count": 6,
   "id": "736af69f",
   "metadata": {},
   "outputs": [],
   "source": [
    "import requests\n",
    "\n",
    "def findcoords(address):\n",
    "\n",
    "    url1 = \"https://nominatim.openstreetmap.org\"\n",
    "    params = {\n",
    "\n",
    "        'q': address,\n",
    "\n",
    "        'format': 'json'\n",
    "\n",
    "    }\n",
    "    response1 = requests.get(url1, params=params).json() # TEXT -> [] / {}\n",
    "\n",
    "    return (response1[0]['lat'], response1[0]['lon'])"
   ]
  },
  {
   "cell_type": "code",
   "execution_count": 7,
   "id": "accd24fd",
   "metadata": {},
   "outputs": [
    {
     "data": {
      "text/plain": [
       "('51.5034927', '-0.12770540128798905')"
      ]
     },
     "execution_count": 7,
     "metadata": {},
     "output_type": "execute_result"
    }
   ],
   "source": [
    "findcoords('10 downing street, london')"
   ]
  },
  {
   "cell_type": "markdown",
   "id": "8a109103",
   "metadata": {},
   "source": [
    "## Find Address from coordinates"
   ]
  },
  {
   "cell_type": "code",
   "execution_count": 9,
   "id": "d7b495cb",
   "metadata": {},
   "outputs": [],
   "source": [
    "def reverse_coordinates(lat,lon):\n",
    "\n",
    "    url2 = \"https://nominatim.openstreetmap.org/reverse\"\n",
    "\n",
    "    params2 = {\n",
    "\n",
    "        'lat': lat,\n",
    "\n",
    "        'lon': lon,\n",
    "\n",
    "        'format' : 'json'\n",
    "\n",
    "    }\n",
    "\n",
    "    \n",
    "\n",
    "    response1 = requests.get(url2, params=params2).json()\n",
    "\n",
    "    return response1"
   ]
  },
  {
   "cell_type": "code",
   "execution_count": 10,
   "id": "c6e48c61",
   "metadata": {},
   "outputs": [
    {
     "data": {
      "text/plain": [
       "{'place_id': 339910544,\n",
       " 'licence': 'Data © OpenStreetMap contributors, ODbL 1.0. https://osm.org/copyright',\n",
       " 'osm_type': 'relation',\n",
       " 'osm_id': 1879842,\n",
       " 'lat': '51.5034927',\n",
       " 'lon': '-0.12770540128798905',\n",
       " 'display_name': '10 Downing Street, 10, Downing Street, Westminster, Covent Garden, London, Greater London, England, SW1A 2AA, United Kingdom',\n",
       " 'address': {'office': '10 Downing Street',\n",
       "  'house_number': '10',\n",
       "  'road': 'Downing Street',\n",
       "  'quarter': 'Westminster',\n",
       "  'suburb': 'Covent Garden',\n",
       "  'city': 'London',\n",
       "  'state_district': 'Greater London',\n",
       "  'state': 'England',\n",
       "  'ISO3166-2-lvl4': 'GB-ENG',\n",
       "  'postcode': 'SW1A 2AA',\n",
       "  'country': 'United Kingdom',\n",
       "  'country_code': 'gb'},\n",
       " 'boundingbox': ['51.5033124', '51.5037076', '-0.1278335', '-0.1272891']}"
      ]
     },
     "execution_count": 10,
     "metadata": {},
     "output_type": "execute_result"
    }
   ],
   "source": [
    "reverse_coordinates(51.5034927,-0.1277054012)"
   ]
  },
  {
   "cell_type": "code",
   "execution_count": null,
   "id": "d4638394",
   "metadata": {},
   "outputs": [],
   "source": []
  }
 ],
 "metadata": {
  "kernelspec": {
   "display_name": "Python 3 (ipykernel)",
   "language": "python",
   "name": "python3"
  },
  "language_info": {
   "codemirror_mode": {
    "name": "ipython",
    "version": 3
   },
   "file_extension": ".py",
   "mimetype": "text/x-python",
   "name": "python",
   "nbconvert_exporter": "python",
   "pygments_lexer": "ipython3",
   "version": "3.10.6"
  },
  "toc": {
   "base_numbering": 1,
   "nav_menu": {},
   "number_sections": true,
   "sideBar": true,
   "skip_h1_title": false,
   "title_cell": "Table of Contents",
   "title_sidebar": "Contents",
   "toc_cell": false,
   "toc_position": {},
   "toc_section_display": true,
   "toc_window_display": false
  }
 },
 "nbformat": 4,
 "nbformat_minor": 5
}
