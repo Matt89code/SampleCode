{
 "cells": [
  {
   "cell_type": "markdown",
   "id": "7678ee86",
   "metadata": {},
   "source": [
    "# Return scaler between two points"
   ]
  },
  {
   "cell_type": "code",
   "execution_count": 2,
   "id": "6f245306",
   "metadata": {},
   "outputs": [],
   "source": [
    "def distance(x1, y1, x2, y2):\n",
    "    return math.sqrt((x2 - x1)**2 + (y2 - y1)**2)"
   ]
  },
  {
   "cell_type": "markdown",
   "id": "f423a520",
   "metadata": {},
   "source": [
    "# Return distance in coordinates between two points"
   ]
  },
  {
   "cell_type": "code",
   "execution_count": 3,
   "id": "4e7a40db",
   "metadata": {},
   "outputs": [],
   "source": [
    "def distance(lat1, lon1, lat2, lon2):\n",
    "    \n",
    "    \n",
    "    lat1 = lat1 * 69\n",
    "    lon1 = lon1 * 54.6\n",
    "    lat2 = lat2 * 69\n",
    "    lon2 = lon2 * 54.6\n",
    "    # calculate distance\n",
    "    distance_in_miles = ((lat2 - lat1)**2 + (lon2 - lon1)**2)**0.5\n",
    "    #if unit == miles:\n",
    "       # return distance \n",
    "    #else: distance = distance * 0.62137119223\n",
    "    return distance_in_miles"
   ]
  },
  {
   "cell_type": "code",
   "execution_count": 4,
   "id": "6747e2ac",
   "metadata": {},
   "outputs": [
    {
     "data": {
      "text/plain": [
       "(69.03347309410819,)"
      ]
     },
     "execution_count": 4,
     "metadata": {},
     "output_type": "execute_result"
    }
   ],
   "source": [
    "distance(53.20858075053053,-0.5463588459604918,52.22919705921687,-0.28805518744061615), "
   ]
  },
  {
   "cell_type": "code",
   "execution_count": null,
   "id": "6cdecda1",
   "metadata": {},
   "outputs": [],
   "source": []
  }
 ],
 "metadata": {
  "kernelspec": {
   "display_name": "Python 3 (ipykernel)",
   "language": "python",
   "name": "python3"
  },
  "language_info": {
   "codemirror_mode": {
    "name": "ipython",
    "version": 3
   },
   "file_extension": ".py",
   "mimetype": "text/x-python",
   "name": "python",
   "nbconvert_exporter": "python",
   "pygments_lexer": "ipython3",
   "version": "3.10.6"
  },
  "toc": {
   "base_numbering": 1,
   "nav_menu": {},
   "number_sections": true,
   "sideBar": true,
   "skip_h1_title": false,
   "title_cell": "Table of Contents",
   "title_sidebar": "Contents",
   "toc_cell": false,
   "toc_position": {},
   "toc_section_display": true,
   "toc_window_display": false
  }
 },
 "nbformat": 4,
 "nbformat_minor": 5
}
